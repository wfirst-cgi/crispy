{
 "cells": [
  {
   "cell_type": "markdown",
   "metadata": {},
   "source": [
    "# Load things up"
   ]
  },
  {
   "cell_type": "code",
   "execution_count": 1,
   "metadata": {
    "ExecuteTime": {
     "end_time": "2019-04-19T14:04:11.967527Z",
     "start_time": "2019-04-19T14:04:10.899829Z"
    }
   },
   "outputs": [
    {
     "name": "stdout",
     "output_type": "stream",
     "text": [
      "Populating the interactive namespace from numpy and matplotlib\n"
     ]
    }
   ],
   "source": [
    "import numpy as np\n",
    "import glob\n",
    "%pylab inline --no-import-all\n",
    "plt.rc('font', family='serif', serif='Times',size=20)\n",
    "plt.rc('text', usetex=True)\n",
    "plt.rc('xtick', labelsize=20)\n",
    "plt.rc('xtick.major', size=10)\n",
    "plt.rc('ytick.major', size=10)\n",
    "plt.rc('ytick', labelsize=20)\n",
    "plt.rc('axes', labelsize=20)\n",
    "plt.rc('figure',titlesize=20)\n",
    "plt.rc('image',origin='lower',interpolation='nearest')\n",
    "\n",
    "from astropy.io import fits\n",
    "import sys\n",
    "import os"
   ]
  },
  {
   "cell_type": "code",
   "execution_count": 2,
   "metadata": {
    "ExecuteTime": {
     "end_time": "2019-04-19T14:04:12.907112Z",
     "start_time": "2019-04-19T14:04:12.896199Z"
    },
    "collapsed": true
   },
   "outputs": [],
   "source": [
    "from crispy.tools.initLogger import getLogger\n",
    "log = getLogger('crispy')\n",
    "os.chdir('/Users/mrizzo/IFS/crispy/crispy/HCIFS/')"
   ]
  },
  {
   "cell_type": "code",
   "execution_count": 3,
   "metadata": {
    "ExecuteTime": {
     "end_time": "2019-04-19T14:04:14.685605Z",
     "start_time": "2019-04-19T14:04:14.656763Z"
    }
   },
   "outputs": [
    {
     "data": {
      "text/plain": [
       "SIMPLE  =                    T / conforms to FITS standard                      \n",
       "BITPIX  =                    8 / array data type                                \n",
       "NAXIS   =                    0 / number of array dimensions                     \n",
       "EXTEND  =                    T                                                  \n",
       "COMMENT                                                                         \n",
       "COMMENT ************************************************************            \n",
       "COMMENT ********************** General parameters ******************            \n",
       "COMMENT ************************************************************            \n",
       "COMMENT                                                                         \n",
       "NLENS   =                  107 / # lenslets across array                        \n",
       "PITCH   =            8.572E-05 / Lenslet pitch (meters)                         \n",
       "INTERLAC=                  2.0 / Interlacing                                    \n",
       "PHILENS =    26.56505117707799 / Rotation angle of the lenslets (deg)           \n",
       "PIXSIZE =             6.45E-06 / Pixel size (meters)                            \n",
       "LENSAMP =                  0.5 / Lenslet sampling (lam/D)                       \n",
       "LSAMPWAV=                660.0 / Lenslet sampling wavelength (nm)               \n",
       "FWHM    =                  2.0 / FHWM of PSFLet at detector (pixels)            \n",
       "FWHMLAM =                660.0 / Wavelength at which FWHM is defined (nm)       \n",
       "NPIX    =                 1024 / Number of detector pixels                      \n",
       "BW      =                 0.18 / Bandwidth                                      \n",
       "PIXPRLAM=                  2.0 / Pixels per resolution element                  \n",
       "RESLSTSQ=                  2.0 / Nspec per Nyq. sample for lstsq extraction     \n",
       "R       =                   50 / Spectral resolution                            "
      ]
     },
     "execution_count": 3,
     "metadata": {},
     "output_type": "execute_result"
    }
   ],
   "source": [
    "from params import Params\n",
    "par = Params()\n",
    "par.hdr"
   ]
  },
  {
   "cell_type": "markdown",
   "metadata": {},
   "source": [
    "# Load files"
   ]
  },
  {
   "cell_type": "code",
   "execution_count": 4,
   "metadata": {
    "ExecuteTime": {
     "end_time": "2019-04-19T14:04:17.008127Z",
     "start_time": "2019-04-19T14:04:16.987192Z"
    }
   },
   "outputs": [
    {
     "name": "stdout",
     "output_type": "stream",
     "text": [
      "crispy - INFO - ['/Users/mrizzo/IFS/HCIFS/Flats2/channel01_flat(1).fits', '/Users/mrizzo/IFS/HCIFS/Flats2/channel02_flat(1).fits', '/Users/mrizzo/IFS/HCIFS/Flats2/channel03_flat(1).fits', '/Users/mrizzo/IFS/HCIFS/Flats2/channel04_flat(1).fits', '/Users/mrizzo/IFS/HCIFS/Flats2/channel05_flat(1).fits', '/Users/mrizzo/IFS/HCIFS/Flats2/channel06_flat(1).fits', '/Users/mrizzo/IFS/HCIFS/Flats2/channel07_flat(1).fits', '/Users/mrizzo/IFS/HCIFS/Flats2/channel08_flat(1).fits', '/Users/mrizzo/IFS/HCIFS/Flats2/channel09_flat(1).fits', '/Users/mrizzo/IFS/HCIFS/Flats2/channel10_flat(1).fits', '/Users/mrizzo/IFS/HCIFS/Flats2/channel11_flat(1).fits']\n",
      "crispy - INFO - [550.0, 577.0, 600.0, 620.0, 632.8, 640.0, 650.0, 670.0, 694.3, 720.0, 740.0]\n"
     ]
    }
   ],
   "source": [
    "# note that I changed the filenames to make sure they sort in the way I expect\n",
    "folder = '/Users/mrizzo/IFS/HCIFS/Flats2/'\n",
    "file_list = os.listdir(folder)\n",
    "file_list.sort()\n",
    "orig_filelist = [folder+val for val in file_list[:-1]]\n",
    "par.lamlist = [550.,577.,600.,620.,632.8,640.,650.,670.,694.3,720.,740.]\n",
    "\n",
    "log.info(orig_filelist)\n",
    "log.info(par.lamlist)"
   ]
  },
  {
   "cell_type": "markdown",
   "metadata": {},
   "source": [
    "# Flip the x axis of the images in order for the dispersion direction to go from left to right as the wavelength increases"
   ]
  },
  {
   "cell_type": "code",
   "execution_count": 5,
   "metadata": {
    "ExecuteTime": {
     "end_time": "2019-04-19T14:04:20.046272Z",
     "start_time": "2019-04-19T14:04:18.408930Z"
    }
   },
   "outputs": [
    {
     "name": "stdout",
     "output_type": "stream",
     "text": [
      "crispy - INFO - ['..//ReferenceFiles/wavecalHCIFS/channel01_flat(1).fits', '..//ReferenceFiles/wavecalHCIFS/channel02_flat(1).fits', '..//ReferenceFiles/wavecalHCIFS/channel03_flat(1).fits', '..//ReferenceFiles/wavecalHCIFS/channel04_flat(1).fits', '..//ReferenceFiles/wavecalHCIFS/channel05_flat(1).fits', '..//ReferenceFiles/wavecalHCIFS/channel06_flat(1).fits', '..//ReferenceFiles/wavecalHCIFS/channel07_flat(1).fits', '..//ReferenceFiles/wavecalHCIFS/channel08_flat(1).fits', '..//ReferenceFiles/wavecalHCIFS/channel09_flat(1).fits', '..//ReferenceFiles/wavecalHCIFS/channel10_flat(1).fits', '..//ReferenceFiles/wavecalHCIFS/channel11_flat(1).fits']\n"
     ]
    }
   ],
   "source": [
    "par.filelist = []\n",
    "for fname in orig_filelist:\n",
    "    img = fits.getdata(fname)[:,::-1]\n",
    "    new_fname = par.wavecalDir+fname.split('/')[-1]\n",
    "    fits.writeto(new_fname,img,overwrite=True)\n",
    "    par.filelist.append(new_fname)\n",
    "log.info(par.filelist)"
   ]
  },
  {
   "cell_type": "code",
   "execution_count": 6,
   "metadata": {
    "ExecuteTime": {
     "end_time": "2019-04-19T14:08:15.199146Z",
     "start_time": "2019-04-19T14:04:21.801467Z"
    }
   },
   "outputs": [
    {
     "name": "stdout",
     "output_type": "stream",
     "text": [
      "crispy - INFO - Building calibration files, placing results in ..//ReferenceFiles/wavecalHCIFS/\n",
      "crispy - INFO - Read data from HDU 0 of ..//ReferenceFiles/wavecalHCIFS/channel01_flat(1).fits\n",
      "crispy - INFO - Read data from HDU 0 of ..//ReferenceFiles/wavecalHCIFS/channel01_flat(1).fits\n",
      "crispy - INFO - Mean, median, std: (2.790538370328687, 2.6699999999998454, 3.4030098257172874)\n",
      "crispy - INFO - Initializing PSFlet location transformation coefficients\n",
      "crispy - INFO - Performing initial optimization of PSFlet location transformation coefficients for frame ..//ReferenceFiles/wavecalHCIFS/channel01_flat(1).fits\n",
      "crispy - INFO - Array origin: (514.0898162762572, 513.5843386631885)\n",
      "crispy - INFO - Performing final optimization of PSFlet location transformation coefficients for frame ..//ReferenceFiles/wavecalHCIFS/channel01_flat(1).fits\n",
      "crispy - INFO - Array origin: (514.3461855366253, 513.6141252146438)\n",
      "crispy - INFO - Read data from HDU 0 of ..//ReferenceFiles/wavecalHCIFS/channel02_flat(1).fits\n",
      "crispy - INFO - Mean, median, std: (2.283183086730052, 2.1599999999998545, 3.402757393011309)\n",
      "crispy - INFO - Initializing transformation coefficients with previous values\n",
      "crispy - INFO - Performing final optimization of PSFlet location transformation coefficients for frame ..//ReferenceFiles/wavecalHCIFS/channel02_flat(1).fits\n",
      "crispy - INFO - Array origin: (519.4298115385161, 513.538340825793)\n",
      "crispy - INFO - Read data from HDU 0 of ..//ReferenceFiles/wavecalHCIFS/channel03_flat(1).fits\n",
      "crispy - INFO - Mean, median, std: (2.9245157890805356, 2.7799999999999727, 3.4609556489139424)\n",
      "crispy - INFO - Initializing transformation coefficients with previous values\n",
      "crispy - INFO - Performing final optimization of PSFlet location transformation coefficients for frame ..//ReferenceFiles/wavecalHCIFS/channel03_flat(1).fits\n",
      "crispy - INFO - Array origin: (523.4396793578135, 513.5029616199923)\n",
      "crispy - INFO - Read data from HDU 0 of ..//ReferenceFiles/wavecalHCIFS/channel04_flat(1).fits\n",
      "crispy - INFO - Mean, median, std: (3.2379649443474747, 3.0699999999999363, 3.566550549646079)\n",
      "crispy - INFO - Initializing transformation coefficients with previous values\n",
      "crispy - INFO - Performing final optimization of PSFlet location transformation coefficients for frame ..//ReferenceFiles/wavecalHCIFS/channel04_flat(1).fits\n",
      "crispy - INFO - Array origin: (526.8997612791361, 513.46770308347)\n",
      "crispy - INFO - Read data from HDU 0 of ..//ReferenceFiles/wavecalHCIFS/channel05_flat(1).fits\n",
      "crispy - INFO - Mean, median, std: (0.772352147681751, 0.7100000000000364, 3.156769407317331)\n",
      "crispy - INFO - Initializing transformation coefficients with previous values\n",
      "crispy - INFO - Performing final optimization of PSFlet location transformation coefficients for frame ..//ReferenceFiles/wavecalHCIFS/channel05_flat(1).fits\n",
      "crispy - INFO - Array origin: (528.6993027959633, 513.4588983726326)\n",
      "crispy - INFO - Read data from HDU 0 of ..//ReferenceFiles/wavecalHCIFS/channel06_flat(1).fits\n",
      "crispy - INFO - Mean, median, std: (3.000264206228176, 2.8300000000001546, 3.556077062032809)\n",
      "crispy - INFO - Initializing transformation coefficients with previous values\n",
      "crispy - INFO - Performing final optimization of PSFlet location transformation coefficients for frame ..//ReferenceFiles/wavecalHCIFS/channel06_flat(1).fits\n",
      "crispy - INFO - Array origin: (530.140520074911, 513.4480008166826)\n",
      "crispy - INFO - Read data from HDU 0 of ..//ReferenceFiles/wavecalHCIFS/channel07_flat(1).fits\n",
      "crispy - INFO - Mean, median, std: (3.0548864923415477, 2.910000000000082, 3.483264627622313)\n",
      "crispy - INFO - Initializing transformation coefficients with previous values\n",
      "crispy - INFO - Performing final optimization of PSFlet location transformation coefficients for frame ..//ReferenceFiles/wavecalHCIFS/channel07_flat(1).fits\n",
      "crispy - INFO - Array origin: (531.6860512739053, 513.4371954490588)\n",
      "crispy - INFO - Read data from HDU 0 of ..//ReferenceFiles/wavecalHCIFS/channel08_flat(1).fits\n",
      "crispy - INFO - Mean, median, std: (2.994635023069268, 2.8500000000001364, 3.44086134036208)\n",
      "crispy - INFO - Initializing transformation coefficients with previous values\n",
      "crispy - INFO - Performing final optimization of PSFlet location transformation coefficients for frame ..//ReferenceFiles/wavecalHCIFS/channel08_flat(1).fits\n",
      "crispy - INFO - Array origin: (534.8945893759981, 513.4206822066981)\n",
      "crispy - INFO - Read data from HDU 0 of ..//ReferenceFiles/wavecalHCIFS/channel09_flat(1).fits\n",
      "crispy - INFO - Mean, median, std: (2.7915855557532607, 2.650000000000091, 3.4681495672236573)\n",
      "crispy - INFO - Initializing transformation coefficients with previous values\n",
      "crispy - INFO - Performing final optimization of PSFlet location transformation coefficients for frame ..//ReferenceFiles/wavecalHCIFS/channel09_flat(1).fits\n",
      "crispy - INFO - Array origin: (538.2163422959978, 513.4027984876226)\n",
      "crispy - INFO - Read data from HDU 0 of ..//ReferenceFiles/wavecalHCIFS/channel10_flat(1).fits\n",
      "crispy - INFO - Mean, median, std: (3.9617959156181533, 3.759999999999991, 3.691144235762916)\n",
      "crispy - INFO - Initializing transformation coefficients with previous values\n",
      "crispy - INFO - Performing final optimization of PSFlet location transformation coefficients for frame ..//ReferenceFiles/wavecalHCIFS/channel10_flat(1).fits\n",
      "crispy - INFO - Array origin: (541.8333960876778, 513.3896787023647)\n",
      "crispy - INFO - Read data from HDU 0 of ..//ReferenceFiles/wavecalHCIFS/channel11_flat(1).fits\n",
      "crispy - INFO - Mean, median, std: (3.5626399374741533, 3.3999999999998636, 3.568703637220995)\n",
      "crispy - INFO - Initializing transformation coefficients with previous values\n",
      "crispy - INFO - Performing final optimization of PSFlet location transformation coefficients for frame ..//ReferenceFiles/wavecalHCIFS/channel11_flat(1).fits\n",
      "crispy - INFO - Array origin: (544.6076483929382, 513.381644754416)\n",
      "crispy - INFO - Saving wavelength solution to ..//ReferenceFiles/wavecalHCIFS/lamsol.dat\n",
      "crispy - INFO - Computing wavelength values at pixel centers\n",
      "crispy - INFO - Reduced cube will have 29 wavelength bins\n",
      "crispy - INFO - Saving wavelength calibration cube\n",
      "crispy - INFO - Total time elapsed: 232 s\n"
     ]
    }
   ],
   "source": [
    "from crispy.tools.wavecal import buildcalibrations\n",
    "buildcalibrations(par,\n",
    "                    inspect=True,         # if True, constructs a bunch of images to verify a good calibration\n",
    "                    inspect_first=True,         # if True, constructs an image to verify a good calibration\n",
    "                    genwavelengthsol=True, # Compute wavelength at the center of all pixels\n",
    "                    makehiresPSFlets=True, # this requires very high SNR on the monochromatic frames\n",
    "                    makePSFWidths=True,\n",
    "                    makePolychrome=True,   # This is needed to use least squares extraction\n",
    "                    upsample=3,            # upsampling factor of the high-resolution PSFLets\n",
    "                    nsubarr=3,             # the detector is divided into nsubarr^2 regions for PSFLet averaging\n",
    "                    apodize=False,          # to match PSFlet spot locations, only use the inner circular part of the \n",
    "                                           #detector, hence discarding the corners of the detector where lenslets are \n",
    "                                           #distorted\n",
    "                    finecal=False\n",
    "                  ) "
   ]
  },
  {
   "cell_type": "code",
   "execution_count": 35,
   "metadata": {
    "ExecuteTime": {
     "end_time": "2019-04-19T14:25:28.526257Z",
     "start_time": "2019-04-19T14:25:25.748232Z"
    }
   },
   "outputs": [
    {
     "name": "stdout",
     "output_type": "stream",
     "text": [
      "crispy - INFO - Read data from HDU 0 of ..//ReferenceFiles/wavecalHCIFS/channel06_flat(1).fits\n",
      "crispy - INFO - Mean, median, std: (3.000264206228176, 2.8300000000001546, 3.556077062032809)\n",
      "crispy - INFO - Reduced cube will have 29 wavelength bins\n",
      "crispy - WARNING - No PSFLet widths found - assuming critical samping at central wavelength\n",
      "crispy - INFO - Elapsed time: 2.768274s\n"
     ]
    }
   ],
   "source": [
    "from crispy.IFS import reduceIFSMap\n",
    "cube = reduceIFSMap(par,par.filelist[5],\n",
    "                        method='sum',medsub=False\n",
    "                       )"
   ]
  },
  {
   "cell_type": "markdown",
   "metadata": {},
   "source": [
    "# Some analysis of the extracted cube"
   ]
  },
  {
   "cell_type": "code",
   "execution_count": 31,
   "metadata": {
    "ExecuteTime": {
     "end_time": "2019-04-19T14:21:10.886793Z",
     "start_time": "2019-04-19T14:21:10.856453Z"
    },
    "collapsed": true
   },
   "outputs": [],
   "source": [
    "from scipy.optimize import curve_fit\n",
    "import numpy as np\n",
    "import matplotlib.pyplot as plt\n",
    "import matplotlib as mpl\n",
    "from astropy.io import fits\n",
    "from scipy import interpolate\n",
    "\n",
    "def gauss(x, a, x0, sig,b,c):\n",
    "    '''\n",
    "    Simple gaussian function with usual inputs\n",
    "    '''\n",
    "    return c+b*x+a*np.exp(-(x-x0)**2/(2.*sig**2))\n",
    "    \n",
    "\n",
    "def fit_monochromatic_cube( cube,\n",
    "                            lamlist,\n",
    "                            returnAll = False,\n",
    "                            sigma_guess = 5):\n",
    "    '''\n",
    "    Fits an extracted data cube with a gaussian to find the wavelength peak\n",
    "    \n",
    "    Parameters\n",
    "    ----------\n",
    "    cube: 3D ndarray\n",
    "        The extracted datacube where all bad pixels are NaNs\n",
    "    lamlist: 1D array\n",
    "        List of wavelengths corresponding to the slices of the cube\n",
    "        Suggested units: nanometers (in which sigma_guess is about 5)\n",
    "    returnAll: boolean\n",
    "        If True, return the full results of the curve fit function (popt,pcov)\n",
    "        If False, return only the central wavelength (Default)\n",
    "    sigma_guess: float\n",
    "        Guess at the width of the gaussian fit in same units as lamlist (Default 5)\n",
    "    '''\n",
    "    vals = np.nanmean(cube,axis=(1,2))\n",
    "    popt, pcov = curve_fit( gauss,\n",
    "                            lamlist,\n",
    "                            vals,\n",
    "                            p0=[np.amax(vals),lamlist[np.argmax(vals)],sigma_guess,0,0]\n",
    "                            )\n",
    "    if returnAll: return popt,pcov\n",
    "    else: return popt[1]\n",
    "\n",
    "\n",
    "    ## to reconstruct gaussian function, use;\n",
    "    # gauss(lamlist,*popt)\n",
    "\n",
    "def plotfit(cube,lamlist):\n",
    "    vals = np.nanmean(cube,axis=(1,2))\n",
    "    popt, pcov = fit_monochromatic_cube(cube,lamlist,returnAll=True)\n",
    "    curve_vals = gauss(lamlist, *popt)\n",
    "    print popt[1]\n",
    "    plt.figure(figsize=(10,10))\n",
    "    plt.plot(lamlist,curve_vals,label='Fitted')\n",
    "    plt.plot(lamlist,vals,label='Data')\n",
    "    plt.legend()\n"
   ]
  },
  {
   "cell_type": "code",
   "execution_count": 32,
   "metadata": {
    "ExecuteTime": {
     "end_time": "2019-04-19T14:21:12.661814Z",
     "start_time": "2019-04-19T14:21:12.389499Z"
    }
   },
   "outputs": [
    {
     "name": "stdout",
     "output_type": "stream",
     "text": [
      "crispy - INFO - Reduced cube will have 29 wavelength bins\n",
      "[ 2.20921732  2.24793108  2.2636155   2.22509734  2.22640262  2.2907836\n",
      "  2.38484392  2.5196726   2.78336765  3.60501625  4.15379466  4.33397786\n",
      "  6.15626477 14.00778507 27.88233981 24.86046927 11.25152104  5.33326661\n",
      "  3.17837708  2.35381454  2.11378861  1.97701401  1.988612    1.98934215\n",
      "  2.02580478  2.09479108  2.13492592  2.23366451  2.2768853 ]\n",
      "640.4851973581765\n"
     ]
    },
    {
     "data": {
      "image/png": "[encoded data removed]",
      "text/plain": [
       "<matplotlib.figure.Figure at 0x1c20a91a10>"
      ]
     },
     "metadata": {},
     "output_type": "display_data"
    }
   ],
   "source": [
    "from crispy.tools.reduction import calculateWaveList\n",
    "lam_midpts,lam_endpts = calculateWaveList(par,method='optext')\n",
    "plotfit(cube.data,lam_midpts)"
   ]
  },
  {
   "cell_type": "code",
   "execution_count": 33,
   "metadata": {
    "ExecuteTime": {
     "end_time": "2019-04-19T14:22:42.498096Z",
     "start_time": "2019-04-19T14:22:42.486838Z"
    }
   },
   "outputs": [
    {
     "name": "stdout",
     "output_type": "stream",
     "text": [
      "Expected Wavelength: 640.0\n",
      "Measured Wavelength after extraction: 640.4851973581765\n"
     ]
    }
   ],
   "source": [
    "log.info(\"Expected wavelength:\",par.lamlist[5])\n",
    "log.info(\"Measured mean wavelength after extraction:\",fit_monochromatic_cube(cube.data,lam_midpts))"
   ]
  },
  {
   "cell_type": "code",
   "execution_count": 36,
   "metadata": {
    "ExecuteTime": {
     "end_time": "2019-04-20T16:49:13.001282Z",
     "start_time": "2019-04-20T16:49:12.879780Z"
    }
   },
   "outputs": [
    {
     "name": "stdout",
     "output_type": "stream",
     "text": [
      "crispy - INFO - [550.  577.  600.  620.  632.8 640.  650.  670.  694.3 720.  740. ]\n",
      "crispy - INFO - [ 5.28699303e+02  1.21103371e+01 -2.66977922e-02  5.18853952e-05\n",
      " -5.82616628e+00  7.66217760e-03 -3.77157241e-05 -2.04574213e-02\n",
      "  4.59146323e-05 -1.89136158e-05  5.13458898e+02  6.02230589e+00\n",
      "  6.97245896e-05  1.67325729e-06  1.19043451e+01 -5.80152814e-05\n",
      "  6.60126760e-07  1.99188871e-04  1.00529545e-06  2.49811677e-06]\n"
     ]
    }
   ],
   "source": [
    "lamsol = np.loadtxt(par.wavecalDir + \"lamsol.dat\")[:, 0]\n",
    "allcoef = np.loadtxt(par.wavecalDir + \"lamsol.dat\")[:, 1:]\n",
    "log.info(lamsol)\n",
    "log.info(allcoef[4])"
   ]
  },
  {
   "cell_type": "code",
   "execution_count": 38,
   "metadata": {
    "ExecuteTime": {
     "end_time": "2019-04-20T16:50:38.581109Z",
     "start_time": "2019-04-20T16:50:38.548018Z"
    }
   },
   "outputs": [
    {
     "name": "stdout",
     "output_type": "stream",
     "text": [
      "[[ 1.76620729e+03 -8.67300272e+01  1.22766728e+00  4.22321507e-02\n",
      "  -2.80159321e+01 -5.09876623e-01 -1.39630291e-02  1.24336373e+00\n",
      "   4.18636119e-02  5.39421698e-02  1.94394462e+03  4.63670528e+01\n",
      "  -1.42508255e+00 -3.98257092e-03 -8.12043934e+01  1.95790753e-01\n",
      "   2.88563145e-03 -5.53403887e-01 -1.53222338e-01  4.11222778e-02]\n",
      " [-8.65271781e+02  4.44795150e+01 -5.87285902e-01 -1.93965015e-02\n",
      "   1.16486049e+01  2.35051585e-01  5.89833233e-03 -5.94804180e-01\n",
      "  -1.96758862e-02 -2.54500156e-02 -6.49350253e+02 -1.87035902e+01\n",
      "   6.56977294e-01  1.85239544e-03  4.31982411e+01 -9.10583375e-02\n",
      "  -1.45174796e-03  2.52409629e-01  7.08166887e-02 -1.91906068e-02]\n",
      " [ 1.63228426e+02 -6.65921308e+00  9.14286246e-02  2.97181935e-03\n",
      "  -2.00959247e+00 -3.54678280e-02 -8.25827808e-04  9.31314680e-02\n",
      "   3.08239521e-03  3.99843489e-03  9.83046854e+01  2.89071804e+00\n",
      "  -1.00937296e-01 -2.87160176e-04 -6.67881733e+00  1.41156445e-02\n",
      "   2.40945548e-04 -3.83387285e-02 -1.09089154e-02  2.98399700e-03]\n",
      " [-9.11915911e+00  3.31626988e-01 -4.73295706e-03 -1.51704959e-04\n",
      "   1.14261028e-01  1.77758010e-03  3.81518137e-05 -4.85159063e-03\n",
      "  -1.60782726e-04 -2.09265340e-04 -4.96355501e+00 -1.48946400e-01\n",
      "   5.16849184e-03  1.48426955e-05  3.44104265e-01 -7.29571913e-04\n",
      "  -1.32110604e-05  1.93990909e-03  5.60096030e-04 -1.54590515e-04]]\n",
      "516.5622159946337\n",
      "507.4366605295757\n"
     ]
    }
   ],
   "source": [
    "from crispy.tools.locate_psflets import PSFLets,transform\n",
    "\n",
    "xindx = np.arange(-par.nlens / 2, par.nlens / 2)\n",
    "xindx, yindx = np.meshgrid(xindx, xindx)\n",
    "\n",
    "psftool = PSFLets()\n",
    "psftool.geninterparray(lamsol, allcoef)\n",
    "print(psftool.interp_arr)\n",
    "x,y = psftool.return_locations(lamsol[4], allcoef, xindx, yindx)\n",
    "x,y = transform(xindx, yindx, 3, allcoef[4])\n",
    "print(x[par.nlens//2,par.nlens//2+1])\n",
    "print(y[par.nlens//2,par.nlens//2+1])"
   ]
  },
  {
   "cell_type": "code",
   "execution_count": 39,
   "metadata": {
    "ExecuteTime": {
     "end_time": "2019-04-20T16:50:55.368193Z",
     "start_time": "2019-04-20T16:50:55.329937Z"
    }
   },
   "outputs": [
    {
     "ename": "SyntaxError",
     "evalue": "invalid syntax (<ipython-input-39-00c4c2fa2a40>, line 1)",
     "output_type": "error",
     "traceback": [
      "\u001b[0;36m  File \u001b[0;32m\"<ipython-input-39-00c4c2fa2a40>\"\u001b[0;36m, line \u001b[0;32m1\u001b[0m\n\u001b[0;31m    [[ 1.76620729e+03 -8.67300272e+01  1.22766728e+00  4.22321507e-02\u001b[0m\n\u001b[0m                                                    ^\u001b[0m\n\u001b[0;31mSyntaxError\u001b[0m\u001b[0;31m:\u001b[0m invalid syntax\n"
     ]
    }
   ],
   "source": []
  }
 ],
 "metadata": {
  "kernelspec": {
   "display_name": "Python 2",
   "language": "python",
   "name": "python2"
  },
  "latex_envs": {
   "LaTeX_envs_menu_present": true,
   "autoclose": false,
   "autocomplete": true,
   "bibliofile": "biblio.bib",
   "cite_by": "apalike",
   "current_citInitial": 1,
   "eqLabelWithNumbers": true,
   "eqNumInitial": 1,
   "hotkeys": {
    "equation": "Ctrl-E",
    "itemize": "Ctrl-I"
   },
   "labels_anchors": false,
   "latex_user_defs": false,
   "report_style_numbering": false,
   "user_envs_cfg": false
  },
  "toc": {
   "nav_menu": {},
   "number_sections": true,
   "sideBar": true,
   "skip_h1_title": false,
   "title_cell": "Table of Contents",
   "title_sidebar": "Contents",
   "toc_cell": false,
   "toc_position": {},
   "toc_section_display": true,
   "toc_window_display": false
  },
  "varInspector": {
   "cols": {
    "lenName": 16,
    "lenType": 16,
    "lenVar": 40
   },
   "kernels_config": {
    "python": {
     "delete_cmd_postfix": "",
     "delete_cmd_prefix": "del ",
     "library": "var_list.py",
     "varRefreshCmd": "print(var_dic_list())"
    },
    "r": {
     "delete_cmd_postfix": ") ",
     "delete_cmd_prefix": "rm(",
     "library": "var_list.r",
     "varRefreshCmd": "cat(var_dic_list()) "
    }
   },
   "types_to_exclude": [
    "module",
    "function",
    "builtin_function_or_method",
    "instance",
    "_Feature"
   ],
   "window_display": false
  }
 },
 "nbformat": 4,
 "nbformat_minor": 2
}
