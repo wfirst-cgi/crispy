{
 "cells": [
  {
   "cell_type": "markdown",
   "metadata": {},
   "source": [
    "# PISCES wavelength calibration"
   ]
  },
  {
   "cell_type": "markdown",
   "metadata": {},
   "source": [
    "We have PISCES VARIA calibration sets. We will show how to process them to build a new wavelength calibration"
   ]
  },
  {
   "cell_type": "code",
   "execution_count": 1,
   "metadata": {
    "ExecuteTime": {
     "end_time": "2018-09-18T18:02:03.854552Z",
     "start_time": "2018-09-18T18:02:02.699602Z"
    }
   },
   "outputs": [
    {
     "name": "stdout",
     "output_type": "stream",
     "text": [
      "Populating the interactive namespace from numpy and matplotlib\n"
     ]
    }
   ],
   "source": [
    "import numpy as np\n",
    "import glob\n",
    "from astropy.io import fits\n",
    "%pylab inline --no-import-all\n",
    "plt.rc('font', family='serif', serif='Times',size=20)\n",
    "plt.rc('text', usetex=True)\n",
    "plt.rc('xtick', labelsize=20)\n",
    "plt.rc('xtick.major', size=10)\n",
    "plt.rc('ytick.major', size=10)\n",
    "plt.rc('ytick', labelsize=20)\n",
    "plt.rc('axes', labelsize=20)\n",
    "plt.rc('figure',titlesize=20)\n",
    "plt.rc('image',origin='lower',interpolation='nearest')\n",
    "\n",
    "import sys\n",
    "import os"
   ]
  },
  {
   "cell_type": "markdown",
   "metadata": {},
   "source": [
    "### Import crispy-related stuff"
   ]
  },
  {
   "cell_type": "code",
   "execution_count": 2,
   "metadata": {
    "ExecuteTime": {
     "end_time": "2018-09-18T18:02:03.879610Z",
     "start_time": "2018-09-18T18:02:03.857237Z"
    }
   },
   "outputs": [
    {
     "data": {
      "text/plain": [
       "SIMPLE  =                    T / conforms to FITS standard                      \n",
       "BITPIX  =                    8 / array data type                                \n",
       "NAXIS   =                    0 / number of array dimensions                     \n",
       "EXTEND  =                    T                                                  \n",
       "COMMENT                                                                         \n",
       "COMMENT ************************************************************            \n",
       "COMMENT ********************** General parameters ******************            \n",
       "COMMENT ************************************************************            \n",
       "COMMENT                                                                         \n",
       "NLENS   =                  108 / # lenslets across array                        \n",
       "PITCH   =             0.000174 / Lenslet pitch (meters)                         \n",
       "INTERLAC=                    2 / Interlacing                                    \n",
       "PHILENS =    26.56505117707799 / Rotation angle of the lenslets (deg)           \n",
       "PIXSIZE =              1.3E-05 / Pixel size (meters)                            \n",
       "LENSAMP =                  0.5 / Lenslet sampling (lam/D)                       \n",
       "LSAMPWAV=                600.0 / Lenslet sampling wavelength (nm)               \n",
       "FWHM    =                    2 / FHWM of PSFLet at detector (pixels)            \n",
       "FWHMLAM =                660.0 / Wavelength at which FWHM is defined (nm)       \n",
       "NPIX    =                 1024 / Number of detector pixels                      \n",
       "DISPDIST=                    F / Use PISCES distortion/dispersion?              "
      ]
     },
     "execution_count": 2,
     "metadata": {},
     "output_type": "execute_result"
    }
   ],
   "source": [
    "os.chdir('/Users/mrizzo/IFS/crispy/crispy/PISCES/')\n",
    "\n",
    "import logging as log\n",
    "from crispy.tools.initLogger import getLogger\n",
    "log = getLogger('crispy')\n",
    "from crispy.tools.image import Image\n",
    "from params import Params\n",
    "par = Params()\n",
    "par.hdr"
   ]
  },
  {
   "cell_type": "code",
   "execution_count": 3,
   "metadata": {
    "ExecuteTime": {
     "end_time": "2018-09-18T18:02:03.886756Z",
     "start_time": "2018-09-18T18:02:03.882543Z"
    }
   },
   "outputs": [
    {
     "name": "stdout",
     "output_type": "stream",
     "text": [
      "..//ReferenceFiles/Calibra_170425/\n"
     ]
    }
   ],
   "source": [
    "print par.wavecalDir"
   ]
  },
  {
   "cell_type": "markdown",
   "metadata": {},
   "source": [
    "## Build wavelength calibration files"
   ]
  },
  {
   "cell_type": "code",
   "execution_count": 4,
   "metadata": {
    "ExecuteTime": {
     "end_time": "2018-09-18T18:06:09.087243Z",
     "start_time": "2018-09-18T18:02:03.888924Z"
    },
    "scrolled": false
   },
   "outputs": [
    {
     "name": "stdout",
     "output_type": "stream",
     "text": [
      "crispy - INFO - Building calibration files, placing results in ..//ReferenceFiles/Calibra_170425/\n",
      "crispy - INFO - Read data from HDU 1 of ..//ReferenceFiles/Calibra_170425/det605.0.fits\n",
      "crispy - INFO - Implementing experimental fine calibration method - watch out for bugs!\n",
      "crispy - INFO - Read data from HDU 1 of ..//ReferenceFiles/Calibra_170425/det605.0.fits\n",
      "crispy - INFO - Mean, median, std: (1.7852975606661181, 1.6666666, 4.5486891138405223)\n",
      "crispy - INFO - Initializing PSFlet location transformation coefficients\n",
      "crispy - INFO - Performing initial optimization of PSFlet location transformation coefficients for frame ..//ReferenceFiles/Calibra_170425/det605.0.fits\n",
      "crispy - INFO - Array origin: (527.50655119890325, 514.91290760048366)\n",
      "crispy - INFO - Performing final optimization of PSFlet location transformation coefficients for frame ..//ReferenceFiles/Calibra_170425/det605.0.fits\n",
      "crispy - INFO - Array origin: (527.48566231222105, 515.00559834994999)\n",
      "crispy - INFO - Finding individual centroids (experimental)\n",
      "crispy - INFO - Read data from HDU 1 of ..//ReferenceFiles/Calibra_170425/det615.0.fits\n",
      "crispy - INFO - Mean, median, std: (2.1281638513602763, 2.0, 4.6534002700117671)\n",
      "crispy - INFO - Initializing transformation coefficients with previous values\n",
      "crispy - INFO - Performing final optimization of PSFlet location transformation coefficients for frame ..//ReferenceFiles/Calibra_170425/det615.0.fits\n",
      "crispy - INFO - Array origin: (529.92675102801002, 515.0026293123384)\n",
      "crispy - INFO - Finding individual centroids (experimental)\n",
      "crispy - INFO - Read data from HDU 1 of ..//ReferenceFiles/Calibra_170425/det625.0.fits\n",
      "crispy - INFO - Mean, median, std: (1.8978732521733286, 1.6666666, 4.5907811677485384)\n",
      "crispy - INFO - Initializing transformation coefficients with previous values\n",
      "crispy - INFO - Performing final optimization of PSFlet location transformation coefficients for frame ..//ReferenceFiles/Calibra_170425/det625.0.fits\n",
      "crispy - INFO - Array origin: (532.22786132016245, 515.00220739926931)\n",
      "crispy - INFO - Finding individual centroids (experimental)\n",
      "crispy - INFO - Read data from HDU 1 of ..//ReferenceFiles/Calibra_170425/det635.0.fits\n",
      "crispy - INFO - Mean, median, std: (1.9568034072485887, 1.6666666, 4.5996239984159057)\n",
      "crispy - INFO - Initializing transformation coefficients with previous values\n",
      "crispy - INFO - Performing final optimization of PSFlet location transformation coefficients for frame ..//ReferenceFiles/Calibra_170425/det635.0.fits\n",
      "crispy - INFO - Array origin: (534.5339319980701, 515.00155274520273)\n",
      "crispy - INFO - Finding individual centroids (experimental)\n",
      "crispy - INFO - Read data from HDU 1 of ..//ReferenceFiles/Calibra_170425/det645.0.fits\n",
      "crispy - INFO - Mean, median, std: (1.9505166011577519, 1.6666666, 4.6423411341073919)\n",
      "crispy - INFO - Initializing transformation coefficients with previous values\n",
      "crispy - INFO - Performing final optimization of PSFlet location transformation coefficients for frame ..//ReferenceFiles/Calibra_170425/det645.0.fits\n",
      "crispy - INFO - Array origin: (536.7971068240787, 515.00639958413001)\n",
      "crispy - INFO - Finding individual centroids (experimental)\n",
      "crispy - INFO - Read data from HDU 1 of ..//ReferenceFiles/Calibra_170425/det655.0.fits\n",
      "crispy - INFO - Mean, median, std: (2.125893796982488, 2.0, 4.7077294794403182)\n",
      "crispy - INFO - Initializing transformation coefficients with previous values\n",
      "crispy - INFO - Performing final optimization of PSFlet location transformation coefficients for frame ..//ReferenceFiles/Calibra_170425/det655.0.fits\n",
      "crispy - INFO - Array origin: (539.03147742554495, 515.01209190201598)\n",
      "crispy - INFO - Finding individual centroids (experimental)\n",
      "crispy - INFO - Read data from HDU 1 of ..//ReferenceFiles/Calibra_170425/det665.0.fits\n",
      "crispy - INFO - Mean, median, std: (2.2303744686391718, 2.0, 4.745559854717321)\n",
      "crispy - INFO - Initializing transformation coefficients with previous values\n",
      "crispy - INFO - Performing final optimization of PSFlet location transformation coefficients for frame ..//ReferenceFiles/Calibra_170425/det665.0.fits\n",
      "crispy - INFO - Array origin: (541.1618696248114, 515.0201126636)\n",
      "crispy - INFO - Finding individual centroids (experimental)\n",
      "crispy - INFO - Read data from HDU 1 of ..//ReferenceFiles/Calibra_170425/det675.0.fits\n",
      "crispy - INFO - Mean, median, std: (2.2821432170717166, 2.0, 4.7427284130764571)\n",
      "crispy - INFO - Initializing transformation coefficients with previous values\n",
      "crispy - INFO - Performing final optimization of PSFlet location transformation coefficients for frame ..//ReferenceFiles/Calibra_170425/det675.0.fits\n",
      "crispy - INFO - Array origin: (543.24100792821309, 515.02872239961766)\n",
      "crispy - INFO - Finding individual centroids (experimental)\n",
      "crispy - INFO - Read data from HDU 1 of ..//ReferenceFiles/Calibra_170425/det685.0.fits\n",
      "crispy - INFO - Mean, median, std: (2.3503837223919177, 2.0, 4.7777746600949955)\n",
      "crispy - INFO - Initializing transformation coefficients with previous values\n",
      "crispy - INFO - Performing final optimization of PSFlet location transformation coefficients for frame ..//ReferenceFiles/Calibra_170425/det685.0.fits\n",
      "crispy - INFO - Array origin: (545.27576109446159, 515.03673759827848)\n",
      "crispy - INFO - Finding individual centroids (experimental)\n",
      "crispy - INFO - Read data from HDU 1 of ..//ReferenceFiles/Calibra_170425/det695.0.fits\n",
      "crispy - INFO - Mean, median, std: (2.1625546661825248, 2.0, 4.710305659273236)\n",
      "crispy - INFO - Initializing transformation coefficients with previous values\n",
      "crispy - INFO - Performing final optimization of PSFlet location transformation coefficients for frame ..//ReferenceFiles/Calibra_170425/det695.0.fits\n",
      "crispy - INFO - Array origin: (547.30851340485447, 515.0455349822771)\n",
      "crispy - INFO - Finding individual centroids (experimental)\n",
      "crispy - INFO - Read data from HDU 1 of ..//ReferenceFiles/Calibra_170425/det705.0.fits\n",
      "crispy - INFO - Mean, median, std: (2.3787035435173416, 2.0, 4.7768380673988959)\n",
      "crispy - INFO - Initializing transformation coefficients with previous values\n",
      "crispy - INFO - Performing final optimization of PSFlet location transformation coefficients for frame ..//ReferenceFiles/Calibra_170425/det705.0.fits\n",
      "crispy - INFO - Array origin: (549.2778881054071, 515.05535340419203)\n",
      "crispy - INFO - Finding individual centroids (experimental)\n",
      "crispy - INFO - Read data from HDU 1 of ..//ReferenceFiles/Calibra_170425/det715.0.fits\n",
      "crispy - INFO - Mean, median, std: (2.0863134962805527, 1.6666666269302368, 4.6738401141184349)\n",
      "crispy - INFO - Initializing transformation coefficients with previous values\n",
      "crispy - INFO - Performing final optimization of PSFlet location transformation coefficients for frame ..//ReferenceFiles/Calibra_170425/det715.0.fits\n",
      "crispy - INFO - Array origin: (551.16784175998384, 515.06506174318429)\n",
      "crispy - INFO - Finding individual centroids (experimental)\n",
      "crispy - INFO - Read data from HDU 1 of ..//ReferenceFiles/Calibra_170425/det725.0.fits\n",
      "crispy - INFO - Mean, median, std: (2.1925070420885886, 2.0, 4.707440869450993)\n",
      "crispy - INFO - Initializing transformation coefficients with previous values\n",
      "crispy - INFO - Performing final optimization of PSFlet location transformation coefficients for frame ..//ReferenceFiles/Calibra_170425/det725.0.fits\n",
      "crispy - INFO - Array origin: (553.04266264045009, 515.07882898251626)\n",
      "crispy - INFO - Finding individual centroids (experimental)\n",
      "crispy - INFO - Saving wavelength solution to ..//ReferenceFiles/Calibra_170425/lamsol.dat\n",
      "crispy - INFO - Exporting fine calibration products...\n",
      "crispy - INFO - Computing wavelength values at pixel centers\n",
      "crispy - INFO - Making high-resolution PSFLet models\n",
      "crispy - INFO - Starting parallel computation\n",
      "crispy - INFO - Computing PSFLet widths...\n",
      "crispy - INFO - Reduced cube will have 25 wavelength bins\n",
      "crispy - INFO - Making polychrome cube\n",
      "crispy - INFO - Saving polychrome cube\n",
      "crispy - INFO - Saving wavelength calibration cube\n",
      "crispy - INFO - Total time elapsed: 244 s\n"
     ]
    }
   ],
   "source": [
    "# We need to run the calibration for the first time\n",
    "from crispy.tools.wavecal import buildcalibrations\n",
    "par.gaussian_hires=False # since par.gaussian_hires is False, it will attempt to make high-resolution PSFLets\n",
    "par.lamlist = np.arange(605.,730.,10)\n",
    "par.filelist = [par.wavecalDir+'det'+str(wav)+'.fits' for wav in par.lamlist]\n",
    "buildcalibrations(par,\n",
    "                    inspect=False,\n",
    "                    inspect_first=False,\n",
    "                    genwavelengthsol=True, # Compute wavelength at the center of all pixels\n",
    "                    makehiresPSFlets=True, # this requires very high SNR on the monochromatic frames\n",
    "                    makePolychrome=True,   # This is needed to use least squares extraction\n",
    "                    makePSFWidths=True,    # Fit PSF widths from high-res PSFLet models\n",
    "                    upsample=3,            # upsampling factor of the high-resolution PSFLets\n",
    "                    nsubarr=4,             # the detector is divided into nsubarr^2 regions for PSFLet averaging\n",
    "                    apodize=False,          # to match PSFlet spot locations, only use the inner circular part of the \n",
    "                                           #detector, hence discarding the corners of the detector where lenslets are \n",
    "                                           #distorted\n",
    "                    finecal=True,\n",
    "                    trimfrac=0.0,\n",
    "                  ) "
   ]
  },
  {
   "cell_type": "code",
   "execution_count": 5,
   "metadata": {
    "ExecuteTime": {
     "end_time": "2018-09-18T18:06:09.112330Z",
     "start_time": "2018-09-18T18:06:09.090918Z"
    }
   },
   "outputs": [
    {
     "name": "stdout",
     "output_type": "stream",
     "text": [
      "crispy - INFO - Reduced cube will have 25 wavelength bins\n",
      "('Wavelengths at midpoints for lstsq (nm): ', array([ 607.19337906,  611.60402176,  616.04670331,  620.52165641,\n",
      "        625.0291155 ,  629.56931671,  634.14249785,  638.74889851,\n",
      "        643.38875999,  648.06232535,  652.76983941,  657.51154877,\n",
      "        662.28770183,  667.09854879,  671.94434166,  676.8253343 ,\n",
      "        681.74178238,  686.69394346,  691.68207695,  696.70644417,\n",
      "        701.7673083 ,  706.86493447,  711.99958972,  717.17154301,\n",
      "        722.38106529]))\n",
      "('Wavelengths at endpoints for lstsq (nm): ', array([ 605.        ,  609.39471004,  613.82134317,  618.2801313 ,\n",
      "        622.77130799,  627.29510852,  631.85176985,  636.4415307 ,\n",
      "        641.0646315 ,  645.72131443,  650.41182342,  655.13640419,\n",
      "        659.89530425,  664.68877287,  669.51706117,  674.38042207,\n",
      "        679.27911035,  684.21338262,  689.18349737,  694.18971494,\n",
      "        699.2322976 ,  704.31150949,  709.4276167 ,  714.58088722,\n",
      "        719.77159102,  725.        ]))\n",
      "crispy - INFO - Reduced cube will have 25 wavelength bins\n",
      "('Wavelengths at midpoints for optext (nm): ', array([ 607.19337906,  611.60402176,  616.04670331,  620.52165641,\n",
      "        625.0291155 ,  629.56931671,  634.14249785,  638.74889851,\n",
      "        643.38875999,  648.06232535,  652.76983941,  657.51154877,\n",
      "        662.28770183,  667.09854879,  671.94434166,  676.8253343 ,\n",
      "        681.74178238,  686.69394346,  691.68207695,  696.70644417,\n",
      "        701.7673083 ,  706.86493447,  711.99958972,  717.17154301,\n",
      "        722.38106529]))\n",
      "('Wavelengths at endpoints for optext (nm): ', array([ 605.        ,  609.39471004,  613.82134317,  618.2801313 ,\n",
      "        622.77130799,  627.29510852,  631.85176985,  636.4415307 ,\n",
      "        641.0646315 ,  645.72131443,  650.41182342,  655.13640419,\n",
      "        659.89530425,  664.68877287,  669.51706117,  674.38042207,\n",
      "        679.27911035,  684.21338262,  689.18349737,  694.18971494,\n",
      "        699.2322976 ,  704.31150949,  709.4276167 ,  714.58088722,\n",
      "        719.77159102,  725.        ]))\n"
     ]
    }
   ],
   "source": [
    "#par.lamlist = np.arange(615.,720.,10)\n",
    "\n",
    "from crispy.tools.reduction import calculateWaveList\n",
    "lam_midpts,lam_endpts = calculateWaveList(par,method='lstsq')\n",
    "print('Wavelengths at midpoints for lstsq (nm): ',lam_midpts)\n",
    "print('Wavelengths at endpoints for lstsq (nm): ',lam_endpts)\n",
    "lam_midpts,lam_endpts = calculateWaveList(par,method='optext')\n",
    "print('Wavelengths at midpoints for optext (nm): ',lam_midpts)\n",
    "print('Wavelengths at endpoints for optext (nm): ',lam_endpts)"
   ]
  },
  {
   "cell_type": "markdown",
   "metadata": {},
   "source": [
    "## Monochromatic updates"
   ]
  },
  {
   "cell_type": "raw",
   "metadata": {
    "ExecuteTime": {
     "end_time": "2018-04-10T14:37:40.049521Z",
     "start_time": "2018-04-10T14:37:39.932797Z"
    }
   },
   "source": [
    "from crispy.tools.wavecal import monochromatic_update\n",
    "from crispy.tools.image import Image\n",
    "# let's pretend that we got a new file\n",
    "# inImage = Image(par.codeRoot+\"/Inputs/Flat637.fits\")\n",
    "# inLam = 637.\n",
    "inImage = Image(par.wavecalDir+'det685.0.fits')\n",
    "inLam=685.\n",
    "\n",
    "# this adjusts the wavecal\n",
    "monochromatic_update(par,inImage,inLam,apodize=True)\n",
    "# but you still have to re-run buildcalibrations each time\n",
    "from crispy.tools.wavecal import buildcalibrations\n",
    "par.gaussian_hires=False # since par.gaussian_hires is False, it will attempt to make high-resolution PSFLets\n",
    "par.lamlist = np.arange(605.,730.,10)\n",
    "par.filelist = [par.wavecalDir+'det'+str(wav)+'.fits' for wav in par.lamlist]\n",
    "buildcalibrations(par,\n",
    "                    inspect=True,\n",
    "                    genwavelengthsol=False, # already done before\n",
    "                    makehiresPSFlets=False, # already done\n",
    "                    makePolychrome=True, # update the polychrome with the new wavecal!\n",
    "                    upsample=3,\n",
    "                    nsubarr=4\n",
    "                 )\n",
    "\n",
    "\n"
   ]
  },
  {
   "cell_type": "markdown",
   "metadata": {},
   "source": [
    "## Construct new flatfield from monochromatic wavelengths"
   ]
  },
  {
   "cell_type": "code",
   "execution_count": 6,
   "metadata": {
    "ExecuteTime": {
     "end_time": "2018-09-18T18:06:09.254078Z",
     "start_time": "2018-09-18T18:06:09.115227Z"
    },
    "collapsed": true
   },
   "outputs": [],
   "source": [
    "par.lamlist = np.arange(605.,730.,10)\n",
    "par.filelist = [par.wavecalDir+'det'+str(wav)+'.fits' for wav in par.lamlist]\n",
    "data = fits.getdata(par.filelist[0])\n",
    "for i in range(1,len(par.filelist)-1):\n",
    "    data += fits.getdata(par.filelist[i])\n",
    "out = fits.HDUList(fits.PrimaryHDU(data.astype(np.float32)))\n",
    "out.writeto('/Users/mrizzo/Downloads/newflat.fits',overwrite=True)\n"
   ]
  },
  {
   "cell_type": "code",
   "execution_count": 7,
   "metadata": {
    "ExecuteTime": {
     "end_time": "2018-09-18T18:06:31.134713Z",
     "start_time": "2018-09-18T18:06:09.257319Z"
    }
   },
   "outputs": [
    {
     "name": "stdout",
     "output_type": "stream",
     "text": [
      "crispy - INFO - Read data from HDU 0 of /Users/mrizzo/Downloads/newflat.fits\n",
      "crispy - INFO - Mean, median, std: (127.17470182315884, 90.333336, 108.21849922491968)\n",
      "crispy - INFO - Reduced cube will have 25 wavelength bins\n",
      "crispy - INFO - Elapsed time: 2.439796s\n",
      "crispy - INFO - Read data from HDU 0 of /Users/mrizzo/Downloads/newflat.fits\n",
      "crispy - INFO - Mean, median, std: (127.17470182315884, 90.333336, 108.21849922491968)\n",
      "crispy - INFO - Reduced cube will have 25 wavelength bins\n",
      "crispy - INFO - Adding an extra flat component to fit, N=26\n",
      "crispy - INFO - Writing data to ..//SimResults/newflat_red_lstsq_resid.fits\n",
      "crispy - INFO - Writing data to ..//SimResults/newflat_red_lstsq_model.fits\n",
      "crispy - INFO - Writing data to ..//SimResults/newflat_red_lstsq_chisq.fits\n",
      "crispy - INFO - Writing data to ..//SimResults/newflat_red_lstsq_offsets.fits\n",
      "crispy - INFO - Elapsed time: 19.414689s\n"
     ]
    }
   ],
   "source": [
    "from crispy.IFS import reduceIFSMap\n",
    "from crispy.tools.image import Image\n",
    "cube = reduceIFSMap(par,'/Users/mrizzo/Downloads/newflat.fits',method='optext',smoothbad=False,medsub=False)\n",
    "pixnoise=30\n",
    "cube = reduceIFSMap(par,'/Users/mrizzo/Downloads/newflat.fits',method='lstsq',\n",
    "                    fitbkgnd=True,\n",
    "                    smoothbad=False,\n",
    "                    niter=1,\n",
    "                    dy=3,\n",
    "                    medsub=False,\n",
    "                    pixnoise=pixnoise,\n",
    "                    gain=1,\n",
    "                    normpsflets=False\n",
    "                   )\n"
   ]
  },
  {
   "cell_type": "code",
   "execution_count": 8,
   "metadata": {
    "ExecuteTime": {
     "end_time": "2018-09-18T18:06:53.405763Z",
     "start_time": "2018-09-18T18:06:31.137518Z"
    }
   },
   "outputs": [
    {
     "name": "stdout",
     "output_type": "stream",
     "text": [
      "crispy - INFO - Read data from HDU 1 of ..//ReferenceFiles/Calibra_170425/det665.0.fits\n",
      "crispy - INFO - Mean, median, std: (2.2303744686391718, 2.0, 4.745559854717321)\n",
      "crispy - INFO - Reduced cube will have 25 wavelength bins\n",
      "crispy - INFO - Adding an extra flat component to fit, N=26\n",
      "crispy - INFO - Writing data to ..//SimResults/det665_red_lstsq_resid.fits\n",
      "crispy - INFO - Writing data to ..//SimResults/det665_red_lstsq_model.fits\n",
      "crispy - INFO - Writing data to ..//SimResults/det665_red_lstsq_chisq.fits\n",
      "crispy - INFO - Writing data to ..//SimResults/det665_red_lstsq_offsets.fits\n",
      "crispy - INFO - Elapsed time: 19.867252s\n",
      "crispy - INFO - Read data from HDU 1 of ..//ReferenceFiles/Calibra_170425/det665.0.fits\n",
      "crispy - INFO - Mean, median, std: (2.2303744686391718, 2.0, 4.745559854717321)\n",
      "crispy - INFO - Reduced cube will have 25 wavelength bins\n",
      "crispy - INFO - Elapsed time: 2.386247s\n"
     ]
    }
   ],
   "source": [
    "cube = reduceIFSMap(par,par.filelist[6],method='lstsq',\n",
    "                    fitbkgnd=True,\n",
    "                    smoothbad=False,\n",
    "                    niter=1,\n",
    "                    dy=3,\n",
    "                    medsub=False,\n",
    "                    pixnoise=pixnoise,\n",
    "                    gain=1,\n",
    "                    normpsflets=False\n",
    "                   )\n",
    "cube = reduceIFSMap(par,par.filelist[6],method='optext',smoothbad=False,medsub=False)\n"
   ]
  },
  {
   "cell_type": "markdown",
   "metadata": {},
   "source": [
    "# Construct lenslet bad pixel/flatfield from broadband reduced cube"
   ]
  },
  {
   "cell_type": "markdown",
   "metadata": {},
   "source": [
    "The following only works if the reduced cube is first done WITHOUT already correcting for lenslet flatfield. To do this, run the but only AFTER running deleting the keywords in the parameters class:"
   ]
  },
  {
   "cell_type": "code",
   "execution_count": 9,
   "metadata": {
    "ExecuteTime": {
     "end_time": "2018-09-18T18:07:15.302119Z",
     "start_time": "2018-09-18T18:06:53.408989Z"
    }
   },
   "outputs": [
    {
     "name": "stdout",
     "output_type": "stream",
     "text": [
      "crispy - INFO - Read data from HDU 1 of ..//Inputs/BB.fits\n",
      "crispy - INFO - Mean, median, std: (200.2881662824083, 131.0, 173.54631516876236)\n",
      "crispy - INFO - Subtracting median from image\n",
      "crispy - INFO - Reduced cube will have 25 wavelength bins\n",
      "crispy - INFO - Adding an extra flat component to fit, N=26\n",
      "crispy - INFO - Writing data to ..//SimResults/BB_red_lstsq_resid.fits\n",
      "crispy - INFO - Writing data to ..//SimResults/BB_red_lstsq_model.fits\n",
      "crispy - INFO - Writing data to ..//SimResults/BB_red_lstsq_chisq.fits\n",
      "crispy - INFO - Writing data to ..//SimResults/BB_red_lstsq_offsets.fits\n",
      "crispy - INFO - Elapsed time: 21.881277s\n"
     ]
    }
   ],
   "source": [
    "from crispy.IFS import reduceIFSMap\n",
    "\n",
    "if hasattr(par,'lenslet_flat'): del par.lenslet_flat\n",
    "if hasattr(par,'lenslet_mask'): del par.lenslet_mask\n",
    "cube = reduceIFSMap(par,par.codeRoot+\"/Inputs/BB.fits\",method='lstsq',smoothbad=False)\n",
    "# cubeOpt = reduceIFSMap(par,par.codeRoot+\"/Inputs/BB.fits\",method='optext',smoothbad=False)\n"
   ]
  },
  {
   "cell_type": "code",
   "execution_count": 10,
   "metadata": {
    "ExecuteTime": {
     "end_time": "2018-09-18T18:07:18.324608Z",
     "start_time": "2018-09-18T18:07:15.305108Z"
    }
   },
   "outputs": [
    {
     "name": "stdout",
     "output_type": "stream",
     "text": [
      "crispy - INFO - Read data from HDU 1 of ..//SimResults/BB_red_lstsq.fits\n",
      "crispy - INFO - Read inverse variance from HDU 2 of ..//SimResults/BB_red_lstsq.fits\n",
      "('Mean, sig in central 20 lenslets:', 5427.2338727582201, 325.45246186036979)\n",
      "crispy - INFO - Writing data to ..//SimResults/lenslet_flat.fits\n",
      "crispy - INFO - Writing data to ..//SimResults/lenslet_mask.fits\n"
     ]
    },
    {
     "data": {
      "image/png": "[encoded data removed]",
      "text/plain": [
       "<matplotlib.figure.Figure at 0x10470ec90>"
      ]
     },
     "metadata": {},
     "output_type": "display_data"
    }
   ],
   "source": [
    "from crispy.tools.imgtools import gen_lenslet_flat\n",
    "BBcube = Image(par.exportDir+\"/BB_red_lstsq.fits\")\n",
    "lenslet_flat,lenslet_mask = gen_lenslet_flat(BBcube)\n",
    "Image(data = lenslet_flat).write(par.exportDir+\"/lenslet_flat.fits\",clobber=True)\n",
    "Image(data = lenslet_mask).write(par.exportDir+\"/lenslet_mask.fits\",clobber=True)\n",
    "plt.figure(figsize=(10,10))\n",
    "plt.imshow(lenslet_flat*lenslet_mask, cmap='viridis',vmin=0.8,vmax=1.2)\n",
    "plt.colorbar(fraction=0.046, pad=0.04)\n",
    "plt.show()\n"
   ]
  },
  {
   "cell_type": "code",
   "execution_count": 11,
   "metadata": {
    "ExecuteTime": {
     "end_time": "2018-09-18T18:07:19.576972Z",
     "start_time": "2018-09-18T18:07:18.328884Z"
    }
   },
   "outputs": [
    {
     "name": "stdout",
     "output_type": "stream",
     "text": [
      "crispy - INFO - Read data from HDU 0 of ..//ReferenceFiles/Calibra_170425//hires_psflets_lam715.fits\n"
     ]
    },
    {
     "data": {
      "image/png": "[encoded data removed]",
      "text/plain": [
       "<matplotlib.figure.Figure at 0x1c105bb190>"
      ]
     },
     "metadata": {},
     "output_type": "display_data"
    }
   ],
   "source": [
    "psflets = Image(par.wavecalDir+\"/hires_psflets_lam715.fits\").data\n",
    "fig, axarr = plt.subplots(4,4,figsize=(12,12))\n",
    "for i in range(psflets.shape[0]):\n",
    "    for j in range(psflets.shape[1]):\n",
    "        axarr[i,j].imshow(psflets[i,j],vmin=0.0)\n",
    "        axarr[i,j].axis('off')\n",
    "plt.subplots_adjust(wspace=0.0,hspace=0.05)\n",
    "plt.savefig(par.wavecalDir+\"psflets.png\")        \n",
    "plt.show()\n"
   ]
  },
  {
   "cell_type": "markdown",
   "metadata": {},
   "source": [
    "If you are satisfied with the flatfielding and masking, move the two fits files into the wavecal directory and reduce things with the two class attributes defined. When you reload the parameter file, the two attributes automatically get reset."
   ]
  },
  {
   "cell_type": "markdown",
   "metadata": {},
   "source": [
    "# Extract individual microspectrum"
   ]
  },
  {
   "cell_type": "code",
   "execution_count": 12,
   "metadata": {
    "ExecuteTime": {
     "end_time": "2018-09-18T18:07:19.585006Z",
     "start_time": "2018-09-18T18:07:19.579325Z"
    },
    "collapsed": true
   },
   "outputs": [],
   "source": [
    "from crispy.IFS import reduceIFSMap\n",
    "from crispy.tools.image import Image\n",
    "from crispy.unitTests import testFitCutout, testCutout\n",
    "from crispy.tools.reduction import get_cutout"
   ]
  },
  {
   "cell_type": "code",
   "execution_count": 13,
   "metadata": {
    "ExecuteTime": {
     "end_time": "2018-09-18T18:07:22.127185Z",
     "start_time": "2018-09-18T18:07:19.587867Z"
    }
   },
   "outputs": [
    {
     "name": "stdout",
     "output_type": "stream",
     "text": [
      "crispy - INFO - Mean, median, std: (200.2881662824083, 131.0, 173.54631516876236)\n",
      "crispy - INFO - Reduced cube will have 25 wavelength bins\n",
      "crispy - INFO - Elapsed time: 2.520234s\n"
     ]
    }
   ],
   "source": [
    "BBimg = fits.getdata(par.codeRoot+\"/Inputs/BB.fits\")\n",
    "\n",
    "# BBimg -= 30\n",
    "# pixnoise = 30\n",
    "# lensX = -20\n",
    "# lensY = -20\n",
    "# subim, psflet_subarr, [x0, x1, y0, y1] = testCutout(par,BBimg,lensX = lensX,lensY = lensY,dy=2.5)\n",
    "# print subim[:,0]\n",
    "cube = reduceIFSMap(par,BBimg,method='optext',smoothbad=False,medsub=False)\n",
    "\n",
    "\n",
    "# coef, icov, model, chi2 = testFitCutout(par,BBimg,lensX,lensY,mode='lstsq_conv',pixnoise=pixnoise,dy=2.5)\n",
    "# cube = reduceIFSMap(par,BBimg,method='lstsq_conv',\n",
    "#                     fitbkgnd=False,\n",
    "#                     smoothbad=False,\n",
    "#                     niter=3,\n",
    "#                     dy=3,\n",
    "#                     medsub=False,\n",
    "#                     pixnoise=pixnoise,\n",
    "#                     gain=1,\n",
    "#                     normpsflets=False\n",
    "#                    )"
   ]
  },
  {
   "cell_type": "code",
   "execution_count": 14,
   "metadata": {
    "ExecuteTime": {
     "end_time": "2018-09-18T18:07:22.190002Z",
     "start_time": "2018-09-18T18:07:22.130585Z"
    }
   },
   "outputs": [
    {
     "ename": "NameError",
     "evalue": "name 'coef' is not defined",
     "output_type": "error",
     "traceback": [
      "\u001b[0;31m---------------------------------------------------------------------------\u001b[0m",
      "\u001b[0;31mNameError\u001b[0m                                 Traceback (most recent call last)",
      "\u001b[0;32m<ipython-input-14-c625cd2302a0>\u001b[0m in \u001b[0;36m<module>\u001b[0;34m()\u001b[0m\n\u001b[1;32m      1\u001b[0m \u001b[0;31m# coef = cube.data[:,108/2+lensY,108/2+lensX]\u001b[0m\u001b[0;34m\u001b[0m\u001b[0;34m\u001b[0m\u001b[0m\n\u001b[0;32m----> 2\u001b[0;31m \u001b[0mplt\u001b[0m\u001b[0;34m.\u001b[0m\u001b[0mplot\u001b[0m\u001b[0;34m(\u001b[0m\u001b[0mcoef\u001b[0m\u001b[0;34m)\u001b[0m\u001b[0;34m\u001b[0m\u001b[0m\n\u001b[0m\u001b[1;32m      3\u001b[0m \u001b[0msubim\u001b[0m\u001b[0;34m,\u001b[0m \u001b[0mpsflet_subarr\u001b[0m\u001b[0;34m,\u001b[0m \u001b[0;34m[\u001b[0m\u001b[0mx0\u001b[0m\u001b[0;34m,\u001b[0m \u001b[0mx1\u001b[0m\u001b[0;34m,\u001b[0m \u001b[0my0\u001b[0m\u001b[0;34m,\u001b[0m \u001b[0my1\u001b[0m\u001b[0;34m]\u001b[0m \u001b[0;34m=\u001b[0m \u001b[0mtestCutout\u001b[0m\u001b[0;34m(\u001b[0m\u001b[0mpar\u001b[0m\u001b[0;34m,\u001b[0m\u001b[0mBBimg\u001b[0m\u001b[0;34m,\u001b[0m\u001b[0mlensX\u001b[0m \u001b[0;34m=\u001b[0m \u001b[0mlensX\u001b[0m\u001b[0;34m,\u001b[0m\u001b[0mlensY\u001b[0m \u001b[0;34m=\u001b[0m \u001b[0mlensY\u001b[0m\u001b[0;34m)\u001b[0m\u001b[0;34m\u001b[0m\u001b[0m\n\u001b[1;32m      4\u001b[0m \u001b[0;32mprint\u001b[0m \u001b[0msubim\u001b[0m\u001b[0;34m[\u001b[0m\u001b[0;34m:\u001b[0m\u001b[0;34m,\u001b[0m\u001b[0;36m0\u001b[0m\u001b[0;34m]\u001b[0m\u001b[0;34m\u001b[0m\u001b[0m\n",
      "\u001b[0;31mNameError\u001b[0m: name 'coef' is not defined"
     ]
    }
   ],
   "source": [
    "# coef = cube.data[:,108/2+lensY,108/2+lensX]\n",
    "plt.plot(coef)\n",
    "subim, psflet_subarr, [x0, x1, y0, y1] = testCutout(par,BBimg,lensX = lensX,lensY = lensY)\n",
    "print subim[:,0]"
   ]
  },
  {
   "cell_type": "code",
   "execution_count": null,
   "metadata": {
    "ExecuteTime": {
     "end_time": "2018-09-18T18:07:22.191225Z",
     "start_time": "2018-09-18T18:02:03.077Z"
    }
   },
   "outputs": [],
   "source": [
    "# plt.plot(coef)\n",
    "plt.fill_between(np.arange(len(coef)), coef-np.sqrt(1./icov), coef+np.sqrt(1./icov),alpha=0.3)\n",
    "print coef"
   ]
  },
  {
   "cell_type": "code",
   "execution_count": null,
   "metadata": {
    "ExecuteTime": {
     "end_time": "2018-09-18T18:07:22.193353Z",
     "start_time": "2018-09-18T18:02:03.080Z"
    }
   },
   "outputs": [],
   "source": [
    "plt.figure(figsize=(10,15))\n",
    "plt.subplot(311)\n",
    "plt.imshow(subim)\n",
    "plt.colorbar(orientation='horizontal')\n",
    "plt.title('Detector image')\n",
    "plt.subplot(312)\n",
    "plt.imshow(model)\n",
    "plt.colorbar(orientation='horizontal')\n",
    "plt.title('Model image')\n",
    "plt.subplot(313)\n",
    "res = subim-model\n",
    "plt.imshow(res)\n",
    "plt.colorbar(orientation='horizontal')\n",
    "plt.title('Residual image')\n"
   ]
  },
  {
   "cell_type": "code",
   "execution_count": null,
   "metadata": {
    "ExecuteTime": {
     "end_time": "2018-09-18T18:07:22.195486Z",
     "start_time": "2018-09-18T18:02:03.082Z"
    }
   },
   "outputs": [],
   "source": [
    "plt.plot(np.sum(subim,axis=0))\n",
    "# plt.plot(cube.data[:,108/2+lensY,108/2+lensX])\n",
    "\n",
    "plt.plot(np.sum(model,axis=0))\n",
    "plt.fill_between(np.arange(subim.shape[-1]),0.9*np.sum(model,axis=0),1.1*np.sum(model,axis=0),alpha=0.3)\n",
    "print np.sum(subim),np.sum(model),subim[:,0]"
   ]
  },
  {
   "cell_type": "markdown",
   "metadata": {},
   "source": [
    "### Test Horne extraction"
   ]
  },
  {
   "cell_type": "code",
   "execution_count": null,
   "metadata": {
    "ExecuteTime": {
     "end_time": "2018-09-18T18:07:22.197429Z",
     "start_time": "2018-09-18T18:02:03.125Z"
    }
   },
   "outputs": [],
   "source": [
    "from crispy.tools.locate_psflets import PSFLets\n",
    "from crispy.tools.reduction import calculateWaveList\n",
    "PSFlet_tool = PSFLets(load=True, infiledir=par.wavecalDir)\n",
    "#Nspec = int(par.BW*par.npixperdlam*par.R)\n",
    "lamlist, scratch = calculateWaveList(par, method='optext')\n",
    "\n",
    "\n",
    "img = fits.getdata(par.codeRoot+\"/Inputs/BB.fits\")\n",
    "# img-=30\n",
    "delt_y=7\n",
    "xindx = PSFlet_tool.xindx\n",
    "yindx = PSFlet_tool.yindx\n",
    "Nmax = PSFlet_tool.nlam_max\n",
    "try:\n",
    "    sig = fits.open(par.wavecalDir + 'PSFwidths.fits')[0].data\n",
    "except BaseException:\n",
    "    log.warning(\n",
    "        \"No PSFLet widths found - assuming critical samping at central wavelength\")\n",
    "    sig = par.FWHM / 2.35 * np.ones(xindx.shape)\n",
    "#     sig = 1.8 / 2.35 * np.ones(xindx.shape)\n",
    "\n",
    "x = np.arange(img.shape[1])\n",
    "y = np.arange(img.shape[0])\n",
    "x, y = np.meshgrid(x, y)\n",
    "\n",
    "ydim, xdim = img.shape\n",
    "\n",
    "coefs = np.zeros(\n",
    "    tuple([max(Nmax, lamlist.shape[0])] + list(yindx.shape)[:-1]))\n",
    "cube = np.zeros((len(lamlist), par.nlens, par.nlens))\n",
    "ivarcube = np.zeros((len(lamlist), par.nlens, par.nlens))\n",
    "xarr, yarr = np.meshgrid(np.arange(Nmax), np.arange(delt_y))\n",
    "\n",
    "#loglam = np.log(lamlist)\n",
    "lamsol = np.loadtxt(par.wavecalDir + \"lamsol.dat\")[:, 0]\n",
    "allcoef = np.loadtxt(par.wavecalDir + \"lamsol.dat\")[:, 1:]\n",
    "PSFlet_tool.geninterparray(lamsol, allcoef)\n",
    "\n",
    "good = PSFlet_tool.good\n",
    "\n",
    "for i in range(xindx.shape[0]):\n",
    "    for j in range(yindx.shape[1]):\n",
    "        if i==108/2+lensY and j==108/2+lensX:\n",
    "            if good[i, j]:\n",
    "                _x = xindx[i, j, :PSFlet_tool.nlam[i, j]]\n",
    "                _y = yindx[i, j, :PSFlet_tool.nlam[i, j]]\n",
    "                _sig = sig[i, j, :PSFlet_tool.nlam[i, j]]\n",
    "                _lam = PSFlet_tool.lam_indx[i, j, :PSFlet_tool.nlam[i, j]]\n",
    "                iy = np.nanmean(_y)\n",
    "                \n",
    "                if ~np.isnan(iy):\n",
    "                    i1 = int(iy - delt_y / 2.)+1\n",
    "                    dy = _y[xarr[:,\n",
    "                                 :len(_lam)]] - y[i1:i1 + delt_y,\n",
    "                                                  int(_x[0]):int(_x[-1]) + 1]\n",
    "                    lams, _ = np.meshgrid(_lam, np.arange(delt_y))\n",
    "\n",
    "                    data = img[i1:i1 + delt_y, int(_x[0]):int(_x[-1]) + 1]\n",
    "                    vals = np.sum(data,axis=1)\n",
    "                    offset = np.sum(vals*np.arange(-delt_y/2.,delt_y/2.))/np.sum(vals)\n",
    "                    print offset\n",
    "                    offsets = fits.getdata('/Users/mrizzo/Downloads/newyoffsets.fits')\n",
    "                    weight = np.exp(-(dy+offsets[i,j])**2 / _sig**2)\n",
    "#                     weight = np.exp(-(dy)**2 / _sig**2)\n",
    "                    weight /= np.sum(weight,axis=0)[np.newaxis,:]\n",
    "\n",
    "                    ivar = np.ones(data.shape)\n",
    "\n",
    "                    coefs[:len(_lam), i, j] = np.sum(\n",
    "                        weight * data * ivar, axis=0)\n",
    "                    coefs[:len(_lam), i, j] /= np.sum(weight**2 * ivar, axis=0)\n",
    "                    vals = coefs[:len(_lam), i, j]\n",
    "                    mod = vals[np.newaxis,:]*weight\n",
    "\n",
    "plt.figure()\n",
    "plt.imshow(weight)\n",
    "plt.colorbar(orientation='horizontal')\n",
    "plt.figure()\n",
    "plt.plot(_sig)\n",
    "plt.figure()\n",
    "offweight = np.exp(-(dy-offset)**2 / _sig**2)\n",
    "plt.imshow(offweight)\n",
    "plt.colorbar(orientation='horizontal')\n",
    "plt.figure()\n",
    "plt.imshow(data)\n",
    "plt.colorbar(orientation='horizontal')\n",
    "plt.figure()\n",
    "plt.imshow(mod)\n",
    "plt.colorbar(orientation='horizontal')\n",
    "plt.figure()\n",
    "plt.imshow(data-mod)\n",
    "plt.colorbar(orientation='horizontal')\n",
    "\n",
    "plt.figure()\n",
    "plt.plot(data[:,20]/np.amax(data[:,20]))\n",
    "plt.plot(weight[:,20]/np.amax(weight[:,20]))\n",
    "plt.plot(offweight[:,20]/np.amax(offweight[:,20]))"
   ]
  },
  {
   "cell_type": "code",
   "execution_count": null,
   "metadata": {
    "collapsed": true
   },
   "outputs": [],
   "source": []
  },
  {
   "cell_type": "code",
   "execution_count": null,
   "metadata": {
    "ExecuteTime": {
     "end_time": "2018-09-18T18:07:22.199784Z",
     "start_time": "2018-09-18T18:02:03.128Z"
    }
   },
   "outputs": [],
   "source": [
    "dat = coefs[:,108/2+lensX,108/2+lensY]\n",
    "plt.plot(dat,label='OptExt')\n",
    "print dat\n",
    "# plt.plot(cube.data[:,108/2+lensY,108/2+lensX])\n",
    "\n",
    "plt.plot(np.sum(subim,axis=0),label='Data Sum')\n",
    "plt.plot(np.sum(model,axis=0),label='Lstsq Model Sum')\n",
    "plt.legend()\n",
    "plt.fill_between(np.arange(subim.shape[-1]),0.9*np.sum(model,axis=0),1.1*np.sum(model,axis=0),alpha=0.3)\n"
   ]
  },
  {
   "cell_type": "code",
   "execution_count": null,
   "metadata": {
    "ExecuteTime": {
     "end_time": "2018-09-18T18:07:22.202761Z",
     "start_time": "2018-09-18T18:02:03.131Z"
    }
   },
   "outputs": [],
   "source": [
    "sig = fits.open(par.wavecalDir + 'PSFwidths.fits')[0].data\n",
    "plt.figure(figsize=(15,15))\n",
    "plt.imshow(sig[:,:,25])\n",
    "plt.colorbar()"
   ]
  },
  {
   "cell_type": "code",
   "execution_count": null,
   "metadata": {
    "ExecuteTime": {
     "end_time": "2018-09-18T18:07:22.205759Z",
     "start_time": "2018-09-18T18:02:03.132Z"
    }
   },
   "outputs": [],
   "source": [
    "import glob\n",
    "hireslist = glob.glob(par.wavecalDir + 'hires_psflets_lam???.fits')\n",
    "hires = fits.getdata(hireslist[5])\n",
    "print hires.shape\n",
    "single = hires[2,2]\n",
    "plt.imshow(single)\n",
    "_x = np.arange(42) / 3.\n",
    "_x -= _x[_x.shape[0] // 2]\n",
    "row = np.sum(single[:,21:24],axis=1)\n",
    "print np.sqrt(np.sum(row*_x**2)/np.sum(row))\n",
    "plt.figure()\n",
    "plt.plot(row/np.amax(row))\n",
    "plt.plot(np.exp(-(_x**2)/1.44))"
   ]
  },
  {
   "cell_type": "markdown",
   "metadata": {},
   "source": [
    "### Explore recovered Horne extraction single wavelength"
   ]
  },
  {
   "cell_type": "code",
   "execution_count": null,
   "metadata": {
    "ExecuteTime": {
     "end_time": "2018-09-18T18:07:22.208283Z",
     "start_time": "2018-09-18T18:02:03.178Z"
    }
   },
   "outputs": [],
   "source": [
    "cube = reduceIFSMap(par,par.wavecalDir+\"/det655.0.fits\",method='optext',smoothbad=False,medsub=True)\n",
    "from crispy.tools.reduction import calculateWaveList\n",
    "lam_midpts,_ = calculateWaveList(par,method='optext')\n",
    "print lam_midpts"
   ]
  },
  {
   "cell_type": "markdown",
   "metadata": {},
   "source": [
    "#### Calculate the centroid of the wavelength in the cube"
   ]
  },
  {
   "cell_type": "code",
   "execution_count": null,
   "metadata": {
    "ExecuteTime": {
     "end_time": "2018-09-18T18:07:22.210900Z",
     "start_time": "2018-09-18T18:02:03.215Z"
    },
    "collapsed": true
   },
   "outputs": [],
   "source": [
    "centroids = np.nansum(lam_midpts[:,np.newaxis,np.newaxis]*cube.data,axis=0)/np.nansum(cube.data,axis=0)"
   ]
  },
  {
   "cell_type": "code",
   "execution_count": null,
   "metadata": {
    "ExecuteTime": {
     "end_time": "2018-09-18T18:07:22.213257Z",
     "start_time": "2018-09-18T18:02:03.218Z"
    },
    "collapsed": true
   },
   "outputs": [],
   "source": [
    "out = fits.HDUList(fits.PrimaryHDU(centroids.astype(np.float32)))\n",
    "out.writeto('/Users/mrizzo/Downloads/centroids.fits',overwrite=True)\n"
   ]
  },
  {
   "cell_type": "code",
   "execution_count": null,
   "metadata": {
    "ExecuteTime": {
     "end_time": "2018-09-18T18:07:22.215631Z",
     "start_time": "2018-09-18T18:02:03.220Z"
    }
   },
   "outputs": [],
   "source": [
    "from astropy.stats import sigma_clipped_stats\n",
    "\n",
    "mean, median, std = sigma_clipped_stats(centroids, sigma=3.0, iters=5)\n",
    "print mean, median, std"
   ]
  },
  {
   "cell_type": "code",
   "execution_count": null,
   "metadata": {
    "ExecuteTime": {
     "end_time": "2018-09-18T18:07:22.217446Z",
     "start_time": "2018-09-18T18:02:03.223Z"
    }
   },
   "outputs": [],
   "source": [
    "yoffsets = fits.getdata(par.wavecalDir + 'dylistarr.fits')\n",
    "print yoffsets[:,54+lensX,54+lensY]\n",
    "print np.mean(yoffsets[:,54+lensX,54+lensY])"
   ]
  },
  {
   "cell_type": "markdown",
   "metadata": {},
   "source": [
    "## Detail on smoothed least squares extraction"
   ]
  },
  {
   "cell_type": "code",
   "execution_count": null,
   "metadata": {
    "ExecuteTime": {
     "end_time": "2018-09-18T18:07:22.219389Z",
     "start_time": "2018-09-18T18:02:03.261Z"
    }
   },
   "outputs": [],
   "source": [
    "from crispy.tools.reduction import get_cutout,fit_cutout\n",
    "polychromeR = fits.open(\n",
    "                par.wavecalDir +\n",
    "                'polychromeR%d.fits.gz' %\n",
    "                (par.R))\n",
    "psflets = polychromeR[0].data\n",
    "polychromekey = fits.open(\n",
    "    par.wavecalDir +\n",
    "    'polychromekeyR%d.fits' %\n",
    "    (par.R))\n",
    "xindx = polychromekey[1].data\n",
    "yindx = polychromekey[2].data\n",
    "good = polychromekey[3].data\n",
    "ifsimage = Image(par.codeRoot+\"/Inputs/BB.fits\")\n",
    "\n",
    "\n",
    "\n",
    "model = np.zeros(ifsimage.data.shape)\n",
    "resid = ifsimage.data.copy()\n",
    "\n",
    "from crispy.tools.reduction import _add_row\n",
    "i=54\n",
    "j=54\n",
    "normpsflets=False\n",
    "dy=3\n",
    "\n",
    "psflets = _add_row(psflets, n=1, dtype=np.float64)\n",
    "psflets[-1:] = 0\n",
    "psflets[-1, 4:-4, 4:-4] = 1\n",
    "cube = np.zeros((psflets.shape[0], par.nlens, par.nlens))\n",
    "ivarcube = np.zeros((psflets.shape[0], par.nlens, par.nlens))\n",
    "\n",
    "subim, psflet_subarr, [y0, y1, x0, x1] = get_cutout(\n",
    "    ifsimage, xindx[:, i, j], yindx[:, i, j], psflets, dy, normpsflets=normpsflets)\n"
   ]
  },
  {
   "cell_type": "code",
   "execution_count": null,
   "metadata": {
    "ExecuteTime": {
     "end_time": "2018-09-18T18:07:22.221921Z",
     "start_time": "2018-09-18T18:02:03.263Z"
    }
   },
   "outputs": [],
   "source": [
    "plt.imshow(subim)\n",
    "plt.colorbar(orientation='horizontal')"
   ]
  },
  {
   "cell_type": "code",
   "execution_count": null,
   "metadata": {
    "ExecuteTime": {
     "end_time": "2018-09-18T18:07:22.224560Z",
     "start_time": "2018-09-18T18:02:03.265Z"
    }
   },
   "outputs": [],
   "source": [
    "print psflet_subarr.shape\n",
    "\n",
    "cube[:, j, i], ivarcube[:, j, i], modelij = fit_cutout(\n",
    "    subim.copy(), psflet_subarr.copy(), mode='lstsq',\n",
    "    niter=3, pixnoise=10.0,fitbkgnd=True)\n",
    "plt.imshow(modelij)\n",
    "plt.colorbar(orientation='horizontal')\n"
   ]
  },
  {
   "cell_type": "code",
   "execution_count": null,
   "metadata": {
    "ExecuteTime": {
     "end_time": "2018-09-18T18:07:22.226677Z",
     "start_time": "2018-09-18T18:02:03.267Z"
    }
   },
   "outputs": [],
   "source": [
    "plt.imshow(subim-modelij)\n",
    "plt.colorbar(orientation='horizontal')"
   ]
  },
  {
   "cell_type": "markdown",
   "metadata": {},
   "source": [
    "### Explore moments"
   ]
  },
  {
   "cell_type": "code",
   "execution_count": null,
   "metadata": {
    "ExecuteTime": {
     "end_time": "2018-09-18T18:07:22.229173Z",
     "start_time": "2018-09-18T18:02:03.304Z"
    }
   },
   "outputs": [],
   "source": [
    "res = np.sum(subim,axis=1)#np.sum(subim-modelij,axis=1)#\n",
    "plt.plot(res)\n",
    "print res.shape\n",
    "xlist = np.arange(min(res.shape),dtype=float)\n",
    "xlist -= min(res.shape)/2.0 - 0.5\n",
    "print xlist\n",
    "momx = np.sum(xlist*res)/np.sum(res)\n",
    "print momx\n",
    "plt.plot(res)"
   ]
  },
  {
   "cell_type": "markdown",
   "metadata": {},
   "source": [
    "### Smooth the least square step"
   ]
  },
  {
   "cell_type": "code",
   "execution_count": null,
   "metadata": {
    "ExecuteTime": {
     "end_time": "2018-09-18T18:07:22.231083Z",
     "start_time": "2018-09-18T18:02:03.353Z"
    }
   },
   "outputs": [],
   "source": [
    "import scipy as sp\n",
    "from crispy.tools.reduction import _add_row\n",
    "i=54\n",
    "j=54\n",
    "normpsflets=False\n",
    "dy=3\n",
    "polychromeR = fits.open(\n",
    "                par.wavecalDir +\n",
    "                'polychromeR%d.fits.gz' %\n",
    "                (par.R))\n",
    "psflets = polychromeR[0].data\n",
    "\n",
    "subim, psflet_subarr, [y0, y1, x0, x1] = get_cutout(\n",
    "    ifsimage, xindx[:, i, j], yindx[:, i, j], psflets, dy, normpsflets=normpsflets)\n",
    "\n",
    "\n",
    "subim_flat = np.reshape(subim, -1)\n",
    "\n",
    "pixnoise=0.0\n",
    "\n",
    "psflets = _add_row(psflets, n=1, dtype=np.float64)\n",
    "psflets[-1:] = 0\n",
    "psflets[-1, 4:-4, 4:-4] = 1\n",
    "\n",
    "subim, psflet_subarr, [y0, y1, x0, x1] = get_cutout(\n",
    "    ifsimage, xindx[:, i, j], yindx[:, i, j], psflets, dy, normpsflets=normpsflets)\n",
    "\n",
    "\n",
    "N = psflet_subarr.shape[0]\n",
    "print N\n",
    "psflets_flat = np.reshape(psflet_subarr, (N, -1))\n",
    "A = psflets_flat.T\n",
    "\n",
    "\n",
    "\n",
    "guess = np.ones(N) * np.sum(subim_flat) / float(N)\n",
    "var = np.reshape(\n",
    "    np.sum(psflet_subarr * guess[:, np.newaxis, np.newaxis], axis=0), -1)\n",
    "Ninv = np.diag(1. / (var + 1e-10))\n",
    "Cinv = np.dot(A.T, np.dot(Ninv, A))\n",
    "C = np.linalg.inv(Cinv)\n",
    "right = np.dot(A.T, np.dot(Ninv, subim_flat))\n",
    "f = np.dot(C, right)\n",
    "forig = f.copy()\n",
    "bkgd = f[-1]\n",
    "model_no_smooth = np.sum(psflet_subarr * f[:, np.newaxis, np.newaxis], axis=0)\n",
    "print bkgd\n",
    "psflets = psflets[:-1]\n",
    "\n",
    "\n",
    "subim, psflet_subarr, [y0, y1, x0, x1] = get_cutout(\n",
    "    ifsimage, xindx[:, i, j], yindx[:, i, j], psflets, dy, normpsflets=normpsflets)\n",
    "\n",
    "\n",
    "N = psflet_subarr.shape[0]\n",
    "\n",
    "psflets_flat = np.reshape(psflet_subarr, (N, -1))\n",
    "A = psflets_flat.T\n",
    "\n",
    "guess = np.ones(N) * np.sum(subim_flat) / float(N)\n",
    "# var = np.reshape(\n",
    "#     np.sum(psflet_subarr * guess[:, np.newaxis, np.newaxis], axis=0), -1)\n",
    "# Ninv = np.diag(1. / (var + 1e-10))\n",
    "# Cinv = np.dot(A.T, np.dot(Ninv, A))\n",
    "# C = np.linalg.inv(Cinv)\n",
    "# right = np.dot(A.T, np.dot(Ninv, subim_flat))\n",
    "# f = np.dot(C, right)\n",
    "\n",
    "# Q = sp.linalg.sqrtm(Cinv)\n",
    "# s = np.sum(Q, axis=0)\n",
    "# ivarlstsq = s**2  # inverse variance\n",
    "# R = Q / s[:, np.newaxis]\n",
    "# coef = np.dot(R, f)\n",
    "\n",
    "niter = 1\n",
    "for k in range(niter):\n",
    "    print k\n",
    "    var = np.reshape(\n",
    "        np.sum(psflet_subarr * guess[:, np.newaxis, np.newaxis], axis=0), -1)\n",
    "    Ninv = np.diag(1. / (var + 1e-10))\n",
    "    Cinv = np.dot(A.T, np.dot(Ninv, A))\n",
    "    C = np.linalg.inv(Cinv)\n",
    "    Q = sp.linalg.sqrtm(Cinv)\n",
    "    s = np.sum(Q, axis=1)\n",
    "    ivarlstsq = s**2  # inverse variance\n",
    "    R = Q / s[np.newaxis,:]\n",
    "    newR = R.copy()\n",
    "    for m in range(R.shape[1]):\n",
    "        newR[m,:] = R[m,:]\n",
    "        newsum = newR[m,:]<0.1\n",
    "        newR[m,:][newsum] = 0.0\n",
    "        newR[m,:] /= np.sum(newR[m,:])\n",
    "\n",
    "    right = np.dot(A.T, np.dot(Ninv, subim_flat))\n",
    "    f = np.dot(C, right)\n",
    "    model_before_smooth = np.sum(psflet_subarr * f[:, np.newaxis, np.newaxis], axis=0)\n",
    "    guess = np.dot(newR, f)\n",
    "\n",
    "\n",
    "# right = np.dot(A.T, np.dot(Ninv, subim_flat))\n",
    "# f = np.dot(C, right)\n",
    "# coef = f\n",
    "coef = guess\n",
    "icov = np.diagonal(C)\n",
    "model = np.sum(psflet_subarr * coef[:, np.newaxis, np.newaxis], axis=0)+bkgd\n",
    "chi2 = np.sum((subim-model)**2 / model) / np.prod(subim.shape)\n"
   ]
  },
  {
   "cell_type": "markdown",
   "metadata": {},
   "source": [
    "### Smooth the least square step (attempt 2)"
   ]
  },
  {
   "cell_type": "code",
   "execution_count": null,
   "metadata": {
    "ExecuteTime": {
     "end_time": "2018-09-18T18:07:22.233382Z",
     "start_time": "2018-09-18T18:02:03.392Z"
    }
   },
   "outputs": [],
   "source": [
    "import scipy as sp\n",
    "from crispy.tools.reduction import _add_row\n",
    "i=54\n",
    "j=54\n",
    "normpsflets=False\n",
    "dy=3\n",
    "polychromeR = fits.open(\n",
    "                par.wavecalDir +\n",
    "                'polychromeR%d.fits.gz' %\n",
    "                (par.R))\n",
    "psflets = polychromeR[0].data\n",
    "\n",
    "subim, psflet_subarr, [y0, y1, x0, x1] = get_cutout(\n",
    "    ifsimage, xindx[:, i, j], yindx[:, i, j], psflets, dy, normpsflets=normpsflets)\n",
    "\n",
    "\n",
    "subim_flat = np.reshape(subim, -1)\n",
    "\n",
    "pixnoise=0.0\n",
    "\n",
    "# calculate line spread function matrix\n",
    "N = psflet_subarr.shape[0]\n",
    "print N\n",
    "psflets_flat = np.reshape(psflet_subarr, (N, -1))\n",
    "A = psflets_flat.T\n",
    "Cinv = np.dot(A.T, A)\n",
    "C = np.linalg.inv(Cinv)\n",
    "Q = sp.linalg.sqrtm(Cinv)\n",
    "s = np.sum(Q, axis=1)\n",
    "ivarlstsq = s**2  # inverse variance\n",
    "R = Q / s[np.newaxis,:]\n",
    "newR = np.zeros((R.shape[0]+1,R.shape[1]+1))\n",
    "newR[:R.shape[0],:R.shape[1]] = R\n",
    "newR[-1,-1] = 1\n",
    "\n",
    "\n",
    "psflets = _add_row(psflets, n=1, dtype=np.float64)\n",
    "psflets[-1:] = 0\n",
    "psflets[-1, 4:-4, 4:-4] = 1\n",
    "\n",
    "subim, psflet_subarr, [y0, y1, x0, x1] = get_cutout(\n",
    "    ifsimage, xindx[:, i, j], yindx[:, i, j], psflets, dy, normpsflets=normpsflets)\n",
    "\n",
    "\n",
    "N = psflet_subarr.shape[0]\n",
    "print N\n",
    "psflets_flat = np.reshape(psflet_subarr, (N, -1))\n",
    "A = psflets_flat.T\n",
    "\n",
    "guess = np.ones(N) * np.sum(subim_flat) / float(N)\n",
    "var = np.reshape(\n",
    "    np.sum(psflet_subarr * guess[:, np.newaxis, np.newaxis], axis=0), -1)\n",
    "Ninv = np.diag(1. / (var + 1e-10))\n",
    "Cinv = np.dot(A.T, np.dot(Ninv, A))\n",
    "C = np.linalg.inv(Cinv)\n",
    "# Q = sp.linalg.sqrtm(Cinv)\n",
    "# s = np.sum(Q, axis=1)\n",
    "# ivarlstsq = s**2  # inverse variance\n",
    "# R = Q / s[np.newaxis,:]\n",
    "right = np.dot(A.T, np.dot(Ninv, subim_flat))\n",
    "f = np.dot(C, right)\n",
    "bkgd = f[-1]\n",
    "print bkgd\n",
    "\n",
    "coefs = np.dot(newR,f)\n",
    "# coefs = np.dot(R,f)\n",
    "model_smooth = np.sum(psflet_subarr * coefs[:, np.newaxis, np.newaxis], axis=0)\n",
    "# coefs = np.dot(R,f[:-1])\n",
    "# model_smooth = np.sum(psflet_subarr[:-1,:,:] * coefs[:, np.newaxis, np.newaxis], axis=0)+f[-1]\n",
    "model_no_smooth = np.sum(psflet_subarr * f[:, np.newaxis, np.newaxis], axis=0)\n",
    "\n"
   ]
  },
  {
   "cell_type": "code",
   "execution_count": null,
   "metadata": {
    "ExecuteTime": {
     "end_time": "2018-09-18T18:07:22.235808Z",
     "start_time": "2018-09-18T18:02:03.395Z"
    }
   },
   "outputs": [],
   "source": [
    "# plt.imshow(model_smooth-model_no_smooth)\n",
    "plt.imshow(subim-model_smooth)\n",
    "plt.colorbar(orientation='horizontal')\n",
    "plt.figure()\n",
    "plt.imshow(subim-model_no_smooth)\n",
    "plt.colorbar(orientation='horizontal')\n",
    "print np.std(subim-model_smooth)\n",
    "print np.std(subim-model_no_smooth)"
   ]
  },
  {
   "cell_type": "code",
   "execution_count": null,
   "metadata": {
    "ExecuteTime": {
     "end_time": "2018-09-18T18:07:22.237599Z",
     "start_time": "2018-09-18T18:02:03.396Z"
    }
   },
   "outputs": [],
   "source": [
    "plt.plot(R)"
   ]
  },
  {
   "cell_type": "code",
   "execution_count": null,
   "metadata": {
    "ExecuteTime": {
     "end_time": "2018-09-18T18:07:22.239428Z",
     "start_time": "2018-09-18T18:02:03.400Z"
    }
   },
   "outputs": [],
   "source": [
    "Ctilde = np.dot(newR,np.dot(C,newR.T))\n",
    "print np.sqrt(np.sum(Ctilde[5,:])),np.sqrt(Ctilde[5,5])\n",
    "import pandas as pd\n",
    "df = pd.DataFrame(data=Ctilde)\n",
    "df"
   ]
  },
  {
   "cell_type": "code",
   "execution_count": null,
   "metadata": {
    "ExecuteTime": {
     "end_time": "2018-09-18T18:07:22.241583Z",
     "start_time": "2018-09-18T18:02:03.404Z"
    }
   },
   "outputs": [],
   "source": [
    "df = pd.DataFrame(data=C)\n",
    "df"
   ]
  },
  {
   "cell_type": "code",
   "execution_count": null,
   "metadata": {
    "ExecuteTime": {
     "end_time": "2018-09-18T18:07:22.244025Z",
     "start_time": "2018-09-18T18:02:03.406Z"
    }
   },
   "outputs": [],
   "source": [
    "plt.plot(f)\n",
    "plt.plot(coefs)"
   ]
  },
  {
   "cell_type": "markdown",
   "metadata": {},
   "source": [
    "### line spread function matrix"
   ]
  },
  {
   "cell_type": "code",
   "execution_count": null,
   "metadata": {
    "ExecuteTime": {
     "end_time": "2018-09-18T18:07:22.245688Z",
     "start_time": "2018-09-18T18:02:03.448Z"
    }
   },
   "outputs": [],
   "source": [
    "N = psflet_subarr.shape[0]\n",
    "print N\n",
    "psflets_flat = np.reshape(psflet_subarr, (N, -1))\n",
    "A = psflets_flat.T\n",
    "Cinv = np.dot(A.T, A)\n",
    "C = np.linalg.inv(Cinv)\n",
    "Q = sp.linalg.sqrtm(Cinv)\n",
    "s = np.sum(Q, axis=1)\n",
    "ivarlstsq = s**2  # inverse variance\n",
    "R = Q / s[np.newaxis,:]\n",
    "plt.plot(R)"
   ]
  },
  {
   "cell_type": "code",
   "execution_count": null,
   "metadata": {
    "ExecuteTime": {
     "end_time": "2018-09-18T18:07:22.247996Z",
     "start_time": "2018-09-18T18:02:03.450Z"
    }
   },
   "outputs": [],
   "source": [
    "plt.plot(R)\n",
    "print np.sum(R[:,5])"
   ]
  },
  {
   "cell_type": "code",
   "execution_count": null,
   "metadata": {
    "ExecuteTime": {
     "end_time": "2018-09-18T18:07:22.250187Z",
     "start_time": "2018-09-18T18:02:03.453Z"
    }
   },
   "outputs": [],
   "source": [
    "plt.plot(ivarlstsq)"
   ]
  },
  {
   "cell_type": "code",
   "execution_count": null,
   "metadata": {
    "ExecuteTime": {
     "end_time": "2018-09-18T18:07:22.252589Z",
     "start_time": "2018-09-18T18:02:03.455Z"
    }
   },
   "outputs": [],
   "source": [
    "plt.plot(f)\n",
    "plt.plot(coef)\n",
    "print coef\n",
    "print f[4:7],coef[5]\n",
    "print np.sum(R[5,:]*f)\n",
    "print R[5,:]"
   ]
  },
  {
   "cell_type": "code",
   "execution_count": null,
   "metadata": {
    "ExecuteTime": {
     "end_time": "2018-09-18T18:07:22.255414Z",
     "start_time": "2018-09-18T18:02:03.457Z"
    }
   },
   "outputs": [],
   "source": [
    "newR = R.copy()\n",
    "for i in range(R.shape[1]):\n",
    "    newR[i,:] = R[i,:]\n",
    "    newsum = newR[i,:]<0.1\n",
    "    newR[i,:][newsum] = 0.0\n",
    "    newR[i,:] /= np.sum(newR[i,:])\n",
    "plt.plot(newR)"
   ]
  },
  {
   "cell_type": "code",
   "execution_count": null,
   "metadata": {
    "ExecuteTime": {
     "end_time": "2018-09-18T18:07:22.258579Z",
     "start_time": "2018-09-18T18:02:03.459Z"
    }
   },
   "outputs": [],
   "source": [
    "plt.plot(f)\n",
    "plt.plot(np.dot(newR,f))\n",
    "plt.plot(forig[:-1] + forig[-1])\n",
    "plt.plot(np.dot(R,forig[:-1]))\n",
    "newmodel = np.sum(psflet_subarr * np.dot(newR,f)[:, np.newaxis, np.newaxis], axis=0)+bkgd\n",
    "oldmodel = np.sum(psflet_subarr * np.dot(R,forig[:-1])[:, np.newaxis, np.newaxis], axis=0)+bkgd"
   ]
  },
  {
   "cell_type": "code",
   "execution_count": null,
   "metadata": {
    "ExecuteTime": {
     "end_time": "2018-09-18T18:07:22.261590Z",
     "start_time": "2018-09-18T18:02:03.461Z"
    }
   },
   "outputs": [],
   "source": [
    "# plt.imshow(newmodel-model_no_smooth)\n",
    "# plt.imshow(newmodel-model_before_smooth)\n",
    "plt.imshow(newmodel-oldmodel)\n",
    "plt.colorbar(orientation='horizontal')"
   ]
  },
  {
   "cell_type": "code",
   "execution_count": null,
   "metadata": {
    "ExecuteTime": {
     "end_time": "2018-09-18T18:07:22.264632Z",
     "start_time": "2018-09-18T18:02:03.464Z"
    }
   },
   "outputs": [],
   "source": [
    "plt.imshow(model-model_no_smooth)\n",
    "plt.colorbar(orientation='horizontal')"
   ]
  },
  {
   "cell_type": "code",
   "execution_count": null,
   "metadata": {
    "ExecuteTime": {
     "end_time": "2018-09-18T18:07:22.267707Z",
     "start_time": "2018-09-18T18:02:03.466Z"
    }
   },
   "outputs": [],
   "source": [
    "plt.imshow(subim-model_no_smooth)\n",
    "plt.colorbar(orientation='horizontal')"
   ]
  },
  {
   "cell_type": "code",
   "execution_count": null,
   "metadata": {
    "ExecuteTime": {
     "end_time": "2018-09-18T18:07:22.270917Z",
     "start_time": "2018-09-18T18:02:03.468Z"
    }
   },
   "outputs": [],
   "source": [
    "plt.imshow(subim-modelij)\n",
    "print np.std(subim-modelij)\n",
    "plt.colorbar(orientation='horizontal')"
   ]
  },
  {
   "cell_type": "markdown",
   "metadata": {},
   "source": [
    "### Try full routine"
   ]
  },
  {
   "cell_type": "code",
   "execution_count": null,
   "metadata": {
    "ExecuteTime": {
     "end_time": "2018-09-18T18:07:22.275030Z",
     "start_time": "2018-09-18T18:02:03.515Z"
    }
   },
   "outputs": [],
   "source": [
    "from crispy.tools.reduction import lstsqExtract\n",
    "ifsimage = Image(par.codeRoot+\"/Inputs/BB.fits\")\n",
    "cube, model, resid = lstsqExtract(par, par.exportDir+'/test', ifsimage, smoothandmask=False, ivar=False, dy=3,\n",
    "                 refine=False, hires=False, upsample=3, fitbkgnd=True,\n",
    "                 specialPolychrome=None, returnall=True, mode='lstsq',\n",
    "                 niter=3, pixnoise=10.0, normpsflets=False, gain=1.,\n",
    "                 discard_constant=False)"
   ]
  },
  {
   "cell_type": "code",
   "execution_count": null,
   "metadata": {
    "ExecuteTime": {
     "end_time": "2018-09-18T18:07:22.278040Z",
     "start_time": "2018-09-18T18:02:03.518Z"
    }
   },
   "outputs": [],
   "source": [
    "from crispy.tools.reduction import get_cutout\n",
    "polychromeR = fits.open(\n",
    "                par.wavecalDir +\n",
    "                'polychromeR%d.fits.gz' %\n",
    "                (par.R))\n",
    "psflets = polychromeR[0].data\n",
    "polychromekey = fits.open(\n",
    "    par.wavecalDir +\n",
    "    'polychromekeyR%d.fits' %\n",
    "    (par.R))\n",
    "xindx = polychromekey[1].data\n",
    "yindx = polychromekey[2].data\n",
    "good = polychromekey[3].data\n",
    "ifsimage = Image(par.codeRoot+\"/Inputs/BB.fits\")\n",
    "i=54\n",
    "j=54\n",
    "normpsflets=False\n",
    "dy=3\n",
    "subim, psflet_subarr, [y0, y1, x0, x1] = get_cutout(\n",
    "    ifsimage, xindx[:, i, j], yindx[:, i, j], psflets, dy, normpsflets=normpsflets)\n",
    "plt.imshow(subim-model[y0:y1, x0:x1])\n",
    "plt.colorbar(orientation='horizontal')\n"
   ]
  },
  {
   "cell_type": "code",
   "execution_count": null,
   "metadata": {
    "ExecuteTime": {
     "end_time": "2018-09-18T18:07:22.280919Z",
     "start_time": "2018-09-18T18:02:03.520Z"
    }
   },
   "outputs": [],
   "source": [
    "plt.imshow(resid[y0:y1, x0:x1])\n",
    "plt.colorbar(orientation='horizontal')\n"
   ]
  },
  {
   "cell_type": "code",
   "execution_count": null,
   "metadata": {
    "ExecuteTime": {
     "end_time": "2018-09-18T18:07:22.283952Z",
     "start_time": "2018-09-18T18:02:03.522Z"
    }
   },
   "outputs": [],
   "source": [
    "spec = cube.data[:,j,i]\n",
    "plt.imshow(ifsimage.data[y0:y1, x0:x1]-np.sum(psflet_subarr*spec[:,np.newaxis,np.newaxis],axis=0))\n",
    "plt.colorbar(orientation='horizontal')\n"
   ]
  },
  {
   "cell_type": "code",
   "execution_count": null,
   "metadata": {
    "ExecuteTime": {
     "end_time": "2018-09-18T18:07:22.286309Z",
     "start_time": "2018-09-18T18:02:03.524Z"
    }
   },
   "outputs": [],
   "source": [
    "print np.nanstd(fits.getdata(par.exportDir+'/test_resid.fits'))\n",
    "print np.nanstd(fits.getdata(par.exportDir+'/BB_red_lstsq_resid.fits'))"
   ]
  },
  {
   "cell_type": "markdown",
   "metadata": {},
   "source": [
    "## Plot with/without fine calibration for PISCES"
   ]
  },
  {
   "cell_type": "code",
   "execution_count": null,
   "metadata": {
    "ExecuteTime": {
     "end_time": "2018-09-18T18:07:22.288757Z",
     "start_time": "2018-09-18T18:02:03.572Z"
    }
   },
   "outputs": [],
   "source": [
    "nofine = fits.getdata(par.exportDir+'/newflat_red_lstsq_resid_nofine.fits')\n",
    "fine = fits.getdata(par.exportDir+'/newflat_red_lstsq_resid.fits')\n",
    "plt.figure(figsize=(15,10))\n",
    "plt.subplot(131)\n",
    "newf = fits.getdata('/Users/mrizzo/Downloads/newflat.fits')\n",
    "plt.imshow(newf[600:800,400:600],cmap='inferno')\n",
    "plt.colorbar(orientation='horizontal',fraction=0.046, pad=0.04)\n",
    "plt.title('Original',fontsize=20)\n",
    "plt.axis('off')\n",
    "plt.subplot(132)\n",
    "plt.imshow(nofine[600:800,400:600],cmap='inferno',vmin=-50,vmax=50)\n",
    "plt.colorbar(orientation='horizontal',fraction=0.046, pad=0.04)\n",
    "plt.title('Polynomial-only, std={:.2f}'.format(np.std(nofine[600:800,400:600])),fontsize=20)\n",
    "plt.axis('off')\n",
    "plt.subplot(133)\n",
    "plt.imshow(fine[600:800,400:600],cmap='inferno',vmin=-50,vmax=50)\n",
    "plt.colorbar(orientation='horizontal',fraction=0.046, pad=0.04)\n",
    "plt.title('Fine calibration, std={:.2f}'.format(np.std(fine[600:800,400:600])),fontsize=20)\n",
    "plt.axis('off')\n"
   ]
  },
  {
   "cell_type": "code",
   "execution_count": null,
   "metadata": {
    "ExecuteTime": {
     "end_time": "2018-09-18T18:07:22.291111Z",
     "start_time": "2018-09-18T18:02:03.575Z"
    }
   },
   "outputs": [],
   "source": [
    "plt.figure(figsize=(15,10))\n",
    "newf = fits.getdata('/Users/mrizzo/Downloads/newflat.fits')\n",
    "plt.imshow(newf[600:800,400:600],cmap='inferno')\n",
    "plt.colorbar(orientation='horizontal',fraction=0.046, pad=0.04)\n",
    "# plt.title('Original',fontsize=20)\n",
    "plt.axis('off')\n",
    "plt.savefig('/Users/mrizzo/Downloads/newflat.png',dpi=300)\n",
    "plt.figure(figsize=(15,10))\n",
    "plt.imshow(nofine[600:800,400:600],cmap='inferno',vmin=-50,vmax=50)\n",
    "plt.colorbar(orientation='horizontal',fraction=0.046, pad=0.04)\n",
    "# plt.title('Polynomial-only, std={:.2f}'.format(np.std(nofine[600:800,400:600])),fontsize=20)\n",
    "plt.axis('off')\n",
    "plt.savefig('/Users/mrizzo/Downloads/polyonly.png',dpi=300)\n",
    "plt.figure(figsize=(15,10))\n",
    "plt.imshow(fine[600:800,400:600],cmap='inferno',vmin=-50,vmax=50)\n",
    "plt.colorbar(orientation='horizontal',fraction=0.046, pad=0.04)\n",
    "# plt.title('Fine calibration, std={:.2f}'.format(np.std(fine[600:800,400:600])),fontsize=20)\n",
    "plt.axis('off')\n",
    "plt.savefig('/Users/mrizzo/Downloads/finecal.png',dpi=300)\n"
   ]
  },
  {
   "cell_type": "code",
   "execution_count": null,
   "metadata": {
    "collapsed": true
   },
   "outputs": [],
   "source": []
  }
 ],
 "metadata": {
  "kernelspec": {
   "display_name": "Python 2",
   "language": "python",
   "name": "python2"
  },
  "language_info": {
   "codemirror_mode": {
    "name": "ipython",
    "version": 2
   },
   "file_extension": ".py",
   "mimetype": "text/x-python",
   "name": "python",
   "nbconvert_exporter": "python",
   "pygments_lexer": "ipython2",
   "version": "2.7.15"
  },
  "latex_envs": {
   "LaTeX_envs_menu_present": true,
   "autoclose": false,
   "autocomplete": true,
   "bibliofile": "biblio.bib",
   "cite_by": "apalike",
   "current_citInitial": 1,
   "eqLabelWithNumbers": true,
   "eqNumInitial": 1,
   "hotkeys": {
    "equation": "Ctrl-E",
    "itemize": "Ctrl-I"
   },
   "labels_anchors": false,
   "latex_user_defs": false,
   "report_style_numbering": false,
   "user_envs_cfg": false
  },
  "toc": {
   "nav_menu": {},
   "number_sections": true,
   "sideBar": true,
   "skip_h1_title": false,
   "title_cell": "Table of Contents",
   "title_sidebar": "Contents",
   "toc_cell": false,
   "toc_position": {
    "height": "calc(100% - 180px)",
    "left": "10px",
    "top": "150px",
    "width": "384px"
   },
   "toc_section_display": true,
   "toc_window_display": true
  },
  "varInspector": {
   "cols": {
    "lenName": 16,
    "lenType": 16,
    "lenVar": 40
   },
   "kernels_config": {
    "python": {
     "delete_cmd_postfix": "",
     "delete_cmd_prefix": "del ",
     "library": "var_list.py",
     "varRefreshCmd": "print(var_dic_list())"
    },
    "r": {
     "delete_cmd_postfix": ") ",
     "delete_cmd_prefix": "rm(",
     "library": "var_list.r",
     "varRefreshCmd": "cat(var_dic_list()) "
    }
   },
   "types_to_exclude": [
    "module",
    "function",
    "builtin_function_or_method",
    "instance",
    "_Feature"
   ],
   "window_display": false
  }
 },
 "nbformat": 4,
 "nbformat_minor": 1
}
