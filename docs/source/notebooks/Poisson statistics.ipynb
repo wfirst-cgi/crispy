{
 "cells": [
  {
   "cell_type": "markdown",
   "metadata": {},
   "source": [
    "# Maximum likelihood retrieval techniques in the presence of Poisson noise"
   ]
  },
  {
   "cell_type": "markdown",
   "metadata": {},
   "source": [
    "The purpose of this notebook is to play with iterative retrieval algorithms that can be used to extract IFS data, but with the hope that the formalisms that we introduce can be used in other situations as well."
   ]
  },
  {
   "cell_type": "markdown",
   "metadata": {},
   "source": [
    "One of the tricky parts is to characterize how much better these algorithms are compared to regular chi-squared extraction/deconvolution methods. One approach is to compare their SNRs. In order to determine the uncertainty (used to compute SNR), we are just going to repeat the flux extraction a large number of times and compute the standard deviation of the estimates."
   ]
  },
  {
   "cell_type": "markdown",
   "metadata": {},
   "source": [
    "One other tricky part is to know whether the extraction is biased, and quantify how much. We are going to try to defer this to a later date."
   ]
  },
  {
   "cell_type": "code",
   "execution_count": 1,
   "metadata": {
    "ExecuteTime": {
     "end_time": "2018-03-19T19:08:26.414913Z",
     "start_time": "2018-03-19T19:08:26.134824Z"
    }
   },
   "outputs": [
    {
     "name": "stdout",
     "output_type": "stream",
     "text": [
      "Populating the interactive namespace from numpy and matplotlib\n"
     ]
    }
   ],
   "source": [
    "import numpy as np\n",
    "import scipy\n",
    "import glob\n",
    "%pylab inline --no-import-all\n",
    "plt.rc('font', family='serif', serif='Times',size=20)\n",
    "plt.rc('text', usetex=True)\n",
    "plt.rc('xtick', labelsize=20)\n",
    "plt.rc('xtick.major', size=10)\n",
    "plt.rc('ytick.major', size=10)\n",
    "plt.rc('ytick', labelsize=20)\n",
    "plt.rc('axes', labelsize=20)\n",
    "plt.rc('figure',titlesize=20)\n",
    "plt.rc('image',origin='lower',interpolation='nearest')\n",
    "\n",
    "import sys\n",
    "import os"
   ]
  },
  {
   "cell_type": "code",
   "execution_count": 2,
   "metadata": {
    "ExecuteTime": {
     "end_time": "2018-03-19T19:08:26.422648Z",
     "start_time": "2018-03-19T19:08:26.417539Z"
    },
    "collapsed": true
   },
   "outputs": [],
   "source": [
    "from crispy.tools.initLogger import getLogger\n",
    "log = getLogger('crispy')"
   ]
  },
  {
   "cell_type": "code",
   "execution_count": 3,
   "metadata": {
    "ExecuteTime": {
     "end_time": "2018-03-19T19:08:29.034539Z",
     "start_time": "2018-03-19T19:08:26.425598Z"
    }
   },
   "outputs": [
    {
     "data": {
      "text/plain": [
       "<matplotlib.colorbar.Colorbar at 0x1125bba10>"
      ]
     },
     "execution_count": 3,
     "metadata": {},
     "output_type": "execute_result"
    },
    {
     "data": {
      "image/png": "[encoded data removed]",
      "text/plain": [
       "<matplotlib.figure.Figure at 0x10c1abb90>"
      ]
     },
     "metadata": {},
     "output_type": "display_data"
    }
   ],
   "source": [
    "from scipy.special import erf\n",
    "size = 20\n",
    "# add some static offset to reflect arbitrary sampling\n",
    "_x = np.arange(size)-size//2+0.1\n",
    "_y = np.arange(size)-size//2+0.4\n",
    "_x, _y = np.meshgrid(_x, _y)\n",
    "sigma = 2./2.35\n",
    "psflet = (erf((_x + 0.5) / (np.sqrt(2) * sigma)) - \\\n",
    "    erf((_x - 0.5) / (np.sqrt(2) * sigma))) * \\\n",
    "    (erf((_y + 0.5) / (np.sqrt(2) * sigma)) - \\\n",
    "    erf((_y - 0.5) / (np.sqrt(2) * sigma)))\n",
    "\n",
    "psflet /= np.sum(psflet)\n",
    "fsize=8\n",
    "plt.figure(figsize=(fsize,fsize))\n",
    "plt.imshow(psflet)\n",
    "plt.colorbar(fraction=0.046, pad=0.04)\n"
   ]
  },
  {
   "cell_type": "code",
   "execution_count": 4,
   "metadata": {
    "ExecuteTime": {
     "end_time": "2018-03-19T19:08:29.344329Z",
     "start_time": "2018-03-19T19:08:29.037017Z"
    }
   },
   "outputs": [
    {
     "data": {
      "text/plain": [
       "<matplotlib.colorbar.Colorbar at 0x1516a3c290>"
      ]
     },
     "execution_count": 4,
     "metadata": {},
     "output_type": "execute_result"
    },
    {
     "data": {
      "image/png": "[encoded data removed]",
      "text/plain": [
       "<matplotlib.figure.Figure at 0x10bf348d0>"
      ]
     },
     "metadata": {},
     "output_type": "display_data"
    }
   ],
   "source": [
    "Nphot = 50\n",
    "img = np.random.poisson(psflet*Nphot)\n",
    "plt.figure(figsize=(fsize, fsize))\n",
    "plt.imshow(img)\n",
    "plt.title('Number of photons: {:}'.format(Nphot))\n",
    "plt.colorbar(fraction=0.046, pad=0.04)"
   ]
  },
  {
   "cell_type": "code",
   "execution_count": 5,
   "metadata": {
    "ExecuteTime": {
     "end_time": "2018-03-19T19:08:29.353793Z",
     "start_time": "2018-03-19T19:08:29.347731Z"
    }
   },
   "outputs": [
    {
     "name": "stdout",
     "output_type": "stream",
     "text": [
      "10.1661511005\n"
     ]
    }
   ],
   "source": [
    "mf = psflet.copy()\n",
    "mf /= np.sum(mf**2)\n",
    "print np.sum(mf)"
   ]
  },
  {
   "cell_type": "markdown",
   "metadata": {},
   "source": [
    "## Verify that the matched filter works of broad range of fluxes and background pixels"
   ]
  },
  {
   "cell_type": "code",
   "execution_count": 6,
   "metadata": {
    "ExecuteTime": {
     "end_time": "2018-03-19T19:08:30.306781Z",
     "start_time": "2018-03-19T19:08:29.356679Z"
    }
   },
   "outputs": [
    {
     "name": "stdout",
     "output_type": "stream",
     "text": [
      "5000\n",
      "99.9480170922 220.715554904 99.9831727032 230.948332074\n",
      "SNR (lstsq, matched filter) = 6.72756204679 6.57914561687\n",
      "Poisson-only SNR = 10.0\n",
      "Poisson+background SNR = 7.07106781187\n"
     ]
    }
   ],
   "source": [
    "ntrials = 5000\n",
    "Nphot = 100\n",
    "n = 10\n",
    "vals = []\n",
    "vals2 = []\n",
    "beta = []\n",
    "psflets_flat = np.reshape(psflet,(1,-1))\n",
    "var = psflet*Nphot+n\n",
    "varflat = np.reshape(var,-1)\n",
    "varflat = np.sqrt(varflat[:,np.newaxis]+1e-10)\n",
    "for i in range(ntrials):\n",
    "    img = np.random.poisson(psflet*Nphot+n)\n",
    "    val2 = np.sum((img-n)*mf)\n",
    "    subim_flat = np.reshape((img-n)/np.sqrt(psflet*Nphot+n), -1)\n",
    "    val =  np.linalg.lstsq(psflets_flat.T/varflat, subim_flat)[0]\n",
    "    vals.append(val)\n",
    "    vals2.append(val2)\n",
    "print len(vals)\n",
    "print np.mean(vals),np.std(vals)**2,np.mean(vals2),np.std(vals2)**2\n",
    "beta = (np.std(vals)**2-Nphot)/n\n",
    "print \"SNR (lstsq, matched filter) =\",np.mean(vals)/np.std(vals),np.mean(vals2)/np.std(vals2)\n",
    "print \"Poisson-only SNR =\",Nphot/np.sqrt(Nphot)\n",
    "print \"Poisson+background SNR =\",Nphot/np.sqrt(Nphot+n*10)"
   ]
  },
  {
   "cell_type": "markdown",
   "metadata": {},
   "source": [
    "## Try to fit the background directly within the lstsq"
   ]
  },
  {
   "cell_type": "code",
   "execution_count": 7,
   "metadata": {
    "ExecuteTime": {
     "end_time": "2018-03-19T19:08:31.318015Z",
     "start_time": "2018-03-19T19:08:30.309254Z"
    }
   },
   "outputs": [
    {
     "name": "stdout",
     "output_type": "stream",
     "text": [
      "5000\n",
      "99.8046039278 231.090973562 99.7509697508 243.702366905\n",
      "SNR (lstsq, matched filter) = 6.56536815629 6.38979982148\n",
      "Poisson-only SNR = 10.0\n",
      "Poisson+background SNR = 7.07106781187\n"
     ]
    }
   ],
   "source": [
    "ntrials = 5000\n",
    "Nphot = 100\n",
    "n = 10\n",
    "vals = []\n",
    "vals2 = []\n",
    "beta = []\n",
    "psflets_flat = np.reshape(psflet,(1,-1))\n",
    "var = psflet*Nphot+n\n",
    "varflat = np.reshape(var,-1)\n",
    "varflat = np.sqrt(varflat[:,np.newaxis]+1e-10)\n",
    "for i in range(ntrials):\n",
    "    img = np.random.poisson(psflet*Nphot+n)\n",
    "    val2 = np.sum((img-n)*mf)\n",
    "    subim_flat = np.reshape((img-n)/np.sqrt(psflet*Nphot+n), -1)\n",
    "    val =  np.linalg.lstsq(psflets_flat.T/varflat, subim_flat)[0]\n",
    "    vals.append(val)\n",
    "    vals2.append(val2)\n",
    "print len(vals)\n",
    "print np.mean(vals),np.std(vals)**2,np.mean(vals2),np.std(vals2)**2\n",
    "beta = (np.std(vals)**2-Nphot)/n\n",
    "print \"SNR (lstsq, matched filter) =\",np.mean(vals)/np.std(vals),np.mean(vals2)/np.std(vals2)\n",
    "print \"Poisson-only SNR =\",Nphot/np.sqrt(Nphot)\n",
    "print \"Poisson+background SNR =\",Nphot/np.sqrt(Nphot+n*10)"
   ]
  },
  {
   "cell_type": "markdown",
   "metadata": {},
   "source": [
    "## Naive matched filter attempt assuming perfect centroid"
   ]
  },
  {
   "cell_type": "code",
   "execution_count": 8,
   "metadata": {
    "ExecuteTime": {
     "end_time": "2018-03-19T19:08:31.324565Z",
     "start_time": "2018-03-19T19:08:31.320576Z"
    },
    "collapsed": true
   },
   "outputs": [],
   "source": [
    "mf = psflet.copy()\n",
    "mf /= np.sum(mf**2)"
   ]
  },
  {
   "cell_type": "code",
   "execution_count": 9,
   "metadata": {
    "ExecuteTime": {
     "end_time": "2018-03-19T19:08:31.333483Z",
     "start_time": "2018-03-19T19:08:31.327493Z"
    }
   },
   "outputs": [
    {
     "name": "stdout",
     "output_type": "stream",
     "text": [
      "crispy - INFO - 190.75593293\n"
     ]
    }
   ],
   "source": [
    "log.info(np.sum(img*mf))"
   ]
  },
  {
   "cell_type": "code",
   "execution_count": 10,
   "metadata": {
    "ExecuteTime": {
     "end_time": "2018-03-19T19:08:34.674244Z",
     "start_time": "2018-03-19T19:08:31.336451Z"
    }
   },
   "outputs": [
    {
     "data": {
      "text/plain": [
       "[<matplotlib.lines.Line2D at 0x10bf34610>]"
      ]
     },
     "execution_count": 10,
     "metadata": {},
     "output_type": "execute_result"
    },
    {
     "data": {
      "image/png": "[encoded data removed]",
      "text/plain": [
       "<matplotlib.figure.Figure at 0x10bf34590>"
      ]
     },
     "metadata": {},
     "output_type": "display_data"
    }
   ],
   "source": [
    "import scipy.stats\n",
    "# import statsmodel as sm\n",
    "niter = 10000\n",
    "tsum = np.zeros(niter)\n",
    "matched_filtered = np.zeros(niter)\n",
    "linregress = np.zeros(niter)\n",
    "wls_model = np.zeros(niter)\n",
    "for i in range(niter):\n",
    "    img = np.random.poisson(psflet*Nphot)\n",
    "    matched_filtered[i] = np.sum(img*mf)\n",
    "    tsum[i] = np.sum(img)\n",
    "    linregress[i]= scipy.stats.linregress(np.reshape(psflet,-1), np.reshape(img,-1))[0]\n",
    "#     wls_tmp = sm.WLS(np.reshape(img,-1).T, np.reshape(psflet,-1).T, weights=1./np.reshape(psflet+1e-10,-1).T)\n",
    "#     results = wls_tmp.fit()\n",
    "#     wls_model[i]=results.params[0]\n",
    "    \n",
    "plt.plot(matched_filtered,alpha=0.3)\n",
    "plt.plot(linregress,alpha=0.3)"
   ]
  },
  {
   "cell_type": "code",
   "execution_count": 11,
   "metadata": {
    "ExecuteTime": {
     "end_time": "2018-03-19T19:08:34.690973Z",
     "start_time": "2018-03-19T19:08:34.676951Z"
    }
   },
   "outputs": [
    {
     "name": "stdout",
     "output_type": "stream",
     "text": [
      "crispy - INFO - Sum | Mean: 100.157, Std: 9.96, sqrt(Mean): 10.0, SNR: 10.1\n",
      "crispy - INFO - Matched filter | Mean: 100.145, Std: 11.5, sqrt(Mean): 10.0, SNR: 8.71\n",
      "crispy - INFO - Linear regression | Mean: 100.145, Std: 11.6, sqrt(Mean): 10.0, SNR: 8.66\n",
      "crispy - INFO - Poisson-weighted lstsq | Mean: 0.000, Std: 0.0, sqrt(Mean): 0.0, SNR: nan\n"
     ]
    },
    {
     "name": "stderr",
     "output_type": "stream",
     "text": [
      "/Users/mrizzo/anaconda2/lib/python2.7/site-packages/ipykernel_launcher.py:4: RuntimeWarning: invalid value encountered in double_scalars\n",
      "  after removing the cwd from sys.path.\n"
     ]
    }
   ],
   "source": [
    "log.info(\"Sum | Mean: {:.3F}, Std: {:.3}, sqrt(Mean): {:.3}, SNR: {:.3}\".format(np.mean(tsum),np.std(tsum),np.sqrt(np.mean(tsum)),np.mean(tsum)/np.std(tsum)))\n",
    "log.info(\"Matched filter | Mean: {:.3F}, Std: {:.3}, sqrt(Mean): {:.3}, SNR: {:.3}\".format(np.mean(matched_filtered),np.std(matched_filtered),np.sqrt(np.mean(matched_filtered)),np.mean(matched_filtered)/np.std(matched_filtered)))\n",
    "log.info(\"Linear regression | Mean: {:.3F}, Std: {:.3}, sqrt(Mean): {:.3}, SNR: {:.3}\".format(np.mean(linregress),np.std(linregress),np.sqrt(np.mean(linregress)),np.mean(linregress)/np.std(linregress)))\n",
    "log.info(\"Poisson-weighted lstsq | Mean: {:.3F}, Std: {:.3}, sqrt(Mean): {:.3}, SNR: {:.3}\".format(np.mean(wls_model),np.std(wls_model),np.sqrt(np.mean(wls_model)),np.mean(wls_model)/np.std(wls_model)))"
   ]
  },
  {
   "cell_type": "code",
   "execution_count": null,
   "metadata": {
    "collapsed": true
   },
   "outputs": [],
   "source": []
  },
  {
   "cell_type": "markdown",
   "metadata": {},
   "source": [
    "## Now with two sources"
   ]
  },
  {
   "cell_type": "code",
   "execution_count": 12,
   "metadata": {
    "ExecuteTime": {
     "end_time": "2018-03-19T19:08:35.055308Z",
     "start_time": "2018-03-19T19:08:34.694073Z"
    }
   },
   "outputs": [
    {
     "data": {
      "text/plain": [
       "<matplotlib.colorbar.Colorbar at 0x1a183edf50>"
      ]
     },
     "execution_count": 12,
     "metadata": {},
     "output_type": "execute_result"
    },
    {
     "data": {
      "image/png": "[encoded data removed]",
      "text/plain": [
       "<matplotlib.figure.Figure at 0x1a17780e90>"
      ]
     },
     "metadata": {},
     "output_type": "display_data"
    }
   ],
   "source": [
    "_x = np.arange(size)-size//2+2\n",
    "_y = np.arange(size)-size//2+0.1\n",
    "_x, _y = np.meshgrid(_x, _y)\n",
    "sigma = 2./2.35\n",
    "psflet1 = (erf((_x + 0.5) / (np.sqrt(2) * sigma)) - \\\n",
    "    erf((_x - 0.5) / (np.sqrt(2) * sigma))) * \\\n",
    "    (erf((_y + 0.5) / (np.sqrt(2) * sigma)) - \\\n",
    "    erf((_y - 0.5) / (np.sqrt(2) * sigma)))\n",
    "\n",
    "psflet1 /= np.sum(psflet1)\n",
    "\n",
    "_x = np.arange(size)-size//2\n",
    "_y = np.arange(size)-size//2+0.1\n",
    "_x, _y = np.meshgrid(_x, _y)\n",
    "sigma = 2./2.35\n",
    "psflet2 = (erf((_x + 0.5) / (np.sqrt(2) * sigma)) - \\\n",
    "    erf((_x - 0.5) / (np.sqrt(2) * sigma))) * \\\n",
    "    (erf((_y + 0.5) / (np.sqrt(2) * sigma)) - \\\n",
    "    erf((_y - 0.5) / (np.sqrt(2) * sigma)))\n",
    "\n",
    "psflet2 /= np.sum(psflet2)\n",
    "\n",
    "\n",
    "\n",
    "plt.figure(figsize=(fsize,fsize))\n",
    "plt.imshow(psflet1+psflet2)\n",
    "plt.colorbar(fraction=0.046, pad=0.04)\n"
   ]
  },
  {
   "cell_type": "code",
   "execution_count": 13,
   "metadata": {
    "ExecuteTime": {
     "end_time": "2018-03-19T19:08:35.367808Z",
     "start_time": "2018-03-19T19:08:35.057753Z"
    }
   },
   "outputs": [
    {
     "data": {
      "text/plain": [
       "<matplotlib.colorbar.Colorbar at 0x1a187f79d0>"
      ]
     },
     "execution_count": 13,
     "metadata": {},
     "output_type": "execute_result"
    },
    {
     "data": {
      "image/png": "[encoded data removed]",
      "text/plain": [
       "<matplotlib.figure.Figure at 0x15169fdcd0>"
      ]
     },
     "metadata": {},
     "output_type": "display_data"
    }
   ],
   "source": [
    "Nphot1 = 20\n",
    "Nphot2 = 80\n",
    "img = np.random.poisson(psflet1*Nphot1+psflet2*Nphot2)\n",
    "plt.figure(figsize=(fsize,fsize))\n",
    "plt.imshow(img)\n",
    "plt.title('Number of photons: {:}'.format(Nphot))\n",
    "plt.colorbar(fraction=0.046, pad=0.04)\n"
   ]
  },
  {
   "cell_type": "code",
   "execution_count": 14,
   "metadata": {
    "ExecuteTime": {
     "end_time": "2018-03-19T19:08:35.374838Z",
     "start_time": "2018-03-19T19:08:35.370132Z"
    },
    "collapsed": true
   },
   "outputs": [],
   "source": [
    "psflets = np.zeros((2,psflet1.shape[0],psflet1.shape[1]))\n",
    "psflets[0] = psflet1.copy()\n",
    "psflets[1] = psflet2.copy()\n",
    "psflets_flat = np.reshape(psflets, (psflets.shape[0], -1))"
   ]
  },
  {
   "cell_type": "code",
   "execution_count": 15,
   "metadata": {
    "ExecuteTime": {
     "end_time": "2018-03-19T19:08:35.383524Z",
     "start_time": "2018-03-19T19:08:35.377351Z"
    },
    "collapsed": true
   },
   "outputs": [],
   "source": [
    "subim_flat = np.reshape(img, -1)\n",
    "coef = np.linalg.lstsq(psflets_flat.T, subim_flat)[0]"
   ]
  },
  {
   "cell_type": "code",
   "execution_count": 16,
   "metadata": {
    "ExecuteTime": {
     "end_time": "2018-03-19T19:08:35.391243Z",
     "start_time": "2018-03-19T19:08:35.386379Z"
    }
   },
   "outputs": [
    {
     "name": "stdout",
     "output_type": "stream",
     "text": [
      "[ 23.48402573  79.29033417]\n"
     ]
    }
   ],
   "source": [
    "print coef"
   ]
  },
  {
   "cell_type": "markdown",
   "metadata": {},
   "source": [
    "## Richardson-Lucy method in the presence of Poisson noise"
   ]
  },
  {
   "cell_type": "markdown",
   "metadata": {},
   "source": [
    "Method is:\n",
    "1. Use least squares as first guess\n",
    "2. Update next guess according to Snyder et al 1993 Eq. 4\n",
    "3. Stop at some point (e.g. when change from step to step is under a threshold"
   ]
  },
  {
   "cell_type": "code",
   "execution_count": 17,
   "metadata": {
    "ExecuteTime": {
     "end_time": "2018-03-19T19:08:35.415083Z",
     "start_time": "2018-03-19T19:08:35.393848Z"
    },
    "collapsed": true
   },
   "outputs": [],
   "source": [
    "def RL(img,psflets,eps=1e-10,prior=0.0):\n",
    "    #1.\n",
    "    psflets_flat = np.reshape(psflets.copy(), (psflets.shape[0], -1))\n",
    "    img_flat = np.reshape(img, -1)\n",
    "    # guess has dimensions of psflets.shape[0]\n",
    "    guess = np.linalg.lstsq(psflets_flat.T, img_flat)[0]\n",
    "    #guess = [ 1, 1]\n",
    "    res = []\n",
    "    res.append(guess)\n",
    "    loglike = []\n",
    "    ll = -np.sum(np.dot(guess,psflets_flat)) + np.sum(np.log(np.dot(guess,psflets_flat)+1e-10)*img_flat)\n",
    "    prevll = -np.inf\n",
    "    loglike.append(ll)\n",
    "    val = guess.copy()\n",
    "    count = 0\n",
    "    while ll-prevll > eps:\n",
    "        prev = val.copy()\n",
    "        prevll = ll.copy()\n",
    "        ll = -np.sum(np.dot(prev,psflets_flat)) + np.sum(np.log(np.dot(prev,psflets_flat)+1e-10)*img_flat)\n",
    "        loglike.append(ll)\n",
    "        #2. update\n",
    "        val = prev*np.sum(psflets_flat*img_flat/(np.dot(prev,psflets_flat)+1e-10+prior),axis=1)\n",
    "        res.append(val)\n",
    "        count += 1\n",
    "    return val,np.array(res),np.array(loglike),count"
   ]
  },
  {
   "cell_type": "code",
   "execution_count": 18,
   "metadata": {
    "ExecuteTime": {
     "end_time": "2018-03-19T19:08:36.053554Z",
     "start_time": "2018-03-19T19:08:35.418187Z"
    }
   },
   "outputs": [
    {
     "data": {
      "text/plain": [
       "[<matplotlib.lines.Line2D at 0x1a188a3090>]"
      ]
     },
     "execution_count": 18,
     "metadata": {},
     "output_type": "execute_result"
    },
    {
     "data": {
      "image/png": "[encoded data removed]",
      "text/plain": [
       "<matplotlib.figure.Figure at 0x112587e90>"
      ]
     },
     "metadata": {},
     "output_type": "display_data"
    }
   ],
   "source": [
    "niter = 1000\n",
    "lstsq = np.zeros((2,niter))\n",
    "lucy = np.zeros((2,niter))\n",
    "true = np.zeros((2,niter))\n",
    "pnoise = 10\n",
    "for i in range(niter):\n",
    "#     min_num_int = max(np.amax(psflet1)*Nphot1/0.1,np.amax(psflet2)*Nphot2/0.1)\n",
    "#     img1 = np.zeros_like(psflet1)\n",
    "#     img2 = np.zeros_like(psflet2)\n",
    "#     for j in range(int(min_num_int)):\n",
    "#         val = np.random.poisson(psflet1*Nphot1/min_num_int)\n",
    "#         img1 += val\n",
    "#         val = np.random.poisson(psflet2*Nphot2/min_num_int)\n",
    "#         img2 += val\n",
    "    img1 = np.random.poisson(psflet1*Nphot1)\n",
    "    img2 = np.random.poisson(psflet2*Nphot2)\n",
    "    img = img1+img2+np.random.poisson(pnoise,size=img2.shape)\n",
    "    subim_flat = np.reshape((img-pnoise)/(np.sqrt(psflet1+psflet2+1e-10+pnoise)), -1)\n",
    "    sumpsflets = np.reshape(psflet1+psflet2+pnoise,-1)\n",
    "    lstsq[:,i] = np.linalg.lstsq(psflets_flat.T/(np.sqrt(sumpsflets[:,np.newaxis]+1e-10)), subim_flat)[0]\n",
    "    lucy[:,i] = RL(img,psflets_flat,prior=10)[0]\n",
    "    true[0,i] = np.sum(img1)\n",
    "    true[1,i] = np.sum(img2)\n",
    "\n",
    "    \n",
    "plt.plot(lstsq[0],alpha=0.3)\n",
    "plt.plot(lucy[0],alpha=0.3)\n",
    "plt.plot(true[0],alpha=0.3)\n"
   ]
  },
  {
   "cell_type": "code",
   "execution_count": 19,
   "metadata": {
    "ExecuteTime": {
     "end_time": "2018-03-19T19:08:36.060980Z",
     "start_time": "2018-03-19T19:08:36.055968Z"
    }
   },
   "outputs": [
    {
     "data": {
      "text/plain": [
       "60.808433450199374"
      ]
     },
     "execution_count": 19,
     "metadata": {},
     "output_type": "execute_result"
    }
   ],
   "source": [
    "np.mean(lucy[0])"
   ]
  },
  {
   "cell_type": "code",
   "execution_count": 20,
   "metadata": {
    "ExecuteTime": {
     "end_time": "2018-03-19T19:08:36.222910Z",
     "start_time": "2018-03-19T19:08:36.063244Z"
    },
    "scrolled": false
   },
   "outputs": [
    {
     "name": "stdout",
     "output_type": "stream",
     "text": [
      "crispy - INFO - True 1  | Mean: 19.972, Std: 4.43, sqrt(Mean): 4.47, SNR: 4.51\n",
      "crispy - INFO - True 2  | Mean: 80.546, Std: 8.59, sqrt(Mean): 8.97, SNR: 9.38\n",
      "crispy - INFO - Lstsq 1  | Mean: 19.328, Std: 12.5, sqrt(Mean): 4.4, SNR: 1.55\n",
      "crispy - INFO - Lstsq 2  | Mean: 80.450, Std: 14.8, sqrt(Mean): 8.97, SNR: 5.42\n",
      "crispy - INFO - lucy 1  | Mean: 60.808, Std: 9.54, sqrt(Mean): 7.8, SNR: 6.37\n",
      "crispy - INFO - lucy 2  | Mean: 107.887, Std: 12.2, sqrt(Mean): 10.4, SNR: 8.84\n"
     ]
    },
    {
     "ename": "NameError",
     "evalue": "name 'arr' is not defined",
     "output_type": "error",
     "traceback": [
      "\u001b[0;31m--------------------------------------------------------------------\u001b[0m",
      "\u001b[0;31mNameError\u001b[0m                          Traceback (most recent call last)",
      "\u001b[0;32m<ipython-input-20-c02ba87bd9e9>\u001b[0m in \u001b[0;36m<module>\u001b[0;34m()\u001b[0m\n\u001b[1;32m      5\u001b[0m \u001b[0mlog\u001b[0m\u001b[0;34m.\u001b[0m\u001b[0minfo\u001b[0m\u001b[0;34m(\u001b[0m\u001b[0;34m\"lucy 1  | Mean: {:.3F}, Std: {:.3}, sqrt(Mean): {:.3}, SNR: {:.3}\"\u001b[0m\u001b[0;34m.\u001b[0m\u001b[0mformat\u001b[0m\u001b[0;34m(\u001b[0m\u001b[0mnp\u001b[0m\u001b[0;34m.\u001b[0m\u001b[0mmean\u001b[0m\u001b[0;34m(\u001b[0m\u001b[0mlucy\u001b[0m\u001b[0;34m[\u001b[0m\u001b[0;36m0\u001b[0m\u001b[0;34m]\u001b[0m\u001b[0;34m)\u001b[0m\u001b[0;34m,\u001b[0m\u001b[0mnp\u001b[0m\u001b[0;34m.\u001b[0m\u001b[0mstd\u001b[0m\u001b[0;34m(\u001b[0m\u001b[0mlucy\u001b[0m\u001b[0;34m[\u001b[0m\u001b[0;36m0\u001b[0m\u001b[0;34m]\u001b[0m\u001b[0;34m)\u001b[0m\u001b[0;34m,\u001b[0m\u001b[0mnp\u001b[0m\u001b[0;34m.\u001b[0m\u001b[0msqrt\u001b[0m\u001b[0;34m(\u001b[0m\u001b[0mnp\u001b[0m\u001b[0;34m.\u001b[0m\u001b[0mmean\u001b[0m\u001b[0;34m(\u001b[0m\u001b[0mlucy\u001b[0m\u001b[0;34m[\u001b[0m\u001b[0;36m0\u001b[0m\u001b[0;34m]\u001b[0m\u001b[0;34m)\u001b[0m\u001b[0;34m)\u001b[0m\u001b[0;34m,\u001b[0m\u001b[0mnp\u001b[0m\u001b[0;34m.\u001b[0m\u001b[0mmean\u001b[0m\u001b[0;34m(\u001b[0m\u001b[0mlucy\u001b[0m\u001b[0;34m[\u001b[0m\u001b[0;36m0\u001b[0m\u001b[0;34m]\u001b[0m\u001b[0;34m)\u001b[0m\u001b[0;34m/\u001b[0m\u001b[0mnp\u001b[0m\u001b[0;34m.\u001b[0m\u001b[0mstd\u001b[0m\u001b[0;34m(\u001b[0m\u001b[0mlucy\u001b[0m\u001b[0;34m[\u001b[0m\u001b[0;36m0\u001b[0m\u001b[0;34m]\u001b[0m\u001b[0;34m)\u001b[0m\u001b[0;34m)\u001b[0m\u001b[0;34m)\u001b[0m\u001b[0;34m\u001b[0m\u001b[0m\n\u001b[1;32m      6\u001b[0m \u001b[0mlog\u001b[0m\u001b[0;34m.\u001b[0m\u001b[0minfo\u001b[0m\u001b[0;34m(\u001b[0m\u001b[0;34m\"lucy 2  | Mean: {:.3F}, Std: {:.3}, sqrt(Mean): {:.3}, SNR: {:.3}\"\u001b[0m\u001b[0;34m.\u001b[0m\u001b[0mformat\u001b[0m\u001b[0;34m(\u001b[0m\u001b[0mnp\u001b[0m\u001b[0;34m.\u001b[0m\u001b[0mmean\u001b[0m\u001b[0;34m(\u001b[0m\u001b[0mlucy\u001b[0m\u001b[0;34m[\u001b[0m\u001b[0;36m1\u001b[0m\u001b[0;34m]\u001b[0m\u001b[0;34m)\u001b[0m\u001b[0;34m,\u001b[0m\u001b[0mnp\u001b[0m\u001b[0;34m.\u001b[0m\u001b[0mstd\u001b[0m\u001b[0;34m(\u001b[0m\u001b[0mlucy\u001b[0m\u001b[0;34m[\u001b[0m\u001b[0;36m1\u001b[0m\u001b[0;34m]\u001b[0m\u001b[0;34m)\u001b[0m\u001b[0;34m,\u001b[0m\u001b[0mnp\u001b[0m\u001b[0;34m.\u001b[0m\u001b[0msqrt\u001b[0m\u001b[0;34m(\u001b[0m\u001b[0mnp\u001b[0m\u001b[0;34m.\u001b[0m\u001b[0mmean\u001b[0m\u001b[0;34m(\u001b[0m\u001b[0mlucy\u001b[0m\u001b[0;34m[\u001b[0m\u001b[0;36m1\u001b[0m\u001b[0;34m]\u001b[0m\u001b[0;34m)\u001b[0m\u001b[0;34m)\u001b[0m\u001b[0;34m,\u001b[0m\u001b[0mnp\u001b[0m\u001b[0;34m.\u001b[0m\u001b[0mmean\u001b[0m\u001b[0;34m(\u001b[0m\u001b[0mlucy\u001b[0m\u001b[0;34m[\u001b[0m\u001b[0;36m1\u001b[0m\u001b[0;34m]\u001b[0m\u001b[0;34m)\u001b[0m\u001b[0;34m/\u001b[0m\u001b[0mnp\u001b[0m\u001b[0;34m.\u001b[0m\u001b[0mstd\u001b[0m\u001b[0;34m(\u001b[0m\u001b[0mlucy\u001b[0m\u001b[0;34m[\u001b[0m\u001b[0;36m1\u001b[0m\u001b[0;34m]\u001b[0m\u001b[0;34m)\u001b[0m\u001b[0;34m)\u001b[0m\u001b[0;34m)\u001b[0m\u001b[0;34m\u001b[0m\u001b[0m\n\u001b[0;32m----> 7\u001b[0;31m \u001b[0mlog\u001b[0m\u001b[0;34m.\u001b[0m\u001b[0minfo\u001b[0m\u001b[0;34m(\u001b[0m\u001b[0;34m\"mse lstsq  | {:.3F}\"\u001b[0m\u001b[0;34m.\u001b[0m\u001b[0mformat\u001b[0m\u001b[0;34m(\u001b[0m\u001b[0mnp\u001b[0m\u001b[0;34m.\u001b[0m\u001b[0msqrt\u001b[0m\u001b[0;34m(\u001b[0m\u001b[0mnp\u001b[0m\u001b[0;34m.\u001b[0m\u001b[0mmean\u001b[0m\u001b[0;34m(\u001b[0m\u001b[0;34m(\u001b[0m\u001b[0;34m(\u001b[0m\u001b[0marr\u001b[0m\u001b[0;34m-\u001b[0m\u001b[0mlstsq\u001b[0m\u001b[0;34m)\u001b[0m\u001b[0;34m/\u001b[0m\u001b[0mtrue\u001b[0m\u001b[0;34m)\u001b[0m\u001b[0;34m**\u001b[0m\u001b[0;36m2\u001b[0m\u001b[0;34m,\u001b[0m\u001b[0maxis\u001b[0m\u001b[0;34m=\u001b[0m\u001b[0;36m1\u001b[0m\u001b[0;34m)\u001b[0m\u001b[0;34m[\u001b[0m\u001b[0;36m0\u001b[0m\u001b[0;34m]\u001b[0m\u001b[0;34m)\u001b[0m\u001b[0;34m)\u001b[0m\u001b[0;34m)\u001b[0m\u001b[0;34m\u001b[0m\u001b[0m\n\u001b[0m\u001b[1;32m      8\u001b[0m \u001b[0mlog\u001b[0m\u001b[0;34m.\u001b[0m\u001b[0minfo\u001b[0m\u001b[0;34m(\u001b[0m\u001b[0;34m\"mse lstsq  | {:.3F}\"\u001b[0m\u001b[0;34m.\u001b[0m\u001b[0mformat\u001b[0m\u001b[0;34m(\u001b[0m\u001b[0mnp\u001b[0m\u001b[0;34m.\u001b[0m\u001b[0msqrt\u001b[0m\u001b[0;34m(\u001b[0m\u001b[0mnp\u001b[0m\u001b[0;34m.\u001b[0m\u001b[0mmean\u001b[0m\u001b[0;34m(\u001b[0m\u001b[0;34m(\u001b[0m\u001b[0;34m(\u001b[0m\u001b[0marr\u001b[0m\u001b[0;34m-\u001b[0m\u001b[0mlstsq\u001b[0m\u001b[0;34m)\u001b[0m\u001b[0;34m/\u001b[0m\u001b[0mtrue\u001b[0m\u001b[0;34m)\u001b[0m\u001b[0;34m**\u001b[0m\u001b[0;36m2\u001b[0m\u001b[0;34m,\u001b[0m\u001b[0maxis\u001b[0m\u001b[0;34m=\u001b[0m\u001b[0;36m1\u001b[0m\u001b[0;34m)\u001b[0m\u001b[0;34m[\u001b[0m\u001b[0;36m1\u001b[0m\u001b[0;34m]\u001b[0m\u001b[0;34m)\u001b[0m\u001b[0;34m)\u001b[0m\u001b[0;34m)\u001b[0m\u001b[0;34m\u001b[0m\u001b[0m\n\u001b[1;32m      9\u001b[0m \u001b[0mlog\u001b[0m\u001b[0;34m.\u001b[0m\u001b[0minfo\u001b[0m\u001b[0;34m(\u001b[0m\u001b[0;34m\"mse lucy  | {:.3F}\"\u001b[0m\u001b[0;34m.\u001b[0m\u001b[0mformat\u001b[0m\u001b[0;34m(\u001b[0m\u001b[0mnp\u001b[0m\u001b[0;34m.\u001b[0m\u001b[0msqrt\u001b[0m\u001b[0;34m(\u001b[0m\u001b[0mnp\u001b[0m\u001b[0;34m.\u001b[0m\u001b[0mmean\u001b[0m\u001b[0;34m(\u001b[0m\u001b[0;34m(\u001b[0m\u001b[0;34m(\u001b[0m\u001b[0marr\u001b[0m\u001b[0;34m-\u001b[0m\u001b[0mlucy\u001b[0m\u001b[0;34m)\u001b[0m\u001b[0;34m/\u001b[0m\u001b[0mtrue\u001b[0m\u001b[0;34m)\u001b[0m\u001b[0;34m**\u001b[0m\u001b[0;36m2\u001b[0m\u001b[0;34m,\u001b[0m\u001b[0maxis\u001b[0m\u001b[0;34m=\u001b[0m\u001b[0;36m1\u001b[0m\u001b[0;34m)\u001b[0m\u001b[0;34m[\u001b[0m\u001b[0;36m0\u001b[0m\u001b[0;34m]\u001b[0m\u001b[0;34m)\u001b[0m\u001b[0;34m)\u001b[0m\u001b[0;34m)\u001b[0m\u001b[0;34m\u001b[0m\u001b[0m\n",
      "\u001b[0;31mNameError\u001b[0m: name 'arr' is not defined"
     ]
    }
   ],
   "source": [
    "log.info(\"True 1  | Mean: {:.3F}, Std: {:.3}, sqrt(Mean): {:.3}, SNR: {:.3}\".format(np.mean(true[0]),np.std(true[0]),np.sqrt(np.mean(true[0])),np.mean(true[0])/np.std(true[0])))\n",
    "log.info(\"True 2  | Mean: {:.3F}, Std: {:.3}, sqrt(Mean): {:.3}, SNR: {:.3}\".format(np.mean(true[1]),np.std(true[1]),np.sqrt(np.mean(true[1])),np.mean(true[1])/np.std(true[1])))\n",
    "log.info(\"Lstsq 1  | Mean: {:.3F}, Std: {:.3}, sqrt(Mean): {:.3}, SNR: {:.3}\".format(np.mean(lstsq[0]),np.std(lstsq[0]),np.sqrt(np.mean(lstsq[0])),np.mean(lstsq[0])/np.std(lstsq[0])))\n",
    "log.info(\"Lstsq 2  | Mean: {:.3F}, Std: {:.3}, sqrt(Mean): {:.3}, SNR: {:.3}\".format(np.mean(lstsq[1]),np.std(lstsq[1]),np.sqrt(np.mean(lstsq[1])),np.mean(lstsq[1])/np.std(lstsq[1])))\n",
    "log.info(\"lucy 1  | Mean: {:.3F}, Std: {:.3}, sqrt(Mean): {:.3}, SNR: {:.3}\".format(np.mean(lucy[0]),np.std(lucy[0]),np.sqrt(np.mean(lucy[0])),np.mean(lucy[0])/np.std(lucy[0])))\n",
    "log.info(\"lucy 2  | Mean: {:.3F}, Std: {:.3}, sqrt(Mean): {:.3}, SNR: {:.3}\".format(np.mean(lucy[1]),np.std(lucy[1]),np.sqrt(np.mean(lucy[1])),np.mean(lucy[1])/np.std(lucy[1])))\n",
    "log.info(\"mse lstsq  | {:.3F}\".format(np.sqrt(np.mean(((arr-lstsq)/true)**2,axis=1)[0])))\n",
    "log.info(\"mse lstsq  | {:.3F}\".format(np.sqrt(np.mean(((arr-lstsq)/true)**2,axis=1)[1])))\n",
    "log.info(\"mse lucy  | {:.3F}\".format(np.sqrt(np.mean(((arr-lucy)/true)**2,axis=1)[0])))\n",
    "log.info(\"mse lucy  | {:.3F}\".format(np.sqrt(np.mean(((arr-lucy)/true)**2,axis=1)[1])))\n",
    "arr = np.zeros((2,niter))\n",
    "arr[0,:] = Nphot1\n",
    "arr[1,:] = Nphot2\n",
    "log.info(\"mse true  | {:.3F}\".format(np.sqrt(np.mean(((true-arr)/true)**2,axis=1)[0])))\n",
    "log.info(\"mse true  | {:.3F}\".format(np.sqrt(np.mean(((true-arr)/true)**2,axis=1)[1])))\n",
    "\n"
   ]
  },
  {
   "cell_type": "markdown",
   "metadata": {},
   "source": [
    "## Now using a full microspectrum of N PSFs"
   ]
  },
  {
   "cell_type": "code",
   "execution_count": null,
   "metadata": {
    "ExecuteTime": {
     "end_time": "2018-03-19T19:08:36.224330Z",
     "start_time": "2018-03-19T19:08:26.320Z"
    },
    "collapsed": true
   },
   "outputs": [],
   "source": [
    "from crispy.tools.image import Image\n",
    "os.chdir('/Users/mrizzo/IFS/crispy/crispy/PISCES/')\n",
    "from params import Params\n",
    "par = Params()\n",
    "par.hdr\n",
    "\n",
    "from crispy.unitTests import testFitCutout\n",
    "from crispy.IFS import reduceIFSMap\n",
    "from crispy.tools.reduction import calculateWaveList\n",
    "spectral_cube = reduceIFSMap(par,par.codeRoot+'/Inputs/BB.fits',method='lstsq',fitbkgnd=False,smoothbad=False)\n",
    "spectrum = spectral_cube.data[:,54,54]\n",
    "optspect = reduceIFSMap(par,par.codeRoot+'/Inputs/BB.fits',method='optext')\n",
    "plt.figure(figsize=(12,8))\n",
    "lam_midpts,lam_endpts = calculateWaveList(par)\n",
    "plt.plot(lam_midpts,spectrum,'o-',color='#1f77b4')\n",
    "lam_midpts,lam_endpts = calculateWaveList(par,method=\"optext\")\n",
    "spect = optspect.data[:,54,54]\n",
    "ratio = np.mean(spectrum)/np.mean(spect)\n",
    "print ratio\n",
    "plt.plot(lam_midpts,spect*ratio,'o-',color='#d62728')\n",
    "plt.tick_params(axis='both', which='major', labelsize=20)\n",
    "plt.xlabel('Wavelength (nm)',fontsize=20)\n",
    "plt.ylabel('Counts (arbitrary)',fontsize=20)\n",
    "plt.title('Optimal and least squares methods',fontsize=25)\n",
    "plt.legend([\"Least squares extraction\",\"Optimal extraction\"],fontsize=20)"
   ]
  },
  {
   "cell_type": "code",
   "execution_count": null,
   "metadata": {
    "ExecuteTime": {
     "end_time": "2018-03-19T19:08:36.225794Z",
     "start_time": "2018-03-19T19:08:26.322Z"
    },
    "collapsed": true
   },
   "outputs": [],
   "source": [
    "from crispy.tools.reduction import RL,get_cutout,fit_cutout\n",
    "from crispy.tools.image import Image\n",
    "from astropy.io import fits\n",
    "\n",
    "polychromeR = fits.open(par.wavecalDir + 'polychromeR%d.fits' % (par.R))\n",
    "psflets = polychromeR[0].data\n",
    "\n",
    "polychromekey = fits.open(par.wavecalDir + 'polychromekeyR%d.fits' % (par.R))\n",
    "xindx = polychromekey[1].data\n",
    "yindx = polychromekey[2].data\n",
    "good = polychromekey[3].data\n",
    "ifsimage = Image(par.codeRoot+'/Inputs/BB.fits')\n",
    "i = 54\n",
    "j = 54\n",
    "dy=3\n",
    "subim, psflet_subarr, [y0, y1, x0, x1] = get_cutout(ifsimage,xindx[:,i,j],yindx[:,i,j],psflets,dy)\n",
    "plt.imshow(subim)"
   ]
  },
  {
   "cell_type": "code",
   "execution_count": null,
   "metadata": {
    "ExecuteTime": {
     "end_time": "2018-03-19T19:08:36.227200Z",
     "start_time": "2018-03-19T19:08:26.326Z"
    },
    "collapsed": true
   },
   "outputs": [],
   "source": [
    "subim_flat = np.reshape(subim, -1)\n",
    "psflets_flat = np.reshape(psflet_subarr, (psflet_subarr.shape[0], -1))\n",
    "for i in range(psflets_flat.shape[0]):\n",
    "    psflets_flat[i] /= np.sum(psflets_flat[i])\n",
    "leastsq = np.linalg.lstsq(psflets_flat.T, subim_flat)[0]\n",
    "lucy = RL(subim_flat,psflets_flat)[0]\n",
    "print np.sum(psflets_flat[0])"
   ]
  },
  {
   "cell_type": "code",
   "execution_count": null,
   "metadata": {
    "ExecuteTime": {
     "end_time": "2018-03-19T19:08:36.228558Z",
     "start_time": "2018-03-19T19:08:26.328Z"
    },
    "collapsed": true
   },
   "outputs": [],
   "source": [
    "plt.figure(figsize=(12,8))\n",
    "lam_midpts,lam_endpts = calculateWaveList(par)\n",
    "print lam_midpts\n",
    "plt.plot(lam_midpts,leastsq,'o-',label='Least squares extraction')\n",
    "plt.plot(lam_midpts,lucy,label='Richardson-Lucy')\n",
    "lam_midpts,lam_endpts = calculateWaveList(par,method=\"optext\")\n",
    "print lam_midpts\n",
    "spect = optspect.data[:,54,54]\n",
    "ratio = np.mean(leastsq)/np.mean(spect)\n",
    "print ratio\n",
    "plt.plot(lam_midpts,spect*ratio,'o-',label='Optimal extraction')\n",
    "plt.tick_params(axis='both', which='major', labelsize=20)\n",
    "plt.xlabel('Wavelength (nm)',fontsize=20)\n",
    "plt.ylabel('Counts (arbitrary)',fontsize=20)\n",
    "plt.title('Optimal and least squares methods',fontsize=25)\n",
    "plt.legend(fontsize=20)\n"
   ]
  },
  {
   "cell_type": "markdown",
   "metadata": {},
   "source": [
    "## Take the least squares solution, and recreate a Poisson-distributed micro-spectrum"
   ]
  },
  {
   "cell_type": "code",
   "execution_count": null,
   "metadata": {
    "ExecuteTime": {
     "end_time": "2018-03-19T19:08:36.229971Z",
     "start_time": "2018-03-19T19:08:26.354Z"
    },
    "collapsed": true
   },
   "outputs": [],
   "source": [
    "newvect = np.zeros_like(subim)\n",
    "for i in range(psflets_flat.shape[0]):\n",
    "    newvect += psflet_subarr[i]*leastsq[i]\n",
    "plt.imshow(newvect)\n",
    "print(np.sum(newvect))"
   ]
  },
  {
   "cell_type": "code",
   "execution_count": null,
   "metadata": {
    "ExecuteTime": {
     "end_time": "2018-03-19T19:08:36.231541Z",
     "start_time": "2018-03-19T19:08:26.355Z"
    },
    "collapsed": true
   },
   "outputs": [],
   "source": [
    "Nphot = 100\n",
    "newvect *= Nphot/np.sum(newvect)\n",
    "\n",
    "new = np.random.poisson(newvect)\n",
    "\n",
    "plt.imshow(new)"
   ]
  },
  {
   "cell_type": "code",
   "execution_count": null,
   "metadata": {
    "ExecuteTime": {
     "end_time": "2018-03-19T19:08:36.232951Z",
     "start_time": "2018-03-19T19:08:26.358Z"
    },
    "collapsed": true
   },
   "outputs": [],
   "source": [
    "new_flat = np.reshape(new, -1)\n",
    "leastsq = np.linalg.lstsq(psflets_flat.T, new_flat)[0]\n",
    "lucy = RL(new_flat,psflets_flat)[0]\n"
   ]
  },
  {
   "cell_type": "code",
   "execution_count": null,
   "metadata": {
    "ExecuteTime": {
     "end_time": "2018-03-19T19:08:36.234958Z",
     "start_time": "2018-03-19T19:08:26.360Z"
    },
    "collapsed": true
   },
   "outputs": [],
   "source": [
    "plt.figure(figsize=(12,8))\n",
    "lam_midpts,lam_endpts = calculateWaveList(par)\n",
    "print lam_midpts\n",
    "plt.plot(lam_midpts,leastsq,'o-',label='Least squares extraction')\n",
    "plt.plot(lam_midpts,lucy,label='Richardson-Lucy')\n"
   ]
  },
  {
   "cell_type": "code",
   "execution_count": null,
   "metadata": {
    "collapsed": true
   },
   "outputs": [],
   "source": []
  },
  {
   "cell_type": "raw",
   "metadata": {},
   "source": [
    "plt.imshow(np.reshape(np.dot(coef.T,psflets_flat),img.shape))"
   ]
  },
  {
   "cell_type": "raw",
   "metadata": {},
   "source": [
    "print coef"
   ]
  },
  {
   "cell_type": "raw",
   "metadata": {},
   "source": [
    "img_flat = np.reshape(img, -1)\n",
    "new = coef*np.sum(psflets_flat*img_flat/(np.dot(coef,psflets_flat)+1e-10),axis=1)\n",
    "print coef,new\n",
    "print np.dot(coef.T,psflets_flat).shape\n",
    "plt.figure()\n",
    "plt.imshow(np.reshape(np.dot(coef.T,psflets_flat),img.shape))\n"
   ]
  },
  {
   "cell_type": "raw",
   "metadata": {},
   "source": [
    "val,chain,loglike = RL(img,psflets,nit=12)\n",
    "print val"
   ]
  },
  {
   "cell_type": "raw",
   "metadata": {},
   "source": [
    "print chain.shape\n",
    "plt.plot(chain[:,0])\n",
    "plt.plot(chain[:,1])"
   ]
  },
  {
   "cell_type": "raw",
   "metadata": {},
   "source": [
    "plt.plot(loglike)"
   ]
  },
  {
   "cell_type": "raw",
   "metadata": {},
   "source": [
    "print chain"
   ]
  },
  {
   "cell_type": "raw",
   "metadata": {},
   "source": [
    "print psflets_flat[0].shape\n",
    "vals = psflets_flat/(np.dot(coef,psflets_flat)+1e-10)\n",
    "plt.figure(figsize=(fsize,fsize))\n",
    "plt.imshow(np.reshape(vals.T[:,1],img.shape))\n",
    "plt.colorbar(fraction=0.046, pad=0.04)\n"
   ]
  }
 ],
 "metadata": {
  "kernelspec": {
   "display_name": "Python 2",
   "language": "python",
   "name": "python2"
  },
  "language_info": {
   "codemirror_mode": {
    "name": "ipython",
    "version": 2
   },
   "file_extension": ".py",
   "mimetype": "text/x-python",
   "name": "python",
   "nbconvert_exporter": "python",
   "pygments_lexer": "ipython2",
   "version": "2.7.15"
  },
  "latex_envs": {
   "LaTeX_envs_menu_present": true,
   "autoclose": false,
   "autocomplete": true,
   "bibliofile": "biblio.bib",
   "cite_by": "apalike",
   "current_citInitial": 1,
   "eqLabelWithNumbers": true,
   "eqNumInitial": 1,
   "hotkeys": {
    "equation": "Ctrl-E",
    "itemize": "Ctrl-I"
   },
   "labels_anchors": false,
   "latex_user_defs": false,
   "report_style_numbering": false,
   "user_envs_cfg": false
  },
  "toc": {
   "nav_menu": {},
   "number_sections": true,
   "sideBar": true,
   "skip_h1_title": false,
   "title_cell": "Table of Contents",
   "title_sidebar": "Contents",
   "toc_cell": false,
   "toc_position": {},
   "toc_section_display": true,
   "toc_window_display": true
  },
  "varInspector": {
   "cols": {
    "lenName": 16,
    "lenType": 16,
    "lenVar": 40
   },
   "kernels_config": {
    "python": {
     "delete_cmd_postfix": "",
     "delete_cmd_prefix": "del ",
     "library": "var_list.py",
     "varRefreshCmd": "print(var_dic_list())"
    },
    "r": {
     "delete_cmd_postfix": ") ",
     "delete_cmd_prefix": "rm(",
     "library": "var_list.r",
     "varRefreshCmd": "cat(var_dic_list()) "
    }
   },
   "position": {
    "height": "1114px",
    "left": "2030px",
    "right": "20px",
    "top": "110px",
    "width": "514px"
   },
   "types_to_exclude": [
    "module",
    "function",
    "builtin_function_or_method",
    "instance",
    "_Feature"
   ],
   "window_display": true
  }
 },
 "nbformat": 4,
 "nbformat_minor": 2
}
