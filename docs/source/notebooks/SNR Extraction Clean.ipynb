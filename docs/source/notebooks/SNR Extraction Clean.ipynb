{
 "cells": [
  {
   "cell_type": "code",
   "execution_count": 1,
   "metadata": {},
   "outputs": [
    {
     "name": "stdout",
     "output_type": "stream",
     "text": [
      "Populating the interactive namespace from numpy and matplotlib\n"
     ]
    },
    {
     "data": {
      "text/plain": [
       "SIMPLE  =                    T / conforms to FITS standard                      \n",
       "BITPIX  =                    8 / array data type                                \n",
       "NAXIS   =                    0 / number of array dimensions                     \n",
       "EXTEND  =                    T                                                  \n",
       "COMMENT                                                                         \n",
       "COMMENT ************************************************************            \n",
       "COMMENT ********************** General parameters ******************            \n",
       "COMMENT ************************************************************            \n",
       "COMMENT                                                                         \n",
       "NLENS   =                  108 / # lenslets across array                        \n",
       "PITCH   =             0.000174 / Lenslet pitch (meters)                         \n",
       "INTERLAC=                  2.0 / Interlacing                                    \n",
       "PHILENS =    26.56505117707799 / Rotation angle of the lenslets (deg)           \n",
       "PIXSIZE =              1.3E-05 / Pixel size (meters)                            \n",
       "LENSAMP =                  0.5 / Lenslet sampling (lam/D)                       \n",
       "LSAMPWAV=                660.0 / Lenslet sampling wavelength (nm)               \n",
       "FWHM    =                  2.0 / FHWM of PSFLet at detector (pixels)            \n",
       "FWHMLAM =                660.0 / Wavelength at which FWHM is defined (nm)       \n",
       "NPIX    =                 1024 / Number of detector pixels                      \n",
       "BW      =                 0.18 / Bandwidth                                      \n",
       "PIXPRLAM=                  2.0 / Pixels per resolution element                  \n",
       "R       =                   50 / Spectral resolution                            "
      ]
     },
     "execution_count": 1,
     "metadata": {},
     "output_type": "execute_result"
    }
   ],
   "source": [
    "import numpy as np\n",
    "import scipy as sp\n",
    "import glob,os\n",
    "%pylab inline --no-import-all\n",
    "plt.rc('font', family='serif', serif='Times',size=15)\n",
    "plt.rc('text', usetex=True)\n",
    "plt.rc('xtick', labelsize=20)\n",
    "plt.rc('xtick.major', size=10)\n",
    "plt.rc('ytick.major', size=10)\n",
    "plt.rc('ytick', labelsize=20)\n",
    "plt.rc('axes', labelsize=20)\n",
    "plt.rc('figure',titlesize=25)\n",
    "plt.rcParams['image.origin'] = 'lower'\n",
    "plt.rcParams['image.interpolation'] = 'nearest'\n",
    "plt.rcParams['axes.linewidth'] = 2.\n",
    "from astropy.io import fits\n",
    "import pandas as pd\n",
    "import logging as log\n",
    "from crispy.tools.initLogger import getLogger\n",
    "log = getLogger('main')\n",
    "from crispy.tools.image import Image\n",
    "os.chdir('/Users/mrizzo/IFS/crispy/crispy/WFIRST/')\n",
    "from params import Params\n",
    "par = Params()\n",
    "par.hdr"
   ]
  },
  {
   "cell_type": "code",
   "execution_count": null,
   "metadata": {
    "collapsed": true
   },
   "outputs": [],
   "source": []
  },
  {
   "cell_type": "code",
   "execution_count": 2,
   "metadata": {},
   "outputs": [
    {
     "name": "stdout",
     "output_type": "stream",
     "text": [
      "crispy - INFO - Read data from HDU 0 of ..//ReferenceFiles/wavecalR50_660/polychromeR50stack.fits.gz\n"
     ]
    }
   ],
   "source": [
    "lensX=10\n",
    "lensY=10\n",
    "\n",
    "from crispy.tools.locate_psflets import PSFLets\n",
    "from crispy.tools.reduction import get_cutout\n",
    "polychromeR = fits.open(par.wavecalDir + 'polychromeR%d.fits.gz' % (par.R))\n",
    "psflets = polychromeR[0].data\n",
    "psftool = PSFLets()\n",
    "lamlist = np.loadtxt(par.wavecalDir + \"lamsol.dat\")[:, 0]\n",
    "allcoef = np.loadtxt(par.wavecalDir + \"lamsol.dat\")[:, 1:]\n",
    "\n",
    "# lam in nm\n",
    "psftool.geninterparray(lamlist, allcoef)\n",
    "\n",
    "xlist = []\n",
    "ylist = []\n",
    "for lam in lamlist:\n",
    "    _x,_y = psftool.return_locations(lam, allcoef, lensX, lensY)\n",
    "    xlist += [_x]    \n",
    "    ylist += [_y]    \n",
    "\n",
    "im = Image(filename = par.wavecalDir + 'polychromeR%dstack.fits.gz' % (par.R))\n",
    "subim, psflet_subarr, [x0, x1, y0, y1] = get_cutout(im,xlist,ylist,psflets)\n",
    "for i in range(psflet_subarr.shape[0]):\n",
    "    psflet_subarr[i] /= np.sum(psflet_subarr[i])"
   ]
  },
  {
   "cell_type": "code",
   "execution_count": 33,
   "metadata": {},
   "outputs": [
    {
     "name": "stdout",
     "output_type": "stream",
     "text": [
      "crispy - INFO - Reduced cube will have 17 wavelength bins\n"
     ]
    }
   ],
   "source": [
    "from crispy.tools.reduction import RL,calculateWaveList\n",
    "lamlist,_ = calculateWaveList(par,method='lstsq')\n",
    "def calcSNRtotal(Nelec,subim,psflet_subarr,pixnoise=0.,npix=0,Niter=10000,plot=True,indspec=4,vect=None):\n",
    "    #sumpsflets = subim*Nelec+pixnoise+1e-10\n",
    "    N = psflet_subarr.shape[0]\n",
    "    lstsq = np.zeros((N,Niter))\n",
    "    Rvect = np.zeros((N,Niter))\n",
    "    RLvals = np.zeros((N,Niter))\n",
    "    optext = np.zeros((subim.shape[1],Niter))\n",
    "    PSFlet_tool = PSFLets(load=True, infiledir=par.wavecalDir)\n",
    "    xindx = PSFlet_tool.xindx\n",
    "    yindx = PSFlet_tool.yindx\n",
    "    Nmax = PSFlet_tool.nlam_max\n",
    "    i=lensX+54\n",
    "    j=lensY+54\n",
    "    _x = xindx[i, j, :PSFlet_tool.nlam[i, j]]\n",
    "    _y = yindx[i, j, :PSFlet_tool.nlam[i, j]]\n",
    "    _lam = PSFlet_tool.lam_indx[i, j, :PSFlet_tool.nlam[i, j]]\n",
    "    X = _x-y0\n",
    "    X = X[1:-1]\n",
    "    Y = _y-x0\n",
    "    Y = Y[1:-1]\n",
    "    lam = _lam[1:-1]\n",
    "\n",
    "    psflets_flat = np.reshape(psflet_subarr, (psflet_subarr.shape[0], -1))\n",
    "    A = psflets_flat.T\n",
    "#     variance = np.reshape(subim*Nelec+pixnoise+1e-10,-1)\n",
    "#     Ninv = np.linalg.inv(np.diag(variance))\n",
    "#     Cinv = np.dot(np.transpose(A),np.dot(Ninv,A))\n",
    "#     C = np.linalg.inv(Cinv)\n",
    "#     Q = sp.linalg.sqrtm(Cinv)\n",
    "#     s = np.sum(Q,axis=1)\n",
    "#     R = Q/s[np.newaxis,:]\n",
    "#     Ctilde_inv = np.diag(s**2)\n",
    "#     Ctilde = np.dot(np.dot(R,C),R.T)\n",
    "\n",
    "    for j in range(Niter):\n",
    "        # subtract mean of background (assumed known)\n",
    "#         img = np.random.poisson(subim*Nelec)+np.random.poisson(pixnoise,subim.shape)-pixnoise\n",
    "#         Nit = np.amax((subim*Nelec+pixnoise)/0.1).astype(int)\n",
    "#         img = np.zeros_like(subim)\n",
    "#         var = np.zeros_like(subim)\n",
    "#         for h in range(Nit):\n",
    "#             frame = np.random.poisson((subim*Nelec+pixnoise)/Nit.astype(float))\n",
    "#             img+= frame\n",
    "#             var += frame**2\n",
    "#         var /= Nit.astype(float)\n",
    "#         var -= (img/Nit.astype(float))**2\n",
    "#         var*=Nit\n",
    "#         subim_flat = np.reshape(img/np.sqrt(sumpsflets), -1)\n",
    "#         psflets_flat = np.reshape(psflet_subarr, (psflet_subarr.shape[0], -1))\n",
    "#         sumpsflets_flat = np.reshape(sumpsflets,-1)\n",
    "#         vals[:,i] = np.linalg.lstsq(psflets_flat.T/(np.sqrt(sumpsflets_flat[:,np.newaxis])), subim_flat)[0]\n",
    "#         variance = np.reshape(img+pixnoise+1,-1)\n",
    "#         variance = np.reshape(subim*Nelec+pixnoise+1e-10,-1)\n",
    "#         variance = np.reshape(var+1,-1)\n",
    "        img = np.random.poisson(subim*Nelec+pixnoise)\n",
    "#         img -= pixnoise\n",
    "        rl = RL(img,psflets=psflet_subarr,prior=pixnoise)[0]-pixnoise#np.dot(R,RL(img,psflets=psflet_subarr)[0])\n",
    "        RLvals[:,j] = rl\n",
    "        img -= pixnoise\n",
    "        variance = np.reshape(np.sum(psflet_subarr*rl[:,np.newaxis,np.newaxis],axis=0),-1)+pixnoise\n",
    "#         variance = np.reshape(np.sum(psflet_subarr*rl[:,np.newaxis,np.newaxis],axis=0),-1)\n",
    "        Ninv = np.diag(1./(variance+1e-10))\n",
    "        Cinv = np.dot(np.transpose(A),np.dot(Ninv,A))\n",
    "        C = np.linalg.inv(Cinv)\n",
    "        Q = sp.linalg.sqrtm(Cinv)\n",
    "        s = np.sum(Q,axis=0)\n",
    "        R = Q/s[:,np.newaxis]\n",
    "        Ctilde_inv = np.diag(s**2)\n",
    "        x = np.reshape(img,-1)\n",
    "        right = np.dot(np.transpose(A),np.dot(Ninv,x))\n",
    "        f = np.dot(C,right)\n",
    "        \n",
    "#         lstsq[:,j] = np.dot(C,right)#np.dot(R,f)\n",
    "        lstsq[:,j] = np.dot(R,f)\n",
    "        RLvals[:,j] = np.dot(R,RLvals[:,j])\n",
    "        Rvect[:,j] = np.dot(R,vect)\n",
    "#         RLvals[:,j] = np.dot(R,RL(img,psflets=psflet_subarr)[0])\n",
    "        spec = np.zeros(subim.shape[1])\n",
    "        sig = 2./2.35*lam/par.FWHMlam\n",
    "        y = np.mean(Y)                  \n",
    "#         for i in range(img.shape[1]):\n",
    "#             weights = np.exp(-(np.arange(img.shape[0])-y)**2/2./sig[i]**2)/sig[i]/np.sqrt(2.*np.pi)\n",
    "#             optext[i,j] = np.sum(img[:,i]*weights)/np.sum(weights**2)    \n",
    "\n",
    "\n",
    "    estSNRlstsq = np.mean(lstsq,axis=1)/np.std(lstsq,axis=1)\n",
    "    estSNRRL = np.mean(RLvals,axis=1)/np.std(RLvals,axis=1)\n",
    "#     estSNROptExt = np.mean(0.5*(optext[13,:]+optext[14,:]))/np.std(0.5*(optext[13,:]+optext[14,:]))\n",
    "    if plot:\n",
    "        plt.figure()\n",
    "        plt.imshow(img+pixnoise)\n",
    "        plt.colorbar(orientation='horizontal')\n",
    "        plt.figure()\n",
    "        plt.imshow(img-np.reshape(np.dot(A,np.dot(R,f)),subim.shape))\n",
    "        plt.colorbar(orientation='horizontal')\n",
    "        plt.figure()\n",
    "        lamlist,_ = calculateWaveList(par,method='lstsq')\n",
    "        plt.plot(lamlist,lstsq[:,-1])\n",
    "        plt.plot(lamlist,RLvals[:,-1])\n",
    "#         lamlist,_ = calculateWaveList(par,method='optext')\n",
    "#         scale = np.mean(RLvals[:,-1])/np.mean(optext[4:-4,-1])\n",
    "#         plt.plot(lamlist,scale*optext[3:-3,-1])\n",
    "#         print np.mean(RLvals[:,-1]),np.mean(optext[4:-4,-1])\n",
    "\n",
    "        SNR = Nelec/(np.sqrt(Nelec+npix*pixnoise))\n",
    "        print \"Expected SNR:\",SNR\n",
    "        print \"Estimated SNR lstsq:\",estSNRlstsq[indspec]\n",
    "        print \"Estimated SNR RL:\",estSNRRL[indspec]\n",
    "        if vect is not None:\n",
    "            varray = np.array(vect)+1e-10\n",
    "            fchi2 = Rvect[:,-1]\n",
    "            plt.figure()\n",
    "            plt.plot(lamlist,fchi2)\n",
    "            plt.plot(lamlist,lstsq[:,-1])\n",
    "            plt.plot(lamlist,RLvals[:,-1])\n",
    "            \n",
    "#             print \"MSE lstsq:\",np.sum((estSNRlstsq-fchi2)**2)/np.sum(fchi2**2)\n",
    "#             print \"MSE RL:\",np.sum((estSNRRL-fchi2)**2)/np.sum(fchi2**2)\n",
    "            print \"MSE lstsq:\",np.mean(np.sum((lstsq-Rvect)**2,axis=0)/np.sum(Rvect**2,axis=0))\n",
    "            print \"MSE RL:\",np.mean(np.sum((RLvals-Rvect)**2,axis=0)/np.sum(Rvect**2,axis=0))\n",
    "#             print \"MSRE lstsq normalized:\",np.std((estSNRlstsq-varray)/varray)\n",
    "#             print \"MSRE RL normalized:\",np.std((estSNRRL-varray)/varray)\n",
    "            \n",
    "        \n",
    "#         print \"Estimated SNR OptExt:\",estSNROptExt\n",
    "        print \"Expected mean:\",np.mean(Rvect[:,indspec])\n",
    "        print \"Estimated mean lstsq:\",np.mean(lstsq,axis=1)[indspec]\n",
    "        print \"Estimated mean RL:\",np.mean(RLvals,axis=1)[indspec]\n",
    "        print pd.DataFrame(R)\n",
    "        print np.sum(R,axis=0)\n",
    "        print R[0],np.sum(R[0])\n",
    "#         print \"Estimated mean:\",np.mean(0.5*(optext[13,:]+optext[14,:]))\n",
    "\n",
    "    return estSNRlstsq,estSNRRL#,estSNROptExt"
   ]
  },
  {
   "cell_type": "code",
   "execution_count": 34,
   "metadata": {},
   "outputs": [
    {
     "name": "stdout",
     "output_type": "stream",
     "text": [
      "17\n"
     ]
    }
   ],
   "source": [
    "print psflet_subarr.shape[0]"
   ]
  },
  {
   "cell_type": "code",
   "execution_count": 35,
   "metadata": {
    "scrolled": false
   },
   "outputs": [
    {
     "name": "stdout",
     "output_type": "stream",
     "text": [
      "crispy - INFO - Reduced cube will have 17 wavelength bins\n",
      "Expected SNR: 10.9544511501\n",
      "Estimated SNR lstsq: 11.6886334469\n",
      "Estimated SNR RL: 16.7906006169\n",
      "MSE lstsq: 0.00765146847094\n",
      "MSE RL: 0.0665005313014\n",
      "Expected mean: 300.0\n",
      "Estimated mean lstsq: 299.655548471\n",
      "Estimated mean RL: 325.289103542\n",
      "              0         1             2         3             4         5   \\\n",
      "0   7.016058e-01  0.272017  2.496640e-02  0.001827 -6.091911e-04  0.000286   \n",
      "1   2.252866e-01  0.513718  2.398145e-01  0.019955  1.694814e-03 -0.000732   \n",
      "2   2.016116e-02  0.233827  4.908468e-01  0.232227  2.121559e-02  0.002250   \n",
      "3   1.476177e-03  0.019467  2.323483e-01  0.487847  2.365937e-01  0.021125   \n",
      "4  -5.028568e-04  0.001689  2.168634e-02  0.241717  4.799513e-01  0.231625   \n",
      "5   2.389993e-04 -0.000739  2.330771e-03  0.021868  2.346867e-01  0.476061   \n",
      "6  -1.211733e-04  0.000377 -7.710773e-04  0.001553  2.254688e-02  0.233465   \n",
      "7   6.076222e-05 -0.000178  3.383411e-04 -0.000576  1.446549e-03  0.025931   \n",
      "8  -3.075625e-05  0.000088 -1.664365e-04  0.000283 -4.690634e-04  0.001859   \n",
      "9   1.609948e-05 -0.000046  8.895664e-05 -0.000158  2.899090e-04 -0.000546   \n",
      "10 -8.238925e-06  0.000025 -4.912429e-05  0.000089 -1.552708e-04  0.000258   \n",
      "11  6.226711e-06 -0.000014  2.769083e-05 -0.000049  8.231002e-05 -0.000133   \n",
      "12 -2.086627e-06  0.000010 -1.572382e-05  0.000028 -4.604338e-05  0.000076   \n",
      "13  1.778345e-06 -0.000004  1.135780e-05 -0.000015  2.625790e-05 -0.000044   \n",
      "14 -9.891378e-07  0.000003 -3.689084e-06  0.000011 -1.321073e-05  0.000024   \n",
      "15  7.978713e-07 -0.000001  2.585030e-06 -0.000002  1.045422e-05 -0.000010   \n",
      "16  1.846644e-06  0.000001 -8.902447e-07  0.000002  2.159613e-07  0.000010   \n",
      "\n",
      "          6         7         8         9         10        11        12  \\\n",
      "0  -0.000148  0.000074 -0.000037  0.000019 -0.000010  0.000007 -0.000002   \n",
      "1   0.000380 -0.000179  0.000087 -0.000045  0.000024 -0.000014  0.000010   \n",
      "2  -0.000758  0.000332 -0.000161  0.000085 -0.000047  0.000027 -0.000015   \n",
      "3   0.001527 -0.000566  0.000274 -0.000151  0.000085 -0.000047  0.000026   \n",
      "4   0.022656  0.001451 -0.000463  0.000282 -0.000152  0.000081 -0.000045   \n",
      "5   0.237699  0.026357  0.001860 -0.000538  0.000255 -0.000133  0.000074   \n",
      "6   0.478525  0.237100  0.025978  0.001604 -0.000395  0.000213 -0.000124   \n",
      "7   0.237499  0.473234  0.233627  0.027335  0.001495 -0.000358  0.000235   \n",
      "8   0.026437  0.237358  0.469070  0.235796  0.028531  0.001609 -0.000531   \n",
      "9   0.001657  0.028189  0.239344  0.464048  0.235839  0.029401  0.002074   \n",
      "10 -0.000406  0.001537  0.028863  0.235049  0.457603  0.242543  0.033116   \n",
      "11  0.000216 -0.000364  0.001609  0.028973  0.239819  0.456978  0.238559   \n",
      "12 -0.000128  0.000242 -0.000539  0.002074  0.033236  0.242147  0.451639   \n",
      "13  0.000077 -0.000143  0.000251 -0.000326  0.001855  0.033554  0.241800   \n",
      "14 -0.000041  0.000069 -0.000114  0.000196 -0.000419  0.002147  0.033489   \n",
      "15  0.000019 -0.000031  0.000054 -0.000103  0.000193 -0.000254  0.001647   \n",
      "16 -0.000004  0.000012 -0.000021  0.000039 -0.000060  0.000090 -0.000257   \n",
      "\n",
      "          13        14            15            16  \n",
      "0   0.000002 -0.000001  9.129225e-07  1.731029e-06  \n",
      "1  -0.000004  0.000003 -1.310781e-06  9.126340e-07  \n",
      "2   0.000011 -0.000003  2.388505e-06 -6.738917e-07  \n",
      "3  -0.000014  0.000010 -2.304908e-06  1.269262e-06  \n",
      "4   0.000025 -0.000013  9.873777e-06  1.671044e-07  \n",
      "5  -0.000043  0.000023 -9.429968e-06  7.632667e-06  \n",
      "6   0.000073 -0.000039  1.757012e-05 -2.864469e-06  \n",
      "7  -0.000135  0.000066 -2.934950e-05  9.417480e-06  \n",
      "8   0.000242 -0.000111  5.188773e-05 -1.668890e-05  \n",
      "9  -0.000319  0.000193 -1.003782e-04  3.070260e-05  \n",
      "10  0.001810 -0.000413  1.863526e-04 -4.767441e-05  \n",
      "11  0.032371  0.002090 -2.426775e-04  7.037176e-05  \n",
      "12  0.236783  0.033100  1.600009e-03 -2.043275e-04  \n",
      "13  0.447927  0.236844  3.593331e-02  2.250809e-03  \n",
      "14  0.234655  0.445920  2.440809e-01  3.999765e-02  \n",
      "15  0.036232  0.248404  4.709357e-01  2.429031e-01  \n",
      "16  0.002770  0.049687  2.964920e-01  6.512387e-01  \n",
      "[ 0.94819014  1.04024087  1.01145501  1.00660441  0.99725184  0.99150546\n",
      "  1.00520906  1.00467251  0.99968199  0.99433546  0.99785452  1.00798915\n",
      "  1.00169584  0.99238665  1.01576137  1.04892546  0.93624026]\n",
      "[  7.01605792e-01   2.72016870e-01   2.49664037e-02   1.82705702e-03\n",
      "  -6.09191110e-04   2.85761248e-04  -1.47509308e-04   7.38442251e-05\n",
      "  -3.67905657e-05   1.89727370e-05  -9.74196940e-06   7.44629072e-06\n",
      "  -2.45835103e-06   2.05168335e-06  -1.15181680e-06   9.12922465e-07\n",
      "   1.73102876e-06] 1.0\n"
     ]
    },
    {
     "data": {
      "text/plain": [
       "(array([ 10.48751355,  12.33784348,  11.80319238,  12.04644225,\n",
       "         12.11889784,  11.70569059,  11.55916811,  11.48960752,\n",
       "         11.68863345,  11.55947014,  11.28047687,  11.4683224 ,\n",
       "         11.58073269,  11.28273223,  11.18729911,  11.19171727,  10.20629886]),\n",
       " array([ 19.48336125,  15.13514426,  16.47342416,  16.15816381,\n",
       "         17.12858255,  16.25355986,  16.38721717,  16.10238542,\n",
       "         16.79060062,  16.54268192,  16.35816245,  16.70976778,\n",
       "         17.09393987,  16.33931067,  17.18131083,  14.79816497,  23.43333729]))"
      ]
     },
     "execution_count": 35,
     "metadata": {},
     "output_type": "execute_result"
    },
    {
     "data": {
      "image/png": "[encoded data removed]",
      "text/plain": [
       "<matplotlib.figure.Figure at 0x1176f0490>"
      ]
     },
     "metadata": {},
     "output_type": "display_data"
    },
    {
     "data": {
      "image/png": "[encoded data removed]",
      "text/plain": [
       "<matplotlib.figure.Figure at 0x1c336a7090>"
      ]
     },
     "metadata": {},
     "output_type": "display_data"
    },
    {
     "data": {
      "image/png": "[encoded data removed]",
      "text/plain": [
       "<matplotlib.figure.Figure at 0x1c1cfced50>"
      ]
     },
     "metadata": {},
     "output_type": "display_data"
    },
    {
     "data": {
      "image/png": "[encoded data removed]",
      "text/plain": [
       "<matplotlib.figure.Figure at 0x1c33a41750>"
      ]
     },
     "metadata": {},
     "output_type": "display_data"
    }
   ],
   "source": [
    "\n",
    "# subim = np.sum(psflet_subarr,axis=0)\n",
    "# vect = np.array([1,0,0,0,1,0,0,0,1,0,0,0,1,0,0,0,1])\n",
    "vect = np.ones(psflet_subarr.shape[0])\n",
    "# vect = np.array([1,0,0,0,1,0,0,0,1,0,0,0,0,1,0,0,0])\n",
    "subim = np.sum(psflet_subarr*vect[:,np.newaxis,np.newaxis],axis=0)\n",
    "Nelec = 300\n",
    "calcSNRtotal(Nelec=Nelec,\n",
    "        subim=subim,\n",
    "        psflet_subarr=psflet_subarr,\n",
    "        pixnoise=100,\n",
    "        npix=4.5,\n",
    "        plot=True,\n",
    "        Niter=1000,\n",
    "        indspec=8,\n",
    "        vect = Nelec*vect)"
   ]
  },
  {
   "cell_type": "markdown",
   "metadata": {},
   "source": [
    "# Study of the RL algorithm with prior"
   ]
  },
  {
   "cell_type": "code",
   "execution_count": 64,
   "metadata": {},
   "outputs": [
    {
     "data": {
      "text/plain": [
       "<matplotlib.colorbar.Colorbar at 0x1c1ab52d90>"
      ]
     },
     "execution_count": 64,
     "metadata": {},
     "output_type": "execute_result"
    },
    {
     "data": {
      "image/png": "[encoded data removed]",
      "text/plain": [
       "<matplotlib.figure.Figure at 0x1c1aa6c3d0>"
      ]
     },
     "metadata": {},
     "output_type": "display_data"
    }
   ],
   "source": [
    "pixnoise = 200\n",
    "vect = np.ones(psflet_subarr.shape[0])\n",
    "# vect = np.array([1,2,1,2,1,2,1,2,1,2,1,2,2,1,2,2,1])\n",
    "subim = np.sum(psflet_subarr*vect[:,np.newaxis,np.newaxis],axis=0)\n",
    "Nelec = 1000\n",
    "\n",
    "img = np.random.poisson(subim*Nelec+pixnoise)\n",
    "plt.imshow(img)\n",
    "plt.colorbar(orientation='horizontal')"
   ]
  },
  {
   "cell_type": "code",
   "execution_count": 65,
   "metadata": {},
   "outputs": [
    {
     "name": "stdout",
     "output_type": "stream",
     "text": [
      "(51, 17)\n"
     ]
    }
   ],
   "source": [
    "from crispy.tools.reduction import RL,calculateWaveList\n",
    "val,vallist,loglist,count = RL(img,psflets=psflet_subarr,prior=pixnoise,guess=vect,niter=50)\n",
    "print vallist.shape"
   ]
  },
  {
   "cell_type": "code",
   "execution_count": 66,
   "metadata": {},
   "outputs": [
    {
     "data": {
      "text/plain": [
       "<matplotlib.image.AxesImage at 0x1c1abbee50>"
      ]
     },
     "execution_count": 66,
     "metadata": {},
     "output_type": "execute_result"
    },
    {
     "data": {
      "image/png": "[encoded data removed]",
      "text/plain": [
       "<matplotlib.figure.Figure at 0x1170dacd0>"
      ]
     },
     "metadata": {},
     "output_type": "display_data"
    }
   ],
   "source": [
    "plt.figure(figsize=(10,5))\n",
    "plt.imshow(vallist.T)"
   ]
  },
  {
   "cell_type": "code",
   "execution_count": 67,
   "metadata": {},
   "outputs": [
    {
     "name": "stdout",
     "output_type": "stream",
     "text": [
      "999.740798919\n"
     ]
    },
    {
     "data": {
      "image/png": "[encoded data removed]",
      "text/plain": [
       "<matplotlib.figure.Figure at 0x1c1ab943d0>"
      ]
     },
     "metadata": {},
     "output_type": "display_data"
    }
   ],
   "source": [
    "plt.plot(val)\n",
    "print np.mean(val)"
   ]
  },
  {
   "cell_type": "code",
   "execution_count": 68,
   "metadata": {},
   "outputs": [
    {
     "data": {
      "text/plain": [
       "<matplotlib.colorbar.Colorbar at 0x1c1adfc090>"
      ]
     },
     "execution_count": 68,
     "metadata": {},
     "output_type": "execute_result"
    },
    {
     "data": {
      "image/png": "[encoded data removed]",
      "text/plain": [
       "<matplotlib.figure.Figure at 0x1161d2c90>"
      ]
     },
     "metadata": {},
     "output_type": "display_data"
    }
   ],
   "source": [
    "psflets_flat = np.reshape(psflet_subarr, (psflet_subarr.shape[0], -1))\n",
    "plt.imshow(img-np.reshape(np.dot(psflets_flat.T,val),img.shape)-pixnoise)\n",
    "plt.colorbar(orientation='horizontal')"
   ]
  }
 ],
 "metadata": {
  "kernelspec": {
   "display_name": "Python 3",
   "language": "python",
   "name": "python3"
  },
  "language_info": {
   "codemirror_mode": {
    "name": "ipython",
    "version": 3
   },
   "file_extension": ".py",
   "mimetype": "text/x-python",
   "name": "python",
   "nbconvert_exporter": "python",
   "pygments_lexer": "ipython3",
   "version": "3.6.5"
  },
  "latex_envs": {
   "LaTeX_envs_menu_present": true,
   "autoclose": false,
   "autocomplete": true,
   "bibliofile": "biblio.bib",
   "cite_by": "apalike",
   "current_citInitial": 1,
   "eqLabelWithNumbers": true,
   "eqNumInitial": 1,
   "hotkeys": {
    "equation": "Ctrl-E",
    "itemize": "Ctrl-I"
   },
   "labels_anchors": false,
   "latex_user_defs": false,
   "report_style_numbering": false,
   "user_envs_cfg": false
  },
  "toc": {
   "nav_menu": {},
   "number_sections": true,
   "sideBar": true,
   "skip_h1_title": false,
   "title_cell": "Table of Contents",
   "title_sidebar": "Contents",
   "toc_cell": false,
   "toc_position": {},
   "toc_section_display": true,
   "toc_window_display": false
  },
  "varInspector": {
   "cols": {
    "lenName": 16,
    "lenType": 16,
    "lenVar": 40
   },
   "kernels_config": {
    "python": {
     "delete_cmd_postfix": "",
     "delete_cmd_prefix": "del ",
     "library": "var_list.py",
     "varRefreshCmd": "print(var_dic_list())"
    },
    "r": {
     "delete_cmd_postfix": ") ",
     "delete_cmd_prefix": "rm(",
     "library": "var_list.r",
     "varRefreshCmd": "cat(var_dic_list()) "
    }
   },
   "types_to_exclude": [
    "module",
    "function",
    "builtin_function_or_method",
    "instance",
    "_Feature"
   ],
   "window_display": false
  }
 },
 "nbformat": 4,
 "nbformat_minor": 2
}
