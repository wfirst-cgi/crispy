{
 "cells": [
  {
   "cell_type": "code",
   "execution_count": 1,
   "metadata": {
    "ExecuteTime": {
     "end_time": "2019-05-13T13:15:16.543221Z",
     "start_time": "2019-05-13T13:15:16.140176Z"
    }
   },
   "outputs": [
    {
     "name": "stdout",
     "output_type": "stream",
     "text": [
      "Populating the interactive namespace from numpy and matplotlib\n"
     ]
    }
   ],
   "source": [
    "import numpy as np\n",
    "import glob\n",
    "import sys\n",
    "import os\n",
    "%pylab inline --no-import-all\n"
   ]
  },
  {
   "cell_type": "code",
   "execution_count": 2,
   "metadata": {
    "ExecuteTime": {
     "end_time": "2019-05-13T13:15:16.550880Z",
     "start_time": "2019-05-13T13:15:16.545607Z"
    },
    "collapsed": true
   },
   "outputs": [],
   "source": [
    "from crispy.tools.initLogger import getLogger\n",
    "log = getLogger('crispy')"
   ]
  },
  {
   "cell_type": "code",
   "execution_count": 3,
   "metadata": {
    "ExecuteTime": {
     "end_time": "2019-05-13T13:15:17.003661Z",
     "start_time": "2019-05-13T13:15:16.553739Z"
    }
   },
   "outputs": [
    {
     "data": {
      "text/plain": [
       "SIMPLE  =                    T / conforms to FITS standard                      \n",
       "BITPIX  =                    8 / array data type                                \n",
       "NAXIS   =                    0 / number of array dimensions                     \n",
       "EXTEND  =                    T                                                  \n",
       "COMMENT                                                                         \n",
       "COMMENT ************************************************************            \n",
       "COMMENT ********************** General parameters ******************            \n",
       "COMMENT ************************************************************            \n",
       "COMMENT                                                                         \n",
       "NLENS   =                  108 / # lenslets across array                        \n",
       "PITCH   =             0.000174 / Lenslet pitch (meters)                         \n",
       "INTERLAC=                  2.0 / Interlacing                                    \n",
       "PHILENS =    26.56505117707799 / Rotation angle of the lenslets (deg)           \n",
       "PIXSIZE =              1.3E-05 / Pixel size (meters)                            \n",
       "LENSAMP =                  0.5 / Lenslet sampling (lam/D)                       \n",
       "LSAMPWAV=                660.0 / Lenslet sampling wavelength (nm)               \n",
       "FWHM    =                  2.0 / FHWM of PSFLet at detector (pixels)            \n",
       "FWHMLAM =                660.0 / Wavelength at which FWHM is defined (nm)       \n",
       "NPIX    =                 1024 / Number of detector pixels                      \n",
       "BW      =                 0.18 / Bandwidth                                      \n",
       "PIXPRLAM=                  2.0 / Pixels per resolution element                  \n",
       "RESLSTSQ=                  2.0 / Nspec per Nyq. sample for lstsq extraction     \n",
       "R       =                   50 / Spectral resolution                            "
      ]
     },
     "execution_count": 3,
     "metadata": {},
     "output_type": "execute_result"
    }
   ],
   "source": [
    "os.chdir('/Users/mrizzo/IFS/crispy/crispy/WFIRST660/')\n",
    "from params import Params\n",
    "par = Params()\n",
    "par.hdr"
   ]
  },
  {
   "cell_type": "markdown",
   "metadata": {},
   "source": [
    "# Create input cube with a simple gaussian PSF"
   ]
  },
  {
   "cell_type": "code",
   "execution_count": 4,
   "metadata": {
    "ExecuteTime": {
     "end_time": "2019-05-13T13:15:18.983013Z",
     "start_time": "2019-05-13T13:15:17.006530Z"
    }
   },
   "outputs": [],
   "source": [
    "from crispy.tools.imgtools import gausspsf\n",
    "from crispy.tools.inputScene import input_star,bpgs_list\n",
    "from astropy.io import fits\n",
    "lamc=660.\n",
    "BW=0.4\n",
    "lamlist = np.arange(lamc*(1.-BW/2.),lamc*(1.+BW/2.)+5.,5)\n",
    "\n",
    "inputCube = np.ones((len(lamlist), 512, 512), dtype=float)\n",
    "inCube = fits.PrimaryHDU(inputCube)\n",
    "\n",
    "# defines the sampling of your input cube (in terms of lambda/D at lam_c wavelength)\n",
    "inCube.header['LAM_C'] = 0.66 # in microns\n",
    "inCube.header['PIXSIZE'] = 0.1 # unit is lambda/D @lam_c\n",
    "\n",
    "for i,lam in enumerate(lamlist):\n",
    "    # replace this by your spatio-spectral scene of choice\n",
    "    inCube.data[i] = gausspsf(size=512,fwhm=10*lam/lamc,offx=0.,offy=0.) # normalized gaussians"
   ]
  },
  {
   "cell_type": "markdown",
   "metadata": {},
   "source": [
    "# Pick some input spectrum"
   ]
  },
  {
   "cell_type": "code",
   "execution_count": 5,
   "metadata": {
    "ExecuteTime": {
     "end_time": "2019-05-13T13:15:19.262083Z",
     "start_time": "2019-05-13T13:15:18.985795Z"
    }
   },
   "outputs": [
    {
     "name": "stdout",
     "output_type": "stream",
     "text": [
      "           File       Name Type\n",
      "13  bpgs_14.tab  THETA-VIR  A0V\n",
      "19  bpgs_20.tab     58-AQL  A0V\n"
     ]
    },
    {
     "data": {
      "image/png": "[encoded data removed]",
      "text/plain": [
       "<matplotlib.figure.Figure at 0x10cb2a390>"
      ]
     },
     "metadata": {},
     "output_type": "display_data"
    }
   ],
   "source": [
    "# looks through a pysynphot database of stars\n",
    "spectral_type = 'A0V'\n",
    "Vmag = 23\n",
    "print(bpgs_list(spectral_type))\n",
    "spectrum = input_star('../Inputs/bpgs/bpgs_14.fits',Vmag,lamlist)\n",
    "plt.plot(lamlist,spectrum.value)\n",
    "plt.xlabel('Wavelength(nm)')\n",
    "plt.ylabel('Photon flux density\\n{:}'.format(spectrum.unit))\n",
    "plt.grid()"
   ]
  },
  {
   "cell_type": "code",
   "execution_count": 6,
   "metadata": {
    "ExecuteTime": {
     "end_time": "2019-05-13T13:15:19.280953Z",
     "start_time": "2019-05-13T13:15:19.265326Z"
    }
   },
   "outputs": [],
   "source": [
    "spec_nounits = spectrum.value\n",
    "inCube.data *= spec_nounits[:,np.newaxis,np.newaxis]"
   ]
  },
  {
   "cell_type": "code",
   "execution_count": 7,
   "metadata": {
    "ExecuteTime": {
     "end_time": "2019-05-13T13:15:19.437770Z",
     "start_time": "2019-05-13T13:15:19.285946Z"
    },
    "collapsed": true
   },
   "outputs": [],
   "source": [
    "inCube.writeto('/Users/mrizzo/Downloads/testinputcube.fits',overwrite=True)"
   ]
  },
  {
   "cell_type": "markdown",
   "metadata": {},
   "source": [
    "Note that this cube still needs to be multiplied by the effective area function for the coronagraph."
   ]
  },
  {
   "cell_type": "markdown",
   "metadata": {},
   "source": [
    "# Propagate"
   ]
  },
  {
   "cell_type": "code",
   "execution_count": 8,
   "metadata": {
    "ExecuteTime": {
     "end_time": "2019-05-13T13:16:26.229314Z",
     "start_time": "2019-05-13T13:15:19.440638Z"
    }
   },
   "outputs": [
    {
     "name": "stdout",
     "output_type": "stream",
     "text": [
      "crispy - INFO - The number of input pixels per lenslet is 5.000000\n",
      "crispy - INFO - Using PSFlet gaussian approximation\n",
      "crispy - WARNING - Assuming slices are evenly spread in wavelengths\n",
      "crispy - INFO - Creating Gaussian PSFLet templates\n",
      "crispy - INFO - Writing data to ..//SimResults/imagePlaneRot.fits\n",
      "crispy - INFO - Writing data to ..//SimResults/detectorFramepoly.fits\n",
      "crispy - INFO - Writing data to ..//SimResults/detectorFrame.fits\n",
      "crispy - INFO - Done.\n",
      "crispy - INFO - Performance: 66 seconds total\n",
      "..//SimResults/imagePlaneRot.fits is the input cube at the lenslet array\n",
      "..//SimResults/detectorFramepoly.fits is the wavelength-resolved detector cube\n",
      "..//SimResults/detectorFrame.fits is the detector image (the flattening of the cube)\n"
     ]
    }
   ],
   "source": [
    "from crispy.IFS import polychromeIFS\n",
    "dlam = lamlist[1]-lamlist[0]\n",
    "par.saveRotatedInput=True\n",
    "# this integrates over wavelength and converts photons to electrons\n",
    "# still need to multiply by some effective area ahead of time to get electrons per second\n",
    "detectorFrame = polychromeIFS(\n",
    "                            par,\n",
    "                            lamlist,\n",
    "                            inCube,\n",
    "                            dlambda=dlam,\n",
    "                            parallel=True,\n",
    "                            lam_arr=lamlist)\n",
    "\n",
    "print('..//SimResults/imagePlaneRot.fits is the input cube at the lenslet array')\n",
    "print('..//SimResults/detectorFramepoly.fits is the wavelength-resolved detector cube')\n",
    "print('..//SimResults/detectorFrame.fits is the detector image (the flattening of the cube)')"
   ]
  }
 ],
 "metadata": {
  "kernelspec": {
   "display_name": "Python 2",
   "language": "python",
   "name": "python2"
  },
  "language_info": {
   "codemirror_mode": {
    "name": "ipython",
    "version": 2
   },
   "file_extension": ".py",
   "mimetype": "text/x-python",
   "name": "python",
   "nbconvert_exporter": "python",
   "pygments_lexer": "ipython2",
   "version": "2.7.15"
  },
  "latex_envs": {
   "LaTeX_envs_menu_present": true,
   "autoclose": false,
   "autocomplete": true,
   "bibliofile": "biblio.bib",
   "cite_by": "apalike",
   "current_citInitial": 1,
   "eqLabelWithNumbers": true,
   "eqNumInitial": 1,
   "hotkeys": {
    "equation": "Ctrl-E",
    "itemize": "Ctrl-I"
   },
   "labels_anchors": false,
   "latex_user_defs": false,
   "report_style_numbering": false,
   "user_envs_cfg": false
  },
  "toc": {
   "nav_menu": {},
   "number_sections": true,
   "sideBar": true,
   "skip_h1_title": false,
   "title_cell": "Table of Contents",
   "title_sidebar": "Contents",
   "toc_cell": false,
   "toc_position": {},
   "toc_section_display": true,
   "toc_window_display": true
  },
  "varInspector": {
   "cols": {
    "lenName": 16,
    "lenType": 16,
    "lenVar": 40
   },
   "kernels_config": {
    "python": {
     "delete_cmd_postfix": "",
     "delete_cmd_prefix": "del ",
     "library": "var_list.py",
     "varRefreshCmd": "print(var_dic_list())"
    },
    "r": {
     "delete_cmd_postfix": ") ",
     "delete_cmd_prefix": "rm(",
     "library": "var_list.r",
     "varRefreshCmd": "cat(var_dic_list()) "
    }
   },
   "types_to_exclude": [
    "module",
    "function",
    "builtin_function_or_method",
    "instance",
    "_Feature"
   ],
   "window_display": false
  }
 },
 "nbformat": 4,
 "nbformat_minor": 2
}
